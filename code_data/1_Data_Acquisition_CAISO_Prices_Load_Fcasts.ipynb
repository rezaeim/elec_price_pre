{
 "cells": [
  {
   "cell_type": "markdown",
   "metadata": {},
   "source": [
    "---\n",
    "\n",
    "## Import modules and classes"
   ]
  },
  {
   "cell_type": "code",
   "execution_count": 1,
   "metadata": {},
   "outputs": [],
   "source": [
    "import wget, os, zipfile\n",
    "import time"
   ]
  },
  {
   "cell_type": "markdown",
   "metadata": {},
   "source": [
    "---\n",
    "\n",
    "## Functions to Construct Queries\n",
    "\n",
    "(for Accessing CAISO OASIS API)"
   ]
  },
  {
   "cell_type": "code",
   "execution_count": null,
   "metadata": {
    "cell_style": "center",
    "code_folding": [
     0
    ]
   },
   "outputs": [],
   "source": [
    "# Function to construct a one-month electricity Day-Ahead-Market\n",
    "#    data query for the CAISO OASIS API\n",
    "\n",
    "# Parameters (all strings):\n",
    "#    node                       name of node\n",
    "#    startyear, startmonth\n",
    "\n",
    "\n",
    "def create_DAM_query(node, startyear, startmonth):\n",
    "    oasis_website = 'oasis.caiso.com'\n",
    "    context_path  = 'oasisapi'\n",
    "\n",
    "    url = f'http://{oasis_website}/{context_path}/SingleZip'\n",
    "\n",
    "    resultformat  =  '6'\n",
    "    queryname     =  'PRC_LMP'\n",
    "    version       =  '1'\n",
    "    market_run_id =  'DAM'\n",
    "    \n",
    "    if startmonth == '12':\n",
    "        endmonth  =  '01'\n",
    "        endyear   =  f'{int(startyear) + 1}'\n",
    "    else:\n",
    "        endmonth  =  f'{(int(startmonth) + 1):02d}'\n",
    "        endyear   =  startyear\n",
    "\n",
    "    startdatetime =  f'{startyear}{startmonth}01T08:00-0000'\n",
    "    enddatetime   =  f'{endyear}{endmonth}01T07:00-0000'\n",
    "\n",
    "    query = f'{url}?resultformat={resultformat}&queryname={queryname}\\\n",
    "&version={version}&startdatetime={startdatetime}&enddatetime={enddatetime}\\\n",
    "&market_run_id={market_run_id}&node={node}'\n",
    "    \n",
    "    return query"
   ]
  },
  {
   "cell_type": "code",
   "execution_count": null,
   "metadata": {
    "cell_style": "center",
    "code_folding": [
     0
    ]
   },
   "outputs": [],
   "source": [
    "# Function to construct a one-month electricity Hour-Ahead-Scheduling-Process\n",
    "#    data query for the CAISO OASIS API\n",
    "\n",
    "# Parameters (all strings):\n",
    "#    node                       name of node\n",
    "#    startyear, startmonth\n",
    "\n",
    "\n",
    "def create_HASP_query(node, startyear, startmonth):\n",
    "    oasis_website = 'oasis.caiso.com'\n",
    "    context_path  = 'oasisapi'\n",
    "\n",
    "    url = f'http://{oasis_website}/{context_path}/SingleZip'\n",
    "\n",
    "    resultformat  =  '6'\n",
    "    queryname     =  'PRC_HASP_LMP'\n",
    "    version       =  '3'\n",
    "    market_run_id =  'HASP'\n",
    "    \n",
    "    if startmonth == '12':\n",
    "        endmonth  =  '01'\n",
    "        endyear   =  f'{int(startyear) + 1}'\n",
    "    else:\n",
    "        endmonth  =  f'{(int(startmonth) + 1):02d}'\n",
    "        endyear   =  startyear\n",
    "\n",
    "    startdatetime =  f'{startyear}{startmonth}01T08:00-0000'\n",
    "    enddatetime   =  f'{endyear}{endmonth}01T07:00-0000'\n",
    "\n",
    "    query = f'{url}?resultformat={resultformat}&queryname={queryname}\\\n",
    "&version={version}&startdatetime={startdatetime}&enddatetime={enddatetime}\\\n",
    "&market_run_id={market_run_id}&node={node}'\n",
    "    \n",
    "    return query"
   ]
  },
  {
   "cell_type": "code",
   "execution_count": null,
   "metadata": {
    "cell_style": "center",
    "code_folding": []
   },
   "outputs": [],
   "source": [
    "# Function to construct a GENERIC one-month .csv LMP price download\n",
    "#    data query for the CAISO OASIS API\n",
    "\n",
    "# Parameters (all strings):\n",
    "#    node                       name of node\n",
    "#    startyear, startmonth\n",
    "\n",
    "\n",
    "def price_query(queryname, version, startyear, startmonth, market_run_id, node):\n",
    "    oasis_website = 'oasis.caiso.com'\n",
    "    context_path  = 'oasisapi'\n",
    "\n",
    "    url = f'http://{oasis_website}/{context_path}/SingleZip'\n",
    "\n",
    "    resultformat  =  '6'\n",
    "    \n",
    "    if startmonth == '12':\n",
    "        endmonth  =  '01'\n",
    "        endyear   =  f'{int(startyear) + 1}'\n",
    "    else:\n",
    "        endmonth  =  f'{(int(startmonth) + 1):02d}'\n",
    "        endyear   =  startyear\n",
    "\n",
    "    startdatetime =  f'{startyear}{startmonth}01T08:00-0000'\n",
    "    enddatetime   =  f'{endyear}{endmonth}01T07:00-0000'\n",
    "\n",
    "    query = f'{url}?resultformat={resultformat}&queryname={queryname}&version={version}\\\n",
    "&startdatetime={startdatetime}&enddatetime={enddatetime}\\\n",
    "&market_run_id={market_run_id}&node={node}'\n",
    "    \n",
    "    return query"
   ]
  },
  {
   "cell_type": "code",
   "execution_count": null,
   "metadata": {},
   "outputs": [],
   "source": [
    "# Function to construct a GENERIC one-month .csv load (demand) forecast\n",
    "#    download data query for the CAISO OASIS API\n",
    "\n",
    "# Parameters (all strings):\n",
    "#    startyear, startmonth\n",
    "\n",
    "\n",
    "def load_query(queryname, version, startyear, startmonth, market_run_id):\n",
    "    oasis_website = 'oasis.caiso.com'\n",
    "    context_path  = 'oasisapi'\n",
    "\n",
    "    url = f'http://{oasis_website}/{context_path}/SingleZip'\n",
    "\n",
    "    resultformat  =  '6'\n",
    "    \n",
    "    if startmonth == '12':\n",
    "        endmonth  =  '01'\n",
    "        endyear   =  f'{int(startyear) + 1}'\n",
    "    else:\n",
    "        endmonth  =  f'{(int(startmonth) + 1):02d}'\n",
    "        endyear   =  startyear\n",
    "\n",
    "    startdatetime =  f'{startyear}{startmonth}01T08:00-0000'\n",
    "    enddatetime   =  f'{endyear}{endmonth}01T07:00-0000'\n",
    "\n",
    "    query = f'{url}?resultformat={resultformat}&queryname={queryname}&version={version}\\\n",
    "&market_run_id={market_run_id}&startdatetime={startdatetime}&enddatetime={enddatetime}'\n",
    "    \n",
    "    return query"
   ]
  },
  {
   "cell_type": "markdown",
   "metadata": {},
   "source": [
    "---\n",
    "\n",
    "## Get Energy Price Zipfiles \n",
    "\n",
    "(from CAISO OASIS website via API)"
   ]
  },
  {
   "cell_type": "code",
   "execution_count": null,
   "metadata": {
    "code_folding": []
   },
   "outputs": [],
   "source": [
    "node = '0096WD_7_N001'\n",
    "\n",
    "for i in range(1, 12):\n",
    "    if i % 12 == 0:\n",
    "        startyear  = str(2019 + i//12 - 1)\n",
    "        startmonth = f'{12:02d}'\n",
    "    else:\n",
    "        startyear  = str(2016 + i//12)\n",
    "        startmonth = f'{i%12:02d}'\n",
    "    \n",
    "    wget.download(price_query('PRC_LMP',\n",
    "                              '3',\n",
    "                              startyear,\n",
    "                              startmonth,\n",
    "                              'DAM',\n",
    "                              node), '../raw_data/caiso_downloads/caiso_dam_dl/')\n",
    "    time.sleep(5)\n",
    "    \n",
    "    wget.download(price_query('PRC_HASP_LMP',\n",
    "                              '3',\n",
    "                              startyear,\n",
    "                              startmonth,\n",
    "                              'HASP',\n",
    "                              node), '../raw_data/caiso_downloads/caiso_hasp_dl/')\n",
    "    time.sleep(5)\n",
    "    \n",
    "    wget.download(price_query('PRC_INTVL_LMP',\n",
    "                              '3',\n",
    "                              startyear,\n",
    "                              startmonth,\n",
    "                              'RTM',\n",
    "                              node), '../raw_data/caiso_downloads/caiso_rtm_dl/')\n",
    "    time.sleep(5)"
   ]
  },
  {
   "cell_type": "code",
   "execution_count": 17,
   "metadata": {
    "code_folding": []
   },
   "outputs": [
    {
     "name": "stdout",
     "output_type": "stream",
     "text": [
      "-1 / unknown"
     ]
    }
   ],
   "source": [
    "for i in range(1, 12):\n",
    "    if i % 12 == 0:\n",
    "        startyear  = str(2019 + i//12 - 1)\n",
    "        startmonth = f'{12:02d}'\n",
    "    else:\n",
    "        startyear  = str(2019 + i//12)\n",
    "        startmonth = f'{i%12:02d}'\n",
    "    \n",
    "    wget.download(load_query('SLD_FCST',\n",
    "                             '1',\n",
    "                             startyear,\n",
    "                             startmonth,\n",
    "                             '7DA',\n",
    "                            ), '../raw_data/caiso_downloads/caiso_7da_load_dl/')\n",
    "    time.sleep(5)    \n",
    "    \n",
    "    wget.download(load_query('SLD_FCST',\n",
    "                             '1',\n",
    "                             startyear,\n",
    "                             startmonth,\n",
    "                             '2DA',\n",
    "                            ), '../raw_data/caiso_downloads/caiso_2da_load_dl/')\n",
    "    time.sleep(5)    \n",
    "    \n",
    "    \n",
    "    wget.download(load_query('SLD_FCST',\n",
    "                             '1',\n",
    "                             startyear,\n",
    "                             startmonth,\n",
    "                             'DAM',\n",
    "                            ), '../raw_data/caiso_downloads/caiso_dam_load_dl/')\n",
    "    time.sleep(5)    \n",
    "    \n",
    "    wget.download(load_query('SLD_FCST',\n",
    "                             '1',\n",
    "                             startyear,\n",
    "                             startmonth,\n",
    "                             'RTM',\n",
    "                            ), '../raw_data/caiso_downloads/caiso_rtm_load_dl/')\n",
    "    time.sleep(5)    "
   ]
  },
  {
   "cell_type": "code",
   "execution_count": null,
   "metadata": {
    "code_folding": [
     0
    ]
   },
   "outputs": [],
   "source": [
    "# Single month download cell\n",
    "\n",
    "caiso_dam_dl =  '../raw_data/caiso_downloads/caiso_dam_dl/'\n",
    "caiso_hasp_dl = '../raw_data/caiso_downloads/caiso_hasp_dl/'\n",
    "\n",
    "node = '0096WD_7_N001'\n",
    "\n",
    "startyear  = '2019'\n",
    "startmonth = '05'\n",
    "\n",
    "wget.download(create_DAM_query(node, startyear, startmonth), caiso_dam_dl)\n",
    "time.sleep(10)\n",
    "wget.download(create_HASP_query(node, startyear, startmonth), caiso_hasp_dl)"
   ]
  },
  {
   "cell_type": "markdown",
   "metadata": {},
   "source": [
    "---\n",
    "\n",
    "## Unzip Downloaded CAISO Files\n",
    "\n",
    "(to .csv Directories)"
   ]
  },
  {
   "cell_type": "code",
   "execution_count": 18,
   "metadata": {},
   "outputs": [],
   "source": [
    "unzipped_caiso_dam = '../raw_data/unzipped_caiso/unzipped_caiso_dam/'\n",
    "unzipped_caiso_hasp = '../raw_data/unzipped_caiso/unzipped_caiso_hasp/'\n",
    "\n",
    "\n",
    "caiso_dam_dl = '../raw_data/caiso_downloads/caiso_dam_dl/'\n",
    "caiso_hasp_dl = '../raw_data/caiso_downloads/caiso_hasp_dl/'\n"
   ]
  },
  {
   "cell_type": "code",
   "execution_count": 33,
   "metadata": {},
   "outputs": [
    {
     "name": "stdout",
     "output_type": "stream",
     "text": [
      "unzipping... ../raw_data/caiso_downloads/caiso_dam_dl/20190505_20190506_SLD_FCST_DAM_20220616_09_38_36_v1.zip\n"
     ]
    }
   ],
   "source": [
    "for item in os.listdir(caiso_dam_dl):           # loop through items in dir\n",
    "    if item.split('.')[-1] == 'zip':            # check for zip extension\n",
    "        file_name = f'{caiso_dam_dl}{item}'     # get relative path of files\n",
    "        print(f'unzipping... {file_name}')\n",
    "        zip_ref = zipfile.ZipFile(file_name)    # create zipfile object\n",
    "        with zip_ref as target:\n",
    "            target.extractall(unzipped_caiso_dam)\n",
    "    else: continue"
   ]
  },
  {
   "cell_type": "code",
   "execution_count": 20,
   "metadata": {},
   "outputs": [
    {
     "name": "stdout",
     "output_type": "stream",
     "text": [
      "unzipping... ../raw_data/caiso_downloads/caiso_hasp_dl/20190301_20190401_PRC_HASP_LMP_HASP_20220616_07_26_11_v3.zip\n",
      "unzipping... ../raw_data/caiso_downloads/caiso_hasp_dl/20190701_20190801_PRC_HASP_LMP_HASP_20220616_07_44_53_v3.zip\n",
      "unzipping... ../raw_data/caiso_downloads/caiso_hasp_dl/20190101_20190131_PRC_HASP_LMP_HASP_20220616_07_25_40_v3.xml.zip\n",
      "unzipping... ../raw_data/caiso_downloads/caiso_hasp_dl/20191001_20191101_PRC_HASP_LMP_HASP_20220616_07_59_15_v3.zip\n",
      "unzipping... ../raw_data/caiso_downloads/caiso_hasp_dl/20190401_20190501_PRC_HASP_LMP_HASP_20220616_07_30_41_v3.zip\n",
      "unzipping... ../raw_data/caiso_downloads/caiso_hasp_dl/20190601_20190701_PRC_HASP_LMP_HASP_20220616_07_40_43_v3.zip\n",
      "unzipping... ../raw_data/caiso_downloads/caiso_hasp_dl/20190901_20191001_PRC_HASP_LMP_HASP_20220616_07_54_20_v3.zip\n",
      "unzipping... ../raw_data/caiso_downloads/caiso_hasp_dl/20190501_20190601_PRC_HASP_LMP_HASP_20220616_07_35_53_v3.zip\n",
      "unzipping... ../raw_data/caiso_downloads/caiso_hasp_dl/20190801_20190901_PRC_HASP_LMP_HASP_20220616_07_49_25_v3.zip\n",
      "unzipping... ../raw_data/caiso_downloads/caiso_hasp_dl/20190201_20190228_PRC_HASP_LMP_HASP_20220616_07_25_55_v3.xml.zip\n"
     ]
    }
   ],
   "source": [
    "for item in os.listdir(caiso_hasp_dl):           # loop through items in dir\n",
    "    if item.split('.')[-1] == 'zip':            # check for zip extension\n",
    "        file_name = f'{caiso_hasp_dl}{item}'     # get relative path of files\n",
    "        print(f'unzipping... {file_name}')\n",
    "        zip_ref = zipfile.ZipFile(file_name)    # create zipfile object\n",
    "        with zip_ref as target:\n",
    "            target.extractall(unzipped_caiso_hasp)\n",
    "    else: continue"
   ]
  },
  {
   "cell_type": "code",
   "execution_count": 21,
   "metadata": {},
   "outputs": [],
   "source": [
    "download_dir = '../raw_data/caiso_downloads/'\n",
    "unzipped_target_dir = '../raw_data/unzipped_caiso/unzipped_caiso_rtm/'\n",
    "\n",
    "for item in os.listdir(download_dir):           # loop through items in dir\n",
    "    if item.split('.')[-1] == 'zip':            # check for zip extension\n",
    "        file_name = f'{download_dir}{item}'     # get relative path of files\n",
    "        print(f'unzipping... {file_name}')\n",
    "        zip_ref = zipfile.ZipFile(file_name)    # create zipfile object\n",
    "        with zip_ref as target:\n",
    "            target.extractall(unzipped_target_dir)\n",
    "    else: continue"
   ]
  },
  {
   "cell_type": "code",
   "execution_count": 22,
   "metadata": {},
   "outputs": [],
   "source": [
    "def unzip_dir(download_dir, unzipped_target_dir):\n",
    "    for item in os.listdir(download_dir):           # loop through items in dir\n",
    "        if item.split('.')[-1] == 'zip':            # check for zip extension\n",
    "            file_name = f'{download_dir}{item}'     # get relative path of files\n",
    "            print(f'unzipping... {file_name}')\n",
    "            zip_ref = zipfile.ZipFile(file_name)    # create zipfile object\n",
    "            with zip_ref as target:\n",
    "                target.extractall(unzipped_target_dir)\n",
    "        else: continue"
   ]
  },
  {
   "cell_type": "code",
   "execution_count": 23,
   "metadata": {},
   "outputs": [
    {
     "name": "stdout",
     "output_type": "stream",
     "text": [
      "unzipping... ../raw_data/caiso_downloads/caiso_7da_load_dl/20190901_20191001_SLD_FCST_7DA_20220616_08_35_22_v1.zip\n",
      "unzipping... ../raw_data/caiso_downloads/caiso_7da_load_dl/20190601_20190701_SLD_FCST_7DA_20220616_08_33_40_v1.zip\n",
      "unzipping... ../raw_data/caiso_downloads/caiso_7da_load_dl/20191001_20191101_SLD_FCST_7DA_20220616_08_29_40_v1.zip\n",
      "unzipping... ../raw_data/caiso_downloads/caiso_7da_load_dl/20190701_20190801_SLD_FCST_7DA_20220616_08_34_12_v1.zip\n",
      "unzipping... ../raw_data/caiso_downloads/caiso_7da_load_dl/20190401_20190501_SLD_FCST_7DA_20220616_08_26_17_v1.zip\n",
      "unzipping... ../raw_data/caiso_downloads/caiso_7da_load_dl/20190701_20190801_SLD_FCST_7DA_20220616_08_27_59_v1.zip\n",
      "unzipping... ../raw_data/caiso_downloads/caiso_7da_load_dl/20190601_20190701_SLD_FCST_7DA_20220616_08_27_25_v1.zip\n",
      "unzipping... ../raw_data/caiso_downloads/caiso_7da_load_dl/20190401_20190501_SLD_FCST_7DA_20220616_08_32_33_v1.zip\n",
      "unzipping... ../raw_data/caiso_downloads/caiso_7da_load_dl/20190101_20190131_SLD_FCST_7DA_20220616_08_24_39_v1.zip\n",
      "unzipping... ../raw_data/caiso_downloads/caiso_7da_load_dl/20190201_20190228_SLD_FCST_7DA_20220616_08_31_24_v1.zip\n",
      "unzipping... ../raw_data/caiso_downloads/caiso_7da_load_dl/20190501_20190601_SLD_FCST_7DA_20220616_08_26_51_v1.zip\n",
      "unzipping... ../raw_data/caiso_downloads/caiso_7da_load_dl/20191101_20191130_SLD_FCST_7DA_20220616_08_30_15_v1.zip\n",
      "unzipping... ../raw_data/caiso_downloads/caiso_7da_load_dl/20190501_20190601_SLD_FCST_7DA_20220616_08_33_07_v1.zip\n",
      "unzipping... ../raw_data/caiso_downloads/caiso_7da_load_dl/20190301_20190401_SLD_FCST_7DA_20220616_08_25_43_v1.zip\n",
      "unzipping... ../raw_data/caiso_downloads/caiso_7da_load_dl/20191001_20191101_SLD_FCST_7DA_20220616_08_35_54_v1.zip\n",
      "unzipping... ../raw_data/caiso_downloads/caiso_7da_load_dl/20190801_20190901_SLD_FCST_7DA_20220616_08_34_48_v1.zip\n",
      "unzipping... ../raw_data/caiso_downloads/caiso_7da_load_dl/20190101_20190131_SLD_FCST_7DA_20220616_08_30_49_v1.zip\n",
      "unzipping... ../raw_data/caiso_downloads/caiso_7da_load_dl/20190201_20190228_SLD_FCST_7DA_20220616_08_25_11_v1.zip\n",
      "unzipping... ../raw_data/caiso_downloads/caiso_7da_load_dl/20191101_20191130_SLD_FCST_7DA_20220616_08_36_27_v1.zip\n",
      "unzipping... ../raw_data/caiso_downloads/caiso_7da_load_dl/20190301_20190401_SLD_FCST_7DA_20220616_08_31_57_v1.zip\n",
      "unzipping... ../raw_data/caiso_downloads/caiso_7da_load_dl/20190901_20191001_SLD_FCST_7DA_20220616_08_29_06_v1.zip\n",
      "unzipping... ../raw_data/caiso_downloads/caiso_7da_load_dl/20190801_20190901_SLD_FCST_7DA_20220616_08_28_32_v1.zip\n"
     ]
    }
   ],
   "source": [
    "unzip_dir('../raw_data/caiso_downloads/caiso_7da_load_dl/',\n",
    "          '../raw_data/unzipped_caiso/unzipped_caiso_7da_load/')"
   ]
  },
  {
   "cell_type": "code",
   "execution_count": 24,
   "metadata": {},
   "outputs": [
    {
     "name": "stdout",
     "output_type": "stream",
     "text": [
      "unzipping... ../raw_data/caiso_downloads/caiso_2da_load_dl/20190801_20190901_SLD_FCST_2DA_20220616_08_34_54_v1.zip\n",
      "unzipping... ../raw_data/caiso_downloads/caiso_2da_load_dl/20190101_20190131_SLD_FCST_2DA_20220616_08_30_55_v1.zip\n",
      "unzipping... ../raw_data/caiso_downloads/caiso_2da_load_dl/20191001_20191101_SLD_FCST_2DA_20220616_08_36_00_v1.zip\n",
      "unzipping... ../raw_data/caiso_downloads/caiso_2da_load_dl/20190301_20190401_SLD_FCST_2DA_20220616_08_25_49_v1.zip\n",
      "unzipping... ../raw_data/caiso_downloads/caiso_2da_load_dl/20190101_20190131_SLD_FCST_2DA_20220616_08_24_45_v1.zip\n",
      "unzipping... ../raw_data/caiso_downloads/caiso_2da_load_dl/20190501_20190601_SLD_FCST_2DA_20220616_08_33_13_v1.zip\n",
      "unzipping... ../raw_data/caiso_downloads/caiso_2da_load_dl/20190301_20190401_SLD_FCST_2DA_20220616_08_32_03_v1.zip\n",
      "unzipping... ../raw_data/caiso_downloads/caiso_2da_load_dl/20190901_20191001_SLD_FCST_2DA_20220616_08_29_12_v1.zip\n",
      "unzipping... ../raw_data/caiso_downloads/caiso_2da_load_dl/20190601_20190701_SLD_FCST_2DA_20220616_08_27_32_v1.zip\n",
      "unzipping... ../raw_data/caiso_downloads/caiso_2da_load_dl/20190201_20190228_SLD_FCST_2DA_20220616_08_31_31_v1.zip\n",
      "unzipping... ../raw_data/caiso_downloads/caiso_2da_load_dl/20191101_20191130_SLD_FCST_2DA_20220616_08_30_21_v1.zip\n",
      "unzipping... ../raw_data/caiso_downloads/caiso_2da_load_dl/20190801_20190901_SLD_FCST_2DA_20220616_08_28_38_v1.zip\n",
      "unzipping... ../raw_data/caiso_downloads/caiso_2da_load_dl/20190201_20190228_SLD_FCST_2DA_20220616_08_25_17_v1.zip\n",
      "unzipping... ../raw_data/caiso_downloads/caiso_2da_load_dl/20190401_20190501_SLD_FCST_2DA_20220616_08_26_23_v1.zip\n",
      "unzipping... ../raw_data/caiso_downloads/caiso_2da_load_dl/20190701_20190801_SLD_FCST_2DA_20220616_08_34_18_v1.zip\n",
      "unzipping... ../raw_data/caiso_downloads/caiso_2da_load_dl/20191001_20191101_SLD_FCST_2DA_20220616_08_29_46_v1.zip\n",
      "unzipping... ../raw_data/caiso_downloads/caiso_2da_load_dl/20191101_20191130_SLD_FCST_2DA_20220616_08_36_34_v1.zip\n",
      "unzipping... ../raw_data/caiso_downloads/caiso_2da_load_dl/20190601_20190701_SLD_FCST_2DA_20220616_08_33_46_v1.zip\n",
      "unzipping... ../raw_data/caiso_downloads/caiso_2da_load_dl/20190901_20191001_SLD_FCST_2DA_20220616_08_35_28_v1.zip\n",
      "unzipping... ../raw_data/caiso_downloads/caiso_2da_load_dl/20190501_20190601_SLD_FCST_2DA_20220616_08_26_57_v1.zip\n",
      "unzipping... ../raw_data/caiso_downloads/caiso_2da_load_dl/20190701_20190801_SLD_FCST_2DA_20220616_08_28_05_v1.zip\n",
      "unzipping... ../raw_data/caiso_downloads/caiso_2da_load_dl/20190401_20190501_SLD_FCST_2DA_20220616_08_32_39_v1.zip\n"
     ]
    }
   ],
   "source": [
    "unzip_dir('../raw_data/caiso_downloads/caiso_2da_load_dl/',\n",
    "          '../raw_data/unzipped_caiso/unzipped_caiso_2da_load/')"
   ]
  },
  {
   "cell_type": "code",
   "execution_count": 25,
   "metadata": {},
   "outputs": [
    {
     "name": "stdout",
     "output_type": "stream",
     "text": [
      "unzipping... ../raw_data/caiso_downloads/caiso_dam_load_dl/20191001_20191101_SLD_FCST_DAM_20220616_08_29_52_v1.zip\n",
      "unzipping... ../raw_data/caiso_downloads/caiso_dam_load_dl/20190101_20190131_SLD_FCST_DAM_20220616_08_31_03_v1.zip\n",
      "unzipping... ../raw_data/caiso_downloads/caiso_dam_load_dl/20190601_20190701_SLD_FCST_DAM_20220616_08_33_52_v1.zip\n",
      "unzipping... ../raw_data/caiso_downloads/caiso_dam_load_dl/20190501_20190601_SLD_FCST_DAM_20220616_08_27_04_v1.zip\n",
      "unzipping... ../raw_data/caiso_downloads/caiso_dam_load_dl/20190801_20190901_SLD_FCST_DAM_20220616_08_28_44_v1.zip\n",
      "unzipping... ../raw_data/caiso_downloads/caiso_dam_load_dl/20191001_20191101_SLD_FCST_DAM_20220616_08_36_07_v1.zip\n",
      "unzipping... ../raw_data/caiso_downloads/caiso_dam_load_dl/20190701_20190801_SLD_FCST_DAM_20220616_08_28_11_v1.zip\n",
      "unzipping... ../raw_data/caiso_downloads/caiso_dam_load_dl/20190901_20191001_SLD_FCST_DAM_20220616_08_35_34_v1.zip\n",
      "unzipping... ../raw_data/caiso_downloads/caiso_dam_load_dl/20190301_20190401_SLD_FCST_DAM_20220616_08_25_56_v1.zip\n",
      "unzipping... ../raw_data/caiso_downloads/caiso_dam_load_dl/20190901_20191001_SLD_FCST_DAM_20220616_08_29_19_v1.zip\n",
      "unzipping... ../raw_data/caiso_downloads/caiso_dam_load_dl/20190501_20190601_SLD_FCST_DAM_20220616_08_33_19_v1.zip\n",
      "unzipping... ../raw_data/caiso_downloads/caiso_dam_load_dl/20190101_20190131_SLD_FCST_DAM_20220616_08_24_51_v1.zip\n",
      "unzipping... ../raw_data/caiso_downloads/caiso_dam_load_dl/20190401_20190501_SLD_FCST_DAM_20220616_08_32_45_v1.zip\n",
      "unzipping... ../raw_data/caiso_downloads/caiso_dam_load_dl/20190801_20190901_SLD_FCST_DAM_20220616_08_35_01_v1.zip\n",
      "unzipping... ../raw_data/caiso_downloads/caiso_dam_load_dl/20190701_20190801_SLD_FCST_DAM_20220616_08_34_25_v1.zip\n",
      "unzipping... ../raw_data/caiso_downloads/caiso_dam_load_dl/20191101_20191130_SLD_FCST_DAM_20220616_08_36_40_v1.zip\n",
      "unzipping... ../raw_data/caiso_downloads/caiso_dam_load_dl/20190201_20190228_SLD_FCST_DAM_20220616_08_25_23_v1.zip\n",
      "unzipping... ../raw_data/caiso_downloads/caiso_dam_load_dl/20190201_20190228_SLD_FCST_DAM_20220616_08_31_37_v1.zip\n",
      "unzipping... ../raw_data/caiso_downloads/caiso_dam_load_dl/20191101_20191130_SLD_FCST_DAM_20220616_08_30_27_v1.zip\n",
      "unzipping... ../raw_data/caiso_downloads/caiso_dam_load_dl/20190301_20190401_SLD_FCST_DAM_20220616_08_32_09_v1.zip\n",
      "unzipping... ../raw_data/caiso_downloads/caiso_dam_load_dl/20190601_20190701_SLD_FCST_DAM_20220616_08_27_38_v1.zip\n",
      "unzipping... ../raw_data/caiso_downloads/caiso_dam_load_dl/20190401_20190501_SLD_FCST_DAM_20220616_08_26_30_v1.zip\n"
     ]
    }
   ],
   "source": [
    "unzip_dir('../raw_data/caiso_downloads/caiso_dam_load_dl/',\n",
    "          '../raw_data/unzipped_caiso/unzipped_caiso_dam_load/')"
   ]
  },
  {
   "cell_type": "code",
   "execution_count": 28,
   "metadata": {},
   "outputs": [
    {
     "name": "stdout",
     "output_type": "stream",
     "text": [
      "unzipping... ../raw_data/caiso_downloads/caiso_rtm_load_dl/20190401_20190501_SLD_FCST_RTM_20220616_08_26_36_v1.zip\n",
      "unzipping... ../raw_data/caiso_downloads/caiso_rtm_load_dl/20190901_20191001_SLD_FCST_RTM_20220616_08_35_40_v1.zip\n",
      "unzipping... ../raw_data/caiso_downloads/caiso_rtm_load_dl/20191101_20191130_SLD_FCST_RTM_20220616_08_36_46_v1.zip\n",
      "unzipping... ../raw_data/caiso_downloads/caiso_rtm_load_dl/20191001_20191101_SLD_FCST_RTM_20220616_08_36_12_v1.zip\n",
      "unzipping... ../raw_data/caiso_downloads/caiso_rtm_load_dl/20190801_20190901_SLD_FCST_RTM_20220616_08_35_07_v1.zip\n",
      "unzipping... ../raw_data/caiso_downloads/caiso_rtm_load_dl/20190301_20190401_SLD_FCST_RTM_20220616_08_32_15_v1.zip\n",
      "unzipping... ../raw_data/caiso_downloads/caiso_rtm_load_dl/20191001_20191101_SLD_FCST_RTM_20220616_08_29_59_v1.zip\n",
      "unzipping... ../raw_data/caiso_downloads/caiso_rtm_load_dl/20190401_20190501_SLD_FCST_RTM_20220616_08_32_51_v1.zip\n",
      "unzipping... ../raw_data/caiso_downloads/caiso_rtm_load_dl/20190501_20190601_SLD_FCST_RTM_20220616_08_33_25_v1.zip\n",
      "unzipping... ../raw_data/caiso_downloads/caiso_rtm_load_dl/20190101_20190131_SLD_FCST_RTM_20220616_08_24_57_v1.zip\n",
      "unzipping... ../raw_data/caiso_downloads/caiso_rtm_load_dl/20190201_20190228_SLD_FCST_RTM_20220616_08_25_30_v1.zip\n",
      "unzipping... ../raw_data/caiso_downloads/caiso_rtm_load_dl/20190301_20190401_SLD_FCST_RTM_20220616_08_26_02_v1.zip\n",
      "unzipping... ../raw_data/caiso_downloads/caiso_rtm_load_dl/20190701_20190801_SLD_FCST_RTM_20220616_08_28_17_v1.zip\n",
      "unzipping... ../raw_data/caiso_downloads/caiso_rtm_load_dl/20190901_20191001_SLD_FCST_RTM_20220616_08_29_25_v1.zip\n",
      "unzipping... ../raw_data/caiso_downloads/caiso_rtm_load_dl/20190201_20190228_SLD_FCST_RTM_20220616_08_31_43_v1.zip\n",
      "unzipping... ../raw_data/caiso_downloads/caiso_rtm_load_dl/20190601_20190701_SLD_FCST_RTM_20220616_08_27_44_v1.zip\n",
      "unzipping... ../raw_data/caiso_downloads/caiso_rtm_load_dl/20190701_20190801_SLD_FCST_RTM_20220616_08_34_30_v1.zip\n",
      "unzipping... ../raw_data/caiso_downloads/caiso_rtm_load_dl/20191101_20191130_SLD_FCST_RTM_20220616_08_30_34_v1.zip\n",
      "unzipping... ../raw_data/caiso_downloads/caiso_rtm_load_dl/20190801_20190901_SLD_FCST_RTM_20220616_08_28_50_v1.zip\n",
      "unzipping... ../raw_data/caiso_downloads/caiso_rtm_load_dl/20190501_20190601_SLD_FCST_RTM_20220616_08_27_10_v1.zip\n",
      "unzipping... ../raw_data/caiso_downloads/caiso_rtm_load_dl/20190101_20190131_SLD_FCST_RTM_20220616_08_31_09_v1.zip\n",
      "unzipping... ../raw_data/caiso_downloads/caiso_rtm_load_dl/20190601_20190701_SLD_FCST_RTM_20220616_08_33_58_v1.zip\n"
     ]
    }
   ],
   "source": [
    "unzip_dir('../raw_data/caiso_downloads/caiso_rtm_load_dl/',\n",
    "          '../raw_data/unzipped_caiso/unzipped_caiso_rtm_load/')"
   ]
  },
  {
   "cell_type": "code",
   "execution_count": null,
   "metadata": {},
   "outputs": [],
   "source": []
  }
 ],
 "metadata": {
  "kernelspec": {
   "display_name": "Python 3",
   "language": "python",
   "name": "python3"
  },
  "language_info": {
   "codemirror_mode": {
    "name": "ipython",
    "version": 3
   },
   "file_extension": ".py",
   "mimetype": "text/x-python",
   "name": "python",
   "nbconvert_exporter": "python",
   "pygments_lexer": "ipython3",
   "version": "3.8.8"
  },
  "toc": {
   "base_numbering": 1,
   "nav_menu": {},
   "number_sections": true,
   "sideBar": true,
   "skip_h1_title": true,
   "title_cell": "Table of Contents",
   "title_sidebar": "Contents",
   "toc_cell": true,
   "toc_position": {
    "height": "calc(100% - 180px)",
    "left": "10px",
    "top": "150px",
    "width": "245px"
   },
   "toc_section_display": true,
   "toc_window_display": true
  },
  "varInspector": {
   "cols": {
    "lenName": 16,
    "lenType": 16,
    "lenVar": 40
   },
   "kernels_config": {
    "python": {
     "delete_cmd_postfix": "",
     "delete_cmd_prefix": "del ",
     "library": "var_list.py",
     "varRefreshCmd": "print(var_dic_list())"
    },
    "r": {
     "delete_cmd_postfix": ") ",
     "delete_cmd_prefix": "rm(",
     "library": "var_list.r",
     "varRefreshCmd": "cat(var_dic_list()) "
    }
   },
   "types_to_exclude": [
    "module",
    "function",
    "builtin_function_or_method",
    "instance",
    "_Feature"
   ],
   "window_display": false
  }
 },
 "nbformat": 4,
 "nbformat_minor": 2
}
