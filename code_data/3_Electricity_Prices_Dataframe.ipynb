{
 "cells": [
  {
   "cell_type": "markdown",
   "metadata": {},
   "source": [
    "---\n",
    "\n",
    "## Imports"
   ]
  },
  {
   "cell_type": "code",
   "execution_count": 1,
   "metadata": {},
   "outputs": [],
   "source": [
    "import pandas as pd\n",
    "import numpy as np\n",
    "\n",
    "import wget, os\n",
    "import time\n",
    "import glob\n",
    "\n",
    "import matplotlib.pyplot as plt\n",
    "import seaborn as sns\n",
    "from pandas.plotting import register_matplotlib_converters\n",
    "register_matplotlib_converters()\n",
    "%matplotlib inline\n",
    "sns.set_style('whitegrid')"
   ]
  },
  {
   "cell_type": "markdown",
   "metadata": {},
   "source": [
    "---\n",
    "\n",
    "## Day-Ahead-Market DataFrame"
   ]
  },
  {
   "cell_type": "code",
   "execution_count": 124,
   "metadata": {},
   "outputs": [],
   "source": [
    "dam_orig_cols=['INTERVALSTARTTIME_GMT',\n",
    "               'OPR_DT',\n",
    "               'OPR_HR',\n",
    "               'NODE',\n",
    "               'MARKET_RUN_ID',\n",
    "               'LMP_TYPE',\n",
    "               'MW']\n",
    "\n",
    "dam_new_cols =['start_datetime',\n",
    "               'date',\n",
    "               'hr_index',\n",
    "               'node',\n",
    "               'market',\n",
    "               'lmp_type',\n",
    "               'dam_price_per_mwh']\n",
    "\n",
    "dam_rename_dict = {old: new for old, new in zip(dam_orig_cols, dam_new_cols)}"
   ]
  },
  {
   "cell_type": "code",
   "execution_count": 125,
   "metadata": {},
   "outputs": [],
   "source": [
    "caiso_dam_df = pd.DataFrame(columns=dam_new_cols)\n",
    "\n",
    "for file in glob.glob('../raw_data/unzipped_caiso/unzipped_caiso_dam/*.csv'):\n",
    "    df = pd.read_csv(file, usecols=dam_orig_cols).rename(index=str,\n",
    "                                                         columns=dam_rename_dict)\n",
    "    df = df[df.lmp_type == 'LMP']\n",
    "    caiso_dam_df = caiso_dam_df.append(df, ignore_index=True)"
   ]
  },
  {
   "cell_type": "code",
   "execution_count": 126,
   "metadata": {},
   "outputs": [
    {
     "data": {
      "text/plain": [
       "(24, 7)"
      ]
     },
     "execution_count": 126,
     "metadata": {},
     "output_type": "execute_result"
    }
   ],
   "source": [
    "caiso_dam_df.shape"
   ]
  },
  {
   "cell_type": "code",
   "execution_count": 127,
   "metadata": {},
   "outputs": [
    {
     "data": {
      "text/html": [
       "<div>\n",
       "<style scoped>\n",
       "    .dataframe tbody tr th:only-of-type {\n",
       "        vertical-align: middle;\n",
       "    }\n",
       "\n",
       "    .dataframe tbody tr th {\n",
       "        vertical-align: top;\n",
       "    }\n",
       "\n",
       "    .dataframe thead th {\n",
       "        text-align: right;\n",
       "    }\n",
       "</style>\n",
       "<table border=\"1\" class=\"dataframe\">\n",
       "  <thead>\n",
       "    <tr style=\"text-align: right;\">\n",
       "      <th></th>\n",
       "      <th>date</th>\n",
       "      <th>hr_index</th>\n",
       "      <th>node</th>\n",
       "      <th>market</th>\n",
       "      <th>lmp_type</th>\n",
       "      <th>dam_price_per_mwh</th>\n",
       "    </tr>\n",
       "    <tr>\n",
       "      <th>start_datetime</th>\n",
       "      <th></th>\n",
       "      <th></th>\n",
       "      <th></th>\n",
       "      <th></th>\n",
       "      <th></th>\n",
       "      <th></th>\n",
       "    </tr>\n",
       "  </thead>\n",
       "  <tbody>\n",
       "    <tr>\n",
       "      <th>2022-06-16 07:00:00+00:00</th>\n",
       "      <td>2022-06-16</td>\n",
       "      <td>1</td>\n",
       "      <td>0096WD_7_N001</td>\n",
       "      <td>DAM</td>\n",
       "      <td>LMP</td>\n",
       "      <td>71.31581</td>\n",
       "    </tr>\n",
       "    <tr>\n",
       "      <th>2022-06-16 08:00:00+00:00</th>\n",
       "      <td>2022-06-16</td>\n",
       "      <td>2</td>\n",
       "      <td>0096WD_7_N001</td>\n",
       "      <td>DAM</td>\n",
       "      <td>LMP</td>\n",
       "      <td>68.47734</td>\n",
       "    </tr>\n",
       "    <tr>\n",
       "      <th>2022-06-16 09:00:00+00:00</th>\n",
       "      <td>2022-06-16</td>\n",
       "      <td>3</td>\n",
       "      <td>0096WD_7_N001</td>\n",
       "      <td>DAM</td>\n",
       "      <td>LMP</td>\n",
       "      <td>66.35294</td>\n",
       "    </tr>\n",
       "    <tr>\n",
       "      <th>2022-06-16 10:00:00+00:00</th>\n",
       "      <td>2022-06-16</td>\n",
       "      <td>4</td>\n",
       "      <td>0096WD_7_N001</td>\n",
       "      <td>DAM</td>\n",
       "      <td>LMP</td>\n",
       "      <td>67.38432</td>\n",
       "    </tr>\n",
       "    <tr>\n",
       "      <th>2022-06-16 11:00:00+00:00</th>\n",
       "      <td>2022-06-16</td>\n",
       "      <td>5</td>\n",
       "      <td>0096WD_7_N001</td>\n",
       "      <td>DAM</td>\n",
       "      <td>LMP</td>\n",
       "      <td>70.51006</td>\n",
       "    </tr>\n",
       "  </tbody>\n",
       "</table>\n",
       "</div>"
      ],
      "text/plain": [
       "                                 date hr_index           node market lmp_type  \\\n",
       "start_datetime                                                                  \n",
       "2022-06-16 07:00:00+00:00  2022-06-16        1  0096WD_7_N001    DAM      LMP   \n",
       "2022-06-16 08:00:00+00:00  2022-06-16        2  0096WD_7_N001    DAM      LMP   \n",
       "2022-06-16 09:00:00+00:00  2022-06-16        3  0096WD_7_N001    DAM      LMP   \n",
       "2022-06-16 10:00:00+00:00  2022-06-16        4  0096WD_7_N001    DAM      LMP   \n",
       "2022-06-16 11:00:00+00:00  2022-06-16        5  0096WD_7_N001    DAM      LMP   \n",
       "\n",
       "                           dam_price_per_mwh  \n",
       "start_datetime                                \n",
       "2022-06-16 07:00:00+00:00           71.31581  \n",
       "2022-06-16 08:00:00+00:00           68.47734  \n",
       "2022-06-16 09:00:00+00:00           66.35294  \n",
       "2022-06-16 10:00:00+00:00           67.38432  \n",
       "2022-06-16 11:00:00+00:00           70.51006  "
      ]
     },
     "execution_count": 127,
     "metadata": {},
     "output_type": "execute_result"
    }
   ],
   "source": [
    "caiso_dam_df = caiso_dam_df.sort_values(by='start_datetime').reset_index(drop=True)\n",
    "\n",
    "caiso_dam_df['start_datetime'] = pd.to_datetime(caiso_dam_df['start_datetime'])\n",
    "\n",
    "caiso_dam_df.set_index('start_datetime', inplace=True)\n",
    "caiso_dam_df.sort_index(inplace=True)\n",
    "caiso_dam_df.head()"
   ]
  },
  {
   "cell_type": "code",
   "execution_count": 128,
   "metadata": {},
   "outputs": [
    {
     "name": "stdout",
     "output_type": "stream",
     "text": [
      "<class 'pandas.core.frame.DataFrame'>\n",
      "DatetimeIndex: 24 entries, 2022-06-16 07:00:00+00:00 to 2022-06-17 06:00:00+00:00\n",
      "Data columns (total 6 columns):\n",
      " #   Column             Non-Null Count  Dtype  \n",
      "---  ------             --------------  -----  \n",
      " 0   date               24 non-null     object \n",
      " 1   hr_index           24 non-null     object \n",
      " 2   node               24 non-null     object \n",
      " 3   market             24 non-null     object \n",
      " 4   lmp_type           24 non-null     object \n",
      " 5   dam_price_per_mwh  24 non-null     float64\n",
      "dtypes: float64(1), object(5)\n",
      "memory usage: 1.3+ KB\n"
     ]
    }
   ],
   "source": [
    "caiso_dam_df.info()"
   ]
  },
  {
   "cell_type": "markdown",
   "metadata": {},
   "source": [
    "---\n",
    "\n",
    "## Hour-Ahead-Scheduling Process DataFrame\n",
    "(hour-ahead, 15-minute realtime market)"
   ]
  },
  {
   "cell_type": "code",
   "execution_count": 129,
   "metadata": {},
   "outputs": [],
   "source": [
    "hasp_orig_cols=['INTERVALSTARTTIME_GMT',\n",
    "                'OPR_DT',\n",
    "                'OPR_HR',\n",
    "                'NODE',\n",
    "                'MARKET_RUN_ID',\n",
    "                'LMP_TYPE',\n",
    "                'MW']\n",
    "\n",
    "hasp_new_cols =['start_datetime',\n",
    "                'date',\n",
    "                'hr_index',\n",
    "                'node',\n",
    "                'market',\n",
    "                'lmp_type',\n",
    "                'hasp_price_per_mwh']\n",
    "\n",
    "hasp_rename_dict = {old: new for old, new in zip(hasp_orig_cols, hasp_new_cols)}"
   ]
  },
  {
   "cell_type": "code",
   "execution_count": 130,
   "metadata": {},
   "outputs": [],
   "source": [
    "caiso_hasp_df = pd.DataFrame(columns=hasp_new_cols)\n",
    "\n",
    "for file in glob.glob('../raw_data/unzipped_caiso/unzipped_caiso_hasp/*.csv'):\n",
    "    df = pd.read_csv(file, usecols=hasp_orig_cols).rename(index=str,\n",
    "                                                          columns=hasp_rename_dict)\n",
    "    df = df[df.lmp_type == 'LMP']\n",
    "    caiso_hasp_df = caiso_hasp_df.append(df, ignore_index=True)"
   ]
  },
  {
   "cell_type": "code",
   "execution_count": 131,
   "metadata": {},
   "outputs": [
    {
     "data": {
      "text/plain": [
       "(23164, 7)"
      ]
     },
     "execution_count": 131,
     "metadata": {},
     "output_type": "execute_result"
    }
   ],
   "source": [
    "caiso_hasp_df.shape"
   ]
  },
  {
   "cell_type": "code",
   "execution_count": 132,
   "metadata": {},
   "outputs": [
    {
     "data": {
      "text/html": [
       "<div>\n",
       "<style scoped>\n",
       "    .dataframe tbody tr th:only-of-type {\n",
       "        vertical-align: middle;\n",
       "    }\n",
       "\n",
       "    .dataframe tbody tr th {\n",
       "        vertical-align: top;\n",
       "    }\n",
       "\n",
       "    .dataframe thead th {\n",
       "        text-align: right;\n",
       "    }\n",
       "</style>\n",
       "<table border=\"1\" class=\"dataframe\">\n",
       "  <thead>\n",
       "    <tr style=\"text-align: right;\">\n",
       "      <th></th>\n",
       "      <th>date</th>\n",
       "      <th>hr_index</th>\n",
       "      <th>node</th>\n",
       "      <th>market</th>\n",
       "      <th>lmp_type</th>\n",
       "      <th>hasp_price_per_mwh</th>\n",
       "    </tr>\n",
       "    <tr>\n",
       "      <th>start_datetime</th>\n",
       "      <th></th>\n",
       "      <th></th>\n",
       "      <th></th>\n",
       "      <th></th>\n",
       "      <th></th>\n",
       "      <th></th>\n",
       "    </tr>\n",
       "  </thead>\n",
       "  <tbody>\n",
       "    <tr>\n",
       "      <th>2019-03-04 08:00:00+00:00</th>\n",
       "      <td>2019-03-04</td>\n",
       "      <td>1</td>\n",
       "      <td>0096WD_7_N001</td>\n",
       "      <td>HASP</td>\n",
       "      <td>LMP</td>\n",
       "      <td>51.04837</td>\n",
       "    </tr>\n",
       "    <tr>\n",
       "      <th>2019-03-04 08:15:00+00:00</th>\n",
       "      <td>2019-03-04</td>\n",
       "      <td>1</td>\n",
       "      <td>0096WD_7_N001</td>\n",
       "      <td>HASP</td>\n",
       "      <td>LMP</td>\n",
       "      <td>49.55352</td>\n",
       "    </tr>\n",
       "    <tr>\n",
       "      <th>2019-03-04 08:30:00+00:00</th>\n",
       "      <td>2019-03-04</td>\n",
       "      <td>1</td>\n",
       "      <td>0096WD_7_N001</td>\n",
       "      <td>HASP</td>\n",
       "      <td>LMP</td>\n",
       "      <td>45.65972</td>\n",
       "    </tr>\n",
       "    <tr>\n",
       "      <th>2019-03-04 08:45:00+00:00</th>\n",
       "      <td>2019-03-04</td>\n",
       "      <td>1</td>\n",
       "      <td>0096WD_7_N001</td>\n",
       "      <td>HASP</td>\n",
       "      <td>LMP</td>\n",
       "      <td>45.22536</td>\n",
       "    </tr>\n",
       "    <tr>\n",
       "      <th>2019-03-04 09:00:00+00:00</th>\n",
       "      <td>2019-03-04</td>\n",
       "      <td>2</td>\n",
       "      <td>0096WD_7_N001</td>\n",
       "      <td>HASP</td>\n",
       "      <td>LMP</td>\n",
       "      <td>43.87333</td>\n",
       "    </tr>\n",
       "  </tbody>\n",
       "</table>\n",
       "</div>"
      ],
      "text/plain": [
       "                                 date hr_index           node market lmp_type  \\\n",
       "start_datetime                                                                  \n",
       "2019-03-04 08:00:00+00:00  2019-03-04        1  0096WD_7_N001   HASP      LMP   \n",
       "2019-03-04 08:15:00+00:00  2019-03-04        1  0096WD_7_N001   HASP      LMP   \n",
       "2019-03-04 08:30:00+00:00  2019-03-04        1  0096WD_7_N001   HASP      LMP   \n",
       "2019-03-04 08:45:00+00:00  2019-03-04        1  0096WD_7_N001   HASP      LMP   \n",
       "2019-03-04 09:00:00+00:00  2019-03-04        2  0096WD_7_N001   HASP      LMP   \n",
       "\n",
       "                           hasp_price_per_mwh  \n",
       "start_datetime                                 \n",
       "2019-03-04 08:00:00+00:00            51.04837  \n",
       "2019-03-04 08:15:00+00:00            49.55352  \n",
       "2019-03-04 08:30:00+00:00            45.65972  \n",
       "2019-03-04 08:45:00+00:00            45.22536  \n",
       "2019-03-04 09:00:00+00:00            43.87333  "
      ]
     },
     "execution_count": 132,
     "metadata": {},
     "output_type": "execute_result"
    }
   ],
   "source": [
    "caiso_hasp_df = caiso_hasp_df.sort_values(by='start_datetime').reset_index(drop=True)\n",
    "\n",
    "caiso_hasp_df['start_datetime'] = pd.to_datetime(caiso_hasp_df['start_datetime'])\n",
    "\n",
    "caiso_hasp_df.set_index('start_datetime', inplace=True)\n",
    "caiso_hasp_df.sort_index(inplace=True)\n",
    "caiso_hasp_df.head()"
   ]
  },
  {
   "cell_type": "code",
   "execution_count": 133,
   "metadata": {},
   "outputs": [],
   "source": [
    "caiso_hasp_df = caiso_hasp_df.resample('H').mean()"
   ]
  },
  {
   "cell_type": "code",
   "execution_count": 134,
   "metadata": {},
   "outputs": [
    {
     "data": {
      "text/html": [
       "<div>\n",
       "<style scoped>\n",
       "    .dataframe tbody tr th:only-of-type {\n",
       "        vertical-align: middle;\n",
       "    }\n",
       "\n",
       "    .dataframe tbody tr th {\n",
       "        vertical-align: top;\n",
       "    }\n",
       "\n",
       "    .dataframe thead th {\n",
       "        text-align: right;\n",
       "    }\n",
       "</style>\n",
       "<table border=\"1\" class=\"dataframe\">\n",
       "  <thead>\n",
       "    <tr style=\"text-align: right;\">\n",
       "      <th></th>\n",
       "      <th>hasp_price_per_mwh</th>\n",
       "    </tr>\n",
       "    <tr>\n",
       "      <th>start_datetime</th>\n",
       "      <th></th>\n",
       "    </tr>\n",
       "  </thead>\n",
       "  <tbody>\n",
       "    <tr>\n",
       "      <th>2019-03-04 08:00:00+00:00</th>\n",
       "      <td>47.871742</td>\n",
       "    </tr>\n",
       "    <tr>\n",
       "      <th>2019-03-04 09:00:00+00:00</th>\n",
       "      <td>42.968495</td>\n",
       "    </tr>\n",
       "    <tr>\n",
       "      <th>2019-03-04 10:00:00+00:00</th>\n",
       "      <td>43.012053</td>\n",
       "    </tr>\n",
       "    <tr>\n",
       "      <th>2019-03-04 11:00:00+00:00</th>\n",
       "      <td>42.522818</td>\n",
       "    </tr>\n",
       "    <tr>\n",
       "      <th>2019-03-04 12:00:00+00:00</th>\n",
       "      <td>47.248450</td>\n",
       "    </tr>\n",
       "  </tbody>\n",
       "</table>\n",
       "</div>"
      ],
      "text/plain": [
       "                           hasp_price_per_mwh\n",
       "start_datetime                               \n",
       "2019-03-04 08:00:00+00:00           47.871742\n",
       "2019-03-04 09:00:00+00:00           42.968495\n",
       "2019-03-04 10:00:00+00:00           43.012053\n",
       "2019-03-04 11:00:00+00:00           42.522818\n",
       "2019-03-04 12:00:00+00:00           47.248450"
      ]
     },
     "execution_count": 134,
     "metadata": {},
     "output_type": "execute_result"
    }
   ],
   "source": [
    "caiso_hasp_df.head()"
   ]
  },
  {
   "cell_type": "code",
   "execution_count": 135,
   "metadata": {},
   "outputs": [
    {
     "data": {
      "text/plain": [
       "(5807, 1)"
      ]
     },
     "execution_count": 135,
     "metadata": {},
     "output_type": "execute_result"
    }
   ],
   "source": [
    "caiso_hasp_df.shape"
   ]
  },
  {
   "cell_type": "markdown",
   "metadata": {},
   "source": [
    "---\n",
    "\n",
    "## RTM DataFrame\n",
    "(realtime spot prices, 5-minute realtime settlements only)"
   ]
  },
  {
   "cell_type": "code",
   "execution_count": 136,
   "metadata": {},
   "outputs": [],
   "source": [
    "rtm_orig_cols=['INTERVALSTARTTIME_GMT',\n",
    "                'OPR_DT',\n",
    "                'OPR_HR',\n",
    "                'NODE',\n",
    "                'MARKET_RUN_ID',\n",
    "                'LMP_TYPE',\n",
    "                'VALUE']\n",
    "\n",
    "rtm_new_cols =['start_datetime',\n",
    "                'date',\n",
    "                'hr_index',\n",
    "                'node',\n",
    "                'market',\n",
    "                'lmp_type',\n",
    "                'rtm_price_per_mwh']\n",
    "\n",
    "rtm_rename_dict = {old: new for old, new in zip(rtm_orig_cols, rtm_new_cols)}"
   ]
  },
  {
   "cell_type": "code",
   "execution_count": 137,
   "metadata": {},
   "outputs": [],
   "source": [
    "caiso_rtm_df = pd.DataFrame(columns=rtm_new_cols)\n",
    "\n",
    "for file in glob.glob('../raw_data/unzipped_caiso/unzipped_caiso_rtm/*.csv'):\n",
    "    df = pd.read_csv(file, usecols=rtm_orig_cols).rename(index=str,\n",
    "                                                          columns=rtm_rename_dict)\n",
    "    df = df[df.lmp_type == 'LMP']\n",
    "    caiso_rtm_df = caiso_rtm_df.append(df, ignore_index=True)"
   ]
  },
  {
   "cell_type": "code",
   "execution_count": 138,
   "metadata": {},
   "outputs": [
    {
     "data": {
      "text/plain": [
       "(78516, 7)"
      ]
     },
     "execution_count": 138,
     "metadata": {},
     "output_type": "execute_result"
    }
   ],
   "source": [
    "caiso_rtm_df.shape"
   ]
  },
  {
   "cell_type": "code",
   "execution_count": 139,
   "metadata": {},
   "outputs": [
    {
     "data": {
      "text/html": [
       "<div>\n",
       "<style scoped>\n",
       "    .dataframe tbody tr th:only-of-type {\n",
       "        vertical-align: middle;\n",
       "    }\n",
       "\n",
       "    .dataframe tbody tr th {\n",
       "        vertical-align: top;\n",
       "    }\n",
       "\n",
       "    .dataframe thead th {\n",
       "        text-align: right;\n",
       "    }\n",
       "</style>\n",
       "<table border=\"1\" class=\"dataframe\">\n",
       "  <thead>\n",
       "    <tr style=\"text-align: right;\">\n",
       "      <th></th>\n",
       "      <th>date</th>\n",
       "      <th>hr_index</th>\n",
       "      <th>node</th>\n",
       "      <th>market</th>\n",
       "      <th>lmp_type</th>\n",
       "      <th>rtm_price_per_mwh</th>\n",
       "    </tr>\n",
       "    <tr>\n",
       "      <th>start_datetime</th>\n",
       "      <th></th>\n",
       "      <th></th>\n",
       "      <th></th>\n",
       "      <th></th>\n",
       "      <th></th>\n",
       "      <th></th>\n",
       "    </tr>\n",
       "  </thead>\n",
       "  <tbody>\n",
       "    <tr>\n",
       "      <th>2019-03-04 08:00:00+00:00</th>\n",
       "      <td>2019-03-04</td>\n",
       "      <td>1</td>\n",
       "      <td>0096WD_7_N001</td>\n",
       "      <td>RTM</td>\n",
       "      <td>LMP</td>\n",
       "      <td>44.94646</td>\n",
       "    </tr>\n",
       "    <tr>\n",
       "      <th>2019-03-04 08:05:00+00:00</th>\n",
       "      <td>2019-03-04</td>\n",
       "      <td>1</td>\n",
       "      <td>0096WD_7_N001</td>\n",
       "      <td>RTM</td>\n",
       "      <td>LMP</td>\n",
       "      <td>50.44476</td>\n",
       "    </tr>\n",
       "    <tr>\n",
       "      <th>2019-03-04 08:10:00+00:00</th>\n",
       "      <td>2019-03-04</td>\n",
       "      <td>1</td>\n",
       "      <td>0096WD_7_N001</td>\n",
       "      <td>RTM</td>\n",
       "      <td>LMP</td>\n",
       "      <td>48.90905</td>\n",
       "    </tr>\n",
       "    <tr>\n",
       "      <th>2019-03-04 08:15:00+00:00</th>\n",
       "      <td>2019-03-04</td>\n",
       "      <td>1</td>\n",
       "      <td>0096WD_7_N001</td>\n",
       "      <td>RTM</td>\n",
       "      <td>LMP</td>\n",
       "      <td>49.61934</td>\n",
       "    </tr>\n",
       "    <tr>\n",
       "      <th>2019-03-04 08:20:00+00:00</th>\n",
       "      <td>2019-03-04</td>\n",
       "      <td>1</td>\n",
       "      <td>0096WD_7_N001</td>\n",
       "      <td>RTM</td>\n",
       "      <td>LMP</td>\n",
       "      <td>49.27004</td>\n",
       "    </tr>\n",
       "  </tbody>\n",
       "</table>\n",
       "</div>"
      ],
      "text/plain": [
       "                                 date hr_index           node market lmp_type  \\\n",
       "start_datetime                                                                  \n",
       "2019-03-04 08:00:00+00:00  2019-03-04        1  0096WD_7_N001    RTM      LMP   \n",
       "2019-03-04 08:05:00+00:00  2019-03-04        1  0096WD_7_N001    RTM      LMP   \n",
       "2019-03-04 08:10:00+00:00  2019-03-04        1  0096WD_7_N001    RTM      LMP   \n",
       "2019-03-04 08:15:00+00:00  2019-03-04        1  0096WD_7_N001    RTM      LMP   \n",
       "2019-03-04 08:20:00+00:00  2019-03-04        1  0096WD_7_N001    RTM      LMP   \n",
       "\n",
       "                           rtm_price_per_mwh  \n",
       "start_datetime                                \n",
       "2019-03-04 08:00:00+00:00           44.94646  \n",
       "2019-03-04 08:05:00+00:00           50.44476  \n",
       "2019-03-04 08:10:00+00:00           48.90905  \n",
       "2019-03-04 08:15:00+00:00           49.61934  \n",
       "2019-03-04 08:20:00+00:00           49.27004  "
      ]
     },
     "execution_count": 139,
     "metadata": {},
     "output_type": "execute_result"
    }
   ],
   "source": [
    "caiso_rtm_df = caiso_rtm_df.sort_values(by='start_datetime').reset_index(drop=True)\n",
    "\n",
    "caiso_rtm_df['start_datetime'] = pd.to_datetime(caiso_rtm_df['start_datetime'])\n",
    "\n",
    "caiso_rtm_df.set_index('start_datetime', inplace=True)\n",
    "caiso_rtm_df.sort_index(inplace=True)\n",
    "caiso_rtm_df.head()"
   ]
  },
  {
   "cell_type": "code",
   "execution_count": 140,
   "metadata": {},
   "outputs": [],
   "source": [
    "caiso_rtm_df = caiso_rtm_df.resample('H').mean()"
   ]
  },
  {
   "cell_type": "code",
   "execution_count": 141,
   "metadata": {},
   "outputs": [
    {
     "data": {
      "text/html": [
       "<div>\n",
       "<style scoped>\n",
       "    .dataframe tbody tr th:only-of-type {\n",
       "        vertical-align: middle;\n",
       "    }\n",
       "\n",
       "    .dataframe tbody tr th {\n",
       "        vertical-align: top;\n",
       "    }\n",
       "\n",
       "    .dataframe thead th {\n",
       "        text-align: right;\n",
       "    }\n",
       "</style>\n",
       "<table border=\"1\" class=\"dataframe\">\n",
       "  <thead>\n",
       "    <tr style=\"text-align: right;\">\n",
       "      <th></th>\n",
       "      <th>rtm_price_per_mwh</th>\n",
       "    </tr>\n",
       "    <tr>\n",
       "      <th>start_datetime</th>\n",
       "      <th></th>\n",
       "    </tr>\n",
       "  </thead>\n",
       "  <tbody>\n",
       "    <tr>\n",
       "      <th>2019-03-04 08:00:00+00:00</th>\n",
       "      <td>45.979233</td>\n",
       "    </tr>\n",
       "    <tr>\n",
       "      <th>2019-03-04 09:00:00+00:00</th>\n",
       "      <td>42.483962</td>\n",
       "    </tr>\n",
       "    <tr>\n",
       "      <th>2019-03-04 10:00:00+00:00</th>\n",
       "      <td>42.656426</td>\n",
       "    </tr>\n",
       "    <tr>\n",
       "      <th>2019-03-04 11:00:00+00:00</th>\n",
       "      <td>42.008475</td>\n",
       "    </tr>\n",
       "    <tr>\n",
       "      <th>2019-03-04 12:00:00+00:00</th>\n",
       "      <td>43.732988</td>\n",
       "    </tr>\n",
       "  </tbody>\n",
       "</table>\n",
       "</div>"
      ],
      "text/plain": [
       "                           rtm_price_per_mwh\n",
       "start_datetime                              \n",
       "2019-03-04 08:00:00+00:00          45.979233\n",
       "2019-03-04 09:00:00+00:00          42.483962\n",
       "2019-03-04 10:00:00+00:00          42.656426\n",
       "2019-03-04 11:00:00+00:00          42.008475\n",
       "2019-03-04 12:00:00+00:00          43.732988"
      ]
     },
     "execution_count": 141,
     "metadata": {},
     "output_type": "execute_result"
    }
   ],
   "source": [
    "caiso_rtm_df.head()"
   ]
  },
  {
   "cell_type": "code",
   "execution_count": 142,
   "metadata": {},
   "outputs": [
    {
     "data": {
      "text/plain": [
       "(5807, 1)"
      ]
     },
     "execution_count": 142,
     "metadata": {},
     "output_type": "execute_result"
    }
   ],
   "source": [
    "caiso_rtm_df.shape"
   ]
  },
  {
   "cell_type": "code",
   "execution_count": 160,
   "metadata": {
    "scrolled": true
   },
   "outputs": [
    {
     "data": {
      "text/plain": [
       "(29068, 7)"
      ]
     },
     "execution_count": 160,
     "metadata": {},
     "output_type": "execute_result"
    }
   ],
   "source": [
    "# elec_prices_hrly = caiso_dam_df.drop(columns=['market', 'lmp_type'])\n",
    "elec_prices_hrly = pd.read_csv(\"../data/elec_prices_hrly.csv\")\n",
    "elec_prices_hrly.shape"
   ]
  },
  {
   "cell_type": "code",
   "execution_count": 144,
   "metadata": {},
   "outputs": [
    {
     "data": {
      "text/html": [
       "<div>\n",
       "<style scoped>\n",
       "    .dataframe tbody tr th:only-of-type {\n",
       "        vertical-align: middle;\n",
       "    }\n",
       "\n",
       "    .dataframe tbody tr th {\n",
       "        vertical-align: top;\n",
       "    }\n",
       "\n",
       "    .dataframe thead th {\n",
       "        text-align: right;\n",
       "    }\n",
       "</style>\n",
       "<table border=\"1\" class=\"dataframe\">\n",
       "  <thead>\n",
       "    <tr style=\"text-align: right;\">\n",
       "      <th></th>\n",
       "      <th>start_datetime</th>\n",
       "      <th>date</th>\n",
       "      <th>hr_index</th>\n",
       "      <th>node</th>\n",
       "      <th>dam_price_per_mwh</th>\n",
       "      <th>hasp_price_per_mwh</th>\n",
       "      <th>rtm_price_per_mwh</th>\n",
       "    </tr>\n",
       "  </thead>\n",
       "  <tbody>\n",
       "    <tr>\n",
       "      <th>0</th>\n",
       "      <td>2016-01-01 08:00:00+00:00</td>\n",
       "      <td>2016-01-01</td>\n",
       "      <td>1</td>\n",
       "      <td>BAYSHOR2_1_N001</td>\n",
       "      <td>31.69690</td>\n",
       "      <td>24.737823</td>\n",
       "      <td>25.219949</td>\n",
       "    </tr>\n",
       "    <tr>\n",
       "      <th>1</th>\n",
       "      <td>2016-01-01 09:00:00+00:00</td>\n",
       "      <td>2016-01-01</td>\n",
       "      <td>2</td>\n",
       "      <td>BAYSHOR2_1_N001</td>\n",
       "      <td>30.38613</td>\n",
       "      <td>25.030977</td>\n",
       "      <td>24.903872</td>\n",
       "    </tr>\n",
       "    <tr>\n",
       "      <th>2</th>\n",
       "      <td>2016-01-01 10:00:00+00:00</td>\n",
       "      <td>2016-01-01</td>\n",
       "      <td>3</td>\n",
       "      <td>BAYSHOR2_1_N001</td>\n",
       "      <td>30.29141</td>\n",
       "      <td>24.563878</td>\n",
       "      <td>24.630057</td>\n",
       "    </tr>\n",
       "    <tr>\n",
       "      <th>3</th>\n",
       "      <td>2016-01-01 11:00:00+00:00</td>\n",
       "      <td>2016-01-01</td>\n",
       "      <td>4</td>\n",
       "      <td>BAYSHOR2_1_N001</td>\n",
       "      <td>28.45127</td>\n",
       "      <td>24.775715</td>\n",
       "      <td>24.689828</td>\n",
       "    </tr>\n",
       "    <tr>\n",
       "      <th>4</th>\n",
       "      <td>2016-01-01 12:00:00+00:00</td>\n",
       "      <td>2016-01-01</td>\n",
       "      <td>5</td>\n",
       "      <td>BAYSHOR2_1_N001</td>\n",
       "      <td>28.66504</td>\n",
       "      <td>24.923320</td>\n",
       "      <td>23.505206</td>\n",
       "    </tr>\n",
       "  </tbody>\n",
       "</table>\n",
       "</div>"
      ],
      "text/plain": [
       "              start_datetime        date  hr_index             node  \\\n",
       "0  2016-01-01 08:00:00+00:00  2016-01-01         1  BAYSHOR2_1_N001   \n",
       "1  2016-01-01 09:00:00+00:00  2016-01-01         2  BAYSHOR2_1_N001   \n",
       "2  2016-01-01 10:00:00+00:00  2016-01-01         3  BAYSHOR2_1_N001   \n",
       "3  2016-01-01 11:00:00+00:00  2016-01-01         4  BAYSHOR2_1_N001   \n",
       "4  2016-01-01 12:00:00+00:00  2016-01-01         5  BAYSHOR2_1_N001   \n",
       "\n",
       "   dam_price_per_mwh  hasp_price_per_mwh  rtm_price_per_mwh  \n",
       "0           31.69690           24.737823          25.219949  \n",
       "1           30.38613           25.030977          24.903872  \n",
       "2           30.29141           24.563878          24.630057  \n",
       "3           28.45127           24.775715          24.689828  \n",
       "4           28.66504           24.923320          23.505206  "
      ]
     },
     "execution_count": 144,
     "metadata": {},
     "output_type": "execute_result"
    }
   ],
   "source": [
    "elec_prices_hrly.head()"
   ]
  },
  {
   "cell_type": "code",
   "execution_count": 94,
   "metadata": {},
   "outputs": [
    {
     "data": {
      "text/plain": [
       "''"
      ]
     },
     "execution_count": 94,
     "metadata": {},
     "output_type": "execute_result"
    },
    {
     "data": {
      "image/png": "[encoded data removed]",
      "text/plain": [
       "<Figure size 1080x648 with 1 Axes>"
      ]
     },
     "metadata": {},
     "output_type": "display_data"
    }
   ],
   "source": [
    "plt.figure(figsize=(15,9))\n",
    "plt.title('CA Electricty Prices (hrly):  Realtime vs. Hour-ahead vs. Day-ahead', fontsize=18)\n",
    "\n",
    "plt.plot(elec_prices_hrly.index,\n",
    "         elec_prices_hrly.rtm_price_per_mwh,\n",
    "         label = 'RTM', alpha=0.7)\n",
    "\n",
    "plt.plot(elec_prices_hrly.index,\n",
    "         elec_prices_hrly.hasp_price_per_mwh,\n",
    "         label= 'HASP', alpha=0.9)\n",
    "\n",
    "plt.plot(elec_prices_hrly.index,\n",
    "         elec_prices_hrly.dam_price_per_mwh,\n",
    "         label = 'DAM', alpha=0.5)\n",
    "\n",
    "plt.ylabel('Prices in $/MWh', fontsize=18)\n",
    "plt.legend()\n",
    "# plt.savefig('../images/elec_prices_hrly.jpg', bbox_inches='tight')\n",
    ";"
   ]
  },
  {
   "cell_type": "code",
   "execution_count": null,
   "metadata": {},
   "outputs": [],
   "source": []
  }
 ],
 "metadata": {
  "kernelspec": {
   "display_name": "Python 3",
   "language": "python",
   "name": "python3"
  },
  "language_info": {
   "codemirror_mode": {
    "name": "ipython",
    "version": 3
   },
   "file_extension": ".py",
   "mimetype": "text/x-python",
   "name": "python",
   "nbconvert_exporter": "python",
   "pygments_lexer": "ipython3",
   "version": "3.8.8"
  },
  "toc": {
   "base_numbering": 1,
   "nav_menu": {},
   "number_sections": true,
   "sideBar": true,
   "skip_h1_title": true,
   "title_cell": "Table of Contents",
   "title_sidebar": "Contents",
   "toc_cell": true,
   "toc_position": {
    "height": "calc(100% - 180px)",
    "left": "10px",
    "top": "150px",
    "width": "280.641px"
   },
   "toc_section_display": true,
   "toc_window_display": true
  },
  "varInspector": {
   "cols": {
    "lenName": 16,
    "lenType": 16,
    "lenVar": 40
   },
   "kernels_config": {
    "python": {
     "delete_cmd_postfix": "",
     "delete_cmd_prefix": "del ",
     "library": "var_list.py",
     "varRefreshCmd": "print(var_dic_list())"
    },
    "r": {
     "delete_cmd_postfix": ") ",
     "delete_cmd_prefix": "rm(",
     "library": "var_list.r",
     "varRefreshCmd": "cat(var_dic_list()) "
    }
   },
   "types_to_exclude": [
    "module",
    "function",
    "builtin_function_or_method",
    "instance",
    "_Feature"
   ],
   "window_display": false
  }
 },
 "nbformat": 4,
 "nbformat_minor": 2
}
