{
 "cells": [
  {
   "cell_type": "markdown",
   "metadata": {},
   "source": [
    "---\n",
    "\n",
    "## Imports"
   ]
  },
  {
   "cell_type": "code",
   "execution_count": 1,
   "metadata": {},
   "outputs": [],
   "source": [
    "import pandas as pd\n",
    "import numpy as np\n",
    "\n",
    "import wget, os\n",
    "import time\n",
    "import glob"
   ]
  },
  {
   "cell_type": "markdown",
   "metadata": {},
   "source": [
    "---\n",
    "\n",
    "## Function Definitions"
   ]
  },
  {
   "cell_type": "code",
   "execution_count": 2,
   "metadata": {},
   "outputs": [],
   "source": [
    "def index_to_datetime(df):\n",
    "    df['datetime'] = pd.to_datetime(df['datetime']).dt.round('H')\n",
    "    df.set_index('datetime', inplace=True)\n",
    "    df.sort_index(inplace=True)\n",
    "    return df"
   ]
  },
  {
   "cell_type": "code",
   "execution_count": 3,
   "metadata": {},
   "outputs": [],
   "source": [
    "def shapes_nulls():\n",
    "    print(f'sand: {sand_df.shape[0]} rows, {sand_df.isna().sum().sum()} nulls')\n",
    "    print(f'rive: {rive_df.shape[0]} rows, {rive_df.isna().sum().sum()} nulls')\n",
    "    print(f'redd: {redd_df.shape[0]} rows, {redd_df.isna().sum().sum()} nulls')\n",
    "    print(f'fres: {fres_df.shape[0]} rows, {fres_df.isna().sum().sum()} nulls')\n",
    "    return"
   ]
  },
  {
   "cell_type": "markdown",
   "metadata": {},
   "source": [
    "---\n",
    "\n",
    "## Read in Four Individual Weather Station DataFrames"
   ]
  },
  {
   "cell_type": "code",
   "execution_count": 6,
   "metadata": {},
   "outputs": [],
   "source": [
    "sand_df = pd.read_csv('../data/intermediate_stages/san_diego_weather2.csv')\n",
    "rive_df = pd.read_csv('../data/intermediate_stages/riverside_weather2.csv')\n",
    "redd_df = pd.read_csv('../data/intermediate_stages/redding_weather2.csv')\n",
    "fres_df = pd.read_csv('../data/intermediate_stages/fresno_weather2.csv')"
   ]
  },
  {
   "cell_type": "code",
   "execution_count": 7,
   "metadata": {},
   "outputs": [
    {
     "name": "stdout",
     "output_type": "stream",
     "text": [
      "sand: 24007 rows, 0 nulls\n",
      "rive: 17142 rows, 0 nulls\n",
      "redd: 22201 rows, 0 nulls\n",
      "fres: 21711 rows, 0 nulls\n"
     ]
    }
   ],
   "source": [
    "shapes_nulls()"
   ]
  },
  {
   "cell_type": "code",
   "execution_count": 8,
   "metadata": {
    "scrolled": false
   },
   "outputs": [],
   "source": [
    "sand_df = index_to_datetime(sand_df)\n",
    "rive_df = index_to_datetime(rive_df)\n",
    "redd_df = index_to_datetime(redd_df)\n",
    "fres_df = index_to_datetime(fres_df)"
   ]
  },
  {
   "cell_type": "code",
   "execution_count": 9,
   "metadata": {
    "scrolled": true
   },
   "outputs": [
    {
     "data": {
      "text/html": [
       "<div>\n",
       "<style scoped>\n",
       "    .dataframe tbody tr th:only-of-type {\n",
       "        vertical-align: middle;\n",
       "    }\n",
       "\n",
       "    .dataframe tbody tr th {\n",
       "        vertical-align: top;\n",
       "    }\n",
       "\n",
       "    .dataframe thead th {\n",
       "        text-align: right;\n",
       "    }\n",
       "</style>\n",
       "<table border=\"1\" class=\"dataframe\">\n",
       "  <thead>\n",
       "    <tr style=\"text-align: right;\">\n",
       "      <th></th>\n",
       "      <th>sand_temp</th>\n",
       "      <th>sand_wind</th>\n",
       "      <th>sand_vis</th>\n",
       "      <th>sand_ceil</th>\n",
       "    </tr>\n",
       "    <tr>\n",
       "      <th>datetime</th>\n",
       "      <th></th>\n",
       "      <th></th>\n",
       "      <th></th>\n",
       "      <th></th>\n",
       "    </tr>\n",
       "  </thead>\n",
       "  <tbody>\n",
       "    <tr>\n",
       "      <th>2016-01-01 01:00:00</th>\n",
       "      <td>156</td>\n",
       "      <td>26</td>\n",
       "      <td>16093</td>\n",
       "      <td>22000</td>\n",
       "    </tr>\n",
       "    <tr>\n",
       "      <th>2016-01-01 02:00:00</th>\n",
       "      <td>144</td>\n",
       "      <td>21</td>\n",
       "      <td>16093</td>\n",
       "      <td>22000</td>\n",
       "    </tr>\n",
       "    <tr>\n",
       "      <th>2016-01-01 03:00:00</th>\n",
       "      <td>139</td>\n",
       "      <td>0</td>\n",
       "      <td>16093</td>\n",
       "      <td>22000</td>\n",
       "    </tr>\n",
       "    <tr>\n",
       "      <th>2016-01-01 04:00:00</th>\n",
       "      <td>133</td>\n",
       "      <td>0</td>\n",
       "      <td>16093</td>\n",
       "      <td>22000</td>\n",
       "    </tr>\n",
       "    <tr>\n",
       "      <th>2016-01-01 05:00:00</th>\n",
       "      <td>122</td>\n",
       "      <td>0</td>\n",
       "      <td>16093</td>\n",
       "      <td>22000</td>\n",
       "    </tr>\n",
       "  </tbody>\n",
       "</table>\n",
       "</div>"
      ],
      "text/plain": [
       "                     sand_temp  sand_wind  sand_vis  sand_ceil\n",
       "datetime                                                      \n",
       "2016-01-01 01:00:00        156         26     16093      22000\n",
       "2016-01-01 02:00:00        144         21     16093      22000\n",
       "2016-01-01 03:00:00        139          0     16093      22000\n",
       "2016-01-01 04:00:00        133          0     16093      22000\n",
       "2016-01-01 05:00:00        122          0     16093      22000"
      ]
     },
     "execution_count": 9,
     "metadata": {},
     "output_type": "execute_result"
    }
   ],
   "source": [
    "sand_df.head()"
   ]
  },
  {
   "cell_type": "code",
   "execution_count": 10,
   "metadata": {},
   "outputs": [
    {
     "data": {
      "text/html": [
       "<div>\n",
       "<style scoped>\n",
       "    .dataframe tbody tr th:only-of-type {\n",
       "        vertical-align: middle;\n",
       "    }\n",
       "\n",
       "    .dataframe tbody tr th {\n",
       "        vertical-align: top;\n",
       "    }\n",
       "\n",
       "    .dataframe thead th {\n",
       "        text-align: right;\n",
       "    }\n",
       "</style>\n",
       "<table border=\"1\" class=\"dataframe\">\n",
       "  <thead>\n",
       "    <tr style=\"text-align: right;\">\n",
       "      <th></th>\n",
       "      <th>rive_temp</th>\n",
       "      <th>rive_wind</th>\n",
       "      <th>rive_vis</th>\n",
       "      <th>rive_ceil</th>\n",
       "    </tr>\n",
       "    <tr>\n",
       "      <th>datetime</th>\n",
       "      <th></th>\n",
       "      <th></th>\n",
       "      <th></th>\n",
       "      <th></th>\n",
       "    </tr>\n",
       "  </thead>\n",
       "  <tbody>\n",
       "    <tr>\n",
       "      <th>2016-01-01 01:00:00</th>\n",
       "      <td>133</td>\n",
       "      <td>51</td>\n",
       "      <td>16093</td>\n",
       "      <td>22000</td>\n",
       "    </tr>\n",
       "    <tr>\n",
       "      <th>2016-01-01 02:00:00</th>\n",
       "      <td>128</td>\n",
       "      <td>46</td>\n",
       "      <td>16093</td>\n",
       "      <td>22000</td>\n",
       "    </tr>\n",
       "    <tr>\n",
       "      <th>2016-01-01 03:00:00</th>\n",
       "      <td>122</td>\n",
       "      <td>46</td>\n",
       "      <td>16093</td>\n",
       "      <td>22000</td>\n",
       "    </tr>\n",
       "    <tr>\n",
       "      <th>2016-01-01 04:00:00</th>\n",
       "      <td>117</td>\n",
       "      <td>41</td>\n",
       "      <td>16093</td>\n",
       "      <td>22000</td>\n",
       "    </tr>\n",
       "    <tr>\n",
       "      <th>2016-01-01 05:00:00</th>\n",
       "      <td>111</td>\n",
       "      <td>51</td>\n",
       "      <td>16093</td>\n",
       "      <td>22000</td>\n",
       "    </tr>\n",
       "  </tbody>\n",
       "</table>\n",
       "</div>"
      ],
      "text/plain": [
       "                     rive_temp  rive_wind  rive_vis  rive_ceil\n",
       "datetime                                                      \n",
       "2016-01-01 01:00:00        133         51     16093      22000\n",
       "2016-01-01 02:00:00        128         46     16093      22000\n",
       "2016-01-01 03:00:00        122         46     16093      22000\n",
       "2016-01-01 04:00:00        117         41     16093      22000\n",
       "2016-01-01 05:00:00        111         51     16093      22000"
      ]
     },
     "execution_count": 10,
     "metadata": {},
     "output_type": "execute_result"
    }
   ],
   "source": [
    "rive_df.head()"
   ]
  },
  {
   "cell_type": "code",
   "execution_count": 11,
   "metadata": {},
   "outputs": [
    {
     "data": {
      "text/html": [
       "<div>\n",
       "<style scoped>\n",
       "    .dataframe tbody tr th:only-of-type {\n",
       "        vertical-align: middle;\n",
       "    }\n",
       "\n",
       "    .dataframe tbody tr th {\n",
       "        vertical-align: top;\n",
       "    }\n",
       "\n",
       "    .dataframe thead th {\n",
       "        text-align: right;\n",
       "    }\n",
       "</style>\n",
       "<table border=\"1\" class=\"dataframe\">\n",
       "  <thead>\n",
       "    <tr style=\"text-align: right;\">\n",
       "      <th></th>\n",
       "      <th>redd_temp</th>\n",
       "      <th>redd_wind</th>\n",
       "      <th>redd_vis</th>\n",
       "      <th>redd_ceil</th>\n",
       "    </tr>\n",
       "    <tr>\n",
       "      <th>datetime</th>\n",
       "      <th></th>\n",
       "      <th></th>\n",
       "      <th></th>\n",
       "      <th></th>\n",
       "    </tr>\n",
       "  </thead>\n",
       "  <tbody>\n",
       "    <tr>\n",
       "      <th>2016-01-01 01:00:00</th>\n",
       "      <td>94</td>\n",
       "      <td>72</td>\n",
       "      <td>16093</td>\n",
       "      <td>22000</td>\n",
       "    </tr>\n",
       "    <tr>\n",
       "      <th>2016-01-01 02:00:00</th>\n",
       "      <td>83</td>\n",
       "      <td>93</td>\n",
       "      <td>16093</td>\n",
       "      <td>22000</td>\n",
       "    </tr>\n",
       "    <tr>\n",
       "      <th>2016-01-01 03:00:00</th>\n",
       "      <td>78</td>\n",
       "      <td>67</td>\n",
       "      <td>16093</td>\n",
       "      <td>22000</td>\n",
       "    </tr>\n",
       "    <tr>\n",
       "      <th>2016-01-01 04:00:00</th>\n",
       "      <td>67</td>\n",
       "      <td>72</td>\n",
       "      <td>16093</td>\n",
       "      <td>22000</td>\n",
       "    </tr>\n",
       "    <tr>\n",
       "      <th>2016-01-01 06:00:00</th>\n",
       "      <td>56</td>\n",
       "      <td>72</td>\n",
       "      <td>16093</td>\n",
       "      <td>22000</td>\n",
       "    </tr>\n",
       "  </tbody>\n",
       "</table>\n",
       "</div>"
      ],
      "text/plain": [
       "                     redd_temp  redd_wind  redd_vis  redd_ceil\n",
       "datetime                                                      \n",
       "2016-01-01 01:00:00         94         72     16093      22000\n",
       "2016-01-01 02:00:00         83         93     16093      22000\n",
       "2016-01-01 03:00:00         78         67     16093      22000\n",
       "2016-01-01 04:00:00         67         72     16093      22000\n",
       "2016-01-01 06:00:00         56         72     16093      22000"
      ]
     },
     "execution_count": 11,
     "metadata": {},
     "output_type": "execute_result"
    }
   ],
   "source": [
    "redd_df.head()"
   ]
  },
  {
   "cell_type": "code",
   "execution_count": 12,
   "metadata": {
    "scrolled": true
   },
   "outputs": [
    {
     "data": {
      "text/html": [
       "<div>\n",
       "<style scoped>\n",
       "    .dataframe tbody tr th:only-of-type {\n",
       "        vertical-align: middle;\n",
       "    }\n",
       "\n",
       "    .dataframe tbody tr th {\n",
       "        vertical-align: top;\n",
       "    }\n",
       "\n",
       "    .dataframe thead th {\n",
       "        text-align: right;\n",
       "    }\n",
       "</style>\n",
       "<table border=\"1\" class=\"dataframe\">\n",
       "  <thead>\n",
       "    <tr style=\"text-align: right;\">\n",
       "      <th></th>\n",
       "      <th>fres_temp</th>\n",
       "      <th>fres_wind</th>\n",
       "      <th>fres_vis</th>\n",
       "      <th>fres_ceil</th>\n",
       "    </tr>\n",
       "    <tr>\n",
       "      <th>datetime</th>\n",
       "      <th></th>\n",
       "      <th></th>\n",
       "      <th></th>\n",
       "      <th></th>\n",
       "    </tr>\n",
       "  </thead>\n",
       "  <tbody>\n",
       "    <tr>\n",
       "      <th>2016-01-01 01:00:00</th>\n",
       "      <td>100</td>\n",
       "      <td>0</td>\n",
       "      <td>11265</td>\n",
       "      <td>22000</td>\n",
       "    </tr>\n",
       "    <tr>\n",
       "      <th>2016-01-01 02:00:00</th>\n",
       "      <td>78</td>\n",
       "      <td>0</td>\n",
       "      <td>11265</td>\n",
       "      <td>22000</td>\n",
       "    </tr>\n",
       "    <tr>\n",
       "      <th>2016-01-01 03:00:00</th>\n",
       "      <td>67</td>\n",
       "      <td>0</td>\n",
       "      <td>9656</td>\n",
       "      <td>22000</td>\n",
       "    </tr>\n",
       "    <tr>\n",
       "      <th>2016-01-01 04:00:00</th>\n",
       "      <td>56</td>\n",
       "      <td>15</td>\n",
       "      <td>8047</td>\n",
       "      <td>22000</td>\n",
       "    </tr>\n",
       "    <tr>\n",
       "      <th>2016-01-01 05:00:00</th>\n",
       "      <td>39</td>\n",
       "      <td>0</td>\n",
       "      <td>6437</td>\n",
       "      <td>22000</td>\n",
       "    </tr>\n",
       "  </tbody>\n",
       "</table>\n",
       "</div>"
      ],
      "text/plain": [
       "                     fres_temp  fres_wind  fres_vis  fres_ceil\n",
       "datetime                                                      \n",
       "2016-01-01 01:00:00        100          0     11265      22000\n",
       "2016-01-01 02:00:00         78          0     11265      22000\n",
       "2016-01-01 03:00:00         67          0      9656      22000\n",
       "2016-01-01 04:00:00         56         15      8047      22000\n",
       "2016-01-01 05:00:00         39          0      6437      22000"
      ]
     },
     "execution_count": 12,
     "metadata": {},
     "output_type": "execute_result"
    }
   ],
   "source": [
    "fres_df.head()"
   ]
  },
  {
   "cell_type": "markdown",
   "metadata": {},
   "source": [
    "---\n",
    "\n",
    "## Join DataFrames"
   ]
  },
  {
   "cell_type": "code",
   "execution_count": 13,
   "metadata": {},
   "outputs": [
    {
     "data": {
      "text/plain": [
       "(24007, 4)"
      ]
     },
     "execution_count": 13,
     "metadata": {},
     "output_type": "execute_result"
    }
   ],
   "source": [
    "weather_df = sand_df\n",
    "weather_df.shape"
   ]
  },
  {
   "cell_type": "code",
   "execution_count": 14,
   "metadata": {},
   "outputs": [
    {
     "data": {
      "text/plain": [
       "(33488, 8)"
      ]
     },
     "execution_count": 14,
     "metadata": {},
     "output_type": "execute_result"
    }
   ],
   "source": [
    "weather_df = weather_df.merge(fres_df,\n",
    "                              how='outer',\n",
    "                              left_index = True,\n",
    "                              right_index = True)\n",
    "weather_df.shape"
   ]
  },
  {
   "cell_type": "code",
   "execution_count": 15,
   "metadata": {},
   "outputs": [
    {
     "data": {
      "text/plain": [
       "(39859, 12)"
      ]
     },
     "execution_count": 15,
     "metadata": {},
     "output_type": "execute_result"
    }
   ],
   "source": [
    "weather_df = weather_df.merge(rive_df,\n",
    "                              how='outer',\n",
    "                              left_index = True,\n",
    "                              right_index = True)\n",
    "weather_df.shape"
   ]
  },
  {
   "cell_type": "code",
   "execution_count": 16,
   "metadata": {},
   "outputs": [
    {
     "data": {
      "text/plain": [
       "(51727, 16)"
      ]
     },
     "execution_count": 16,
     "metadata": {},
     "output_type": "execute_result"
    }
   ],
   "source": [
    "weather_df = weather_df.merge(redd_df,\n",
    "                              how='outer',\n",
    "                              left_index = True,\n",
    "                              right_index = True)\n",
    "weather_df.shape"
   ]
  },
  {
   "cell_type": "code",
   "execution_count": 17,
   "metadata": {},
   "outputs": [
    {
     "data": {
      "text/plain": [
       "(49932, 16)"
      ]
     },
     "execution_count": 17,
     "metadata": {},
     "output_type": "execute_result"
    }
   ],
   "source": [
    "weather_df.drop_duplicates(inplace=True)\n",
    "weather_df.shape"
   ]
  },
  {
   "cell_type": "code",
   "execution_count": 18,
   "metadata": {},
   "outputs": [
    {
     "data": {
      "text/plain": [
       "(26190, 16)"
      ]
     },
     "execution_count": 18,
     "metadata": {},
     "output_type": "execute_result"
    }
   ],
   "source": [
    "weather_df = weather_df[~weather_df.index.duplicated(keep='first')]\n",
    "weather_df.shape"
   ]
  },
  {
   "cell_type": "code",
   "execution_count": 19,
   "metadata": {},
   "outputs": [
    {
     "data": {
      "text/plain": [
       "29023"
      ]
     },
     "execution_count": 19,
     "metadata": {},
     "output_type": "execute_result"
    }
   ],
   "source": [
    "datetime_index = pd.date_range(start = '2016-01-01 01:00',\n",
    "                               end   = '2019-04-24 07:00',\n",
    "                               freq  = 'H')\n",
    "len(datetime_index)"
   ]
  },
  {
   "cell_type": "code",
   "execution_count": 20,
   "metadata": {
    "scrolled": true
   },
   "outputs": [],
   "source": [
    "weather_df = weather_df.reindex(datetime_index)\n",
    "weather_df.fillna(method='ffill', inplace=True)"
   ]
  },
  {
   "cell_type": "code",
   "execution_count": 21,
   "metadata": {},
   "outputs": [],
   "source": [
    "weather_df = weather_df.tz_localize('America/Los_Angeles',\n",
    "                                    ambiguous=True,\n",
    "                                    nonexistent='shift_forward')"
   ]
  },
  {
   "cell_type": "code",
   "execution_count": 22,
   "metadata": {},
   "outputs": [
    {
     "data": {
      "text/plain": [
       "0"
      ]
     },
     "execution_count": 22,
     "metadata": {},
     "output_type": "execute_result"
    }
   ],
   "source": [
    "weather_df.isna().sum().sum()"
   ]
  },
  {
   "cell_type": "code",
   "execution_count": 23,
   "metadata": {},
   "outputs": [],
   "source": [
    "weather_df = weather_df.astype(int)"
   ]
  },
  {
   "cell_type": "code",
   "execution_count": 24,
   "metadata": {},
   "outputs": [
    {
     "data": {
      "text/plain": [
       "(29023, 16)"
      ]
     },
     "execution_count": 24,
     "metadata": {},
     "output_type": "execute_result"
    }
   ],
   "source": [
    "weather_df.shape"
   ]
  },
  {
   "cell_type": "code",
   "execution_count": 25,
   "metadata": {},
   "outputs": [
    {
     "data": {
      "text/html": [
       "<div>\n",
       "<style scoped>\n",
       "    .dataframe tbody tr th:only-of-type {\n",
       "        vertical-align: middle;\n",
       "    }\n",
       "\n",
       "    .dataframe tbody tr th {\n",
       "        vertical-align: top;\n",
       "    }\n",
       "\n",
       "    .dataframe thead th {\n",
       "        text-align: right;\n",
       "    }\n",
       "</style>\n",
       "<table border=\"1\" class=\"dataframe\">\n",
       "  <thead>\n",
       "    <tr style=\"text-align: right;\">\n",
       "      <th></th>\n",
       "      <th>sand_temp</th>\n",
       "      <th>sand_wind</th>\n",
       "      <th>sand_vis</th>\n",
       "      <th>sand_ceil</th>\n",
       "      <th>fres_temp</th>\n",
       "      <th>fres_wind</th>\n",
       "      <th>fres_vis</th>\n",
       "      <th>fres_ceil</th>\n",
       "      <th>rive_temp</th>\n",
       "      <th>rive_wind</th>\n",
       "      <th>rive_vis</th>\n",
       "      <th>rive_ceil</th>\n",
       "      <th>redd_temp</th>\n",
       "      <th>redd_wind</th>\n",
       "      <th>redd_vis</th>\n",
       "      <th>redd_ceil</th>\n",
       "    </tr>\n",
       "  </thead>\n",
       "  <tbody>\n",
       "    <tr>\n",
       "      <th>2016-01-01 01:00:00-08:00</th>\n",
       "      <td>156</td>\n",
       "      <td>26</td>\n",
       "      <td>16093</td>\n",
       "      <td>22000</td>\n",
       "      <td>100</td>\n",
       "      <td>0</td>\n",
       "      <td>11265</td>\n",
       "      <td>22000</td>\n",
       "      <td>133</td>\n",
       "      <td>51</td>\n",
       "      <td>16093</td>\n",
       "      <td>22000</td>\n",
       "      <td>94</td>\n",
       "      <td>72</td>\n",
       "      <td>16093</td>\n",
       "      <td>22000</td>\n",
       "    </tr>\n",
       "    <tr>\n",
       "      <th>2016-01-01 02:00:00-08:00</th>\n",
       "      <td>144</td>\n",
       "      <td>21</td>\n",
       "      <td>16093</td>\n",
       "      <td>22000</td>\n",
       "      <td>78</td>\n",
       "      <td>0</td>\n",
       "      <td>11265</td>\n",
       "      <td>22000</td>\n",
       "      <td>128</td>\n",
       "      <td>46</td>\n",
       "      <td>16093</td>\n",
       "      <td>22000</td>\n",
       "      <td>83</td>\n",
       "      <td>93</td>\n",
       "      <td>16093</td>\n",
       "      <td>22000</td>\n",
       "    </tr>\n",
       "    <tr>\n",
       "      <th>2016-01-01 03:00:00-08:00</th>\n",
       "      <td>139</td>\n",
       "      <td>0</td>\n",
       "      <td>16093</td>\n",
       "      <td>22000</td>\n",
       "      <td>67</td>\n",
       "      <td>0</td>\n",
       "      <td>9656</td>\n",
       "      <td>22000</td>\n",
       "      <td>122</td>\n",
       "      <td>46</td>\n",
       "      <td>16093</td>\n",
       "      <td>22000</td>\n",
       "      <td>78</td>\n",
       "      <td>67</td>\n",
       "      <td>16093</td>\n",
       "      <td>22000</td>\n",
       "    </tr>\n",
       "    <tr>\n",
       "      <th>2016-01-01 04:00:00-08:00</th>\n",
       "      <td>133</td>\n",
       "      <td>0</td>\n",
       "      <td>16093</td>\n",
       "      <td>22000</td>\n",
       "      <td>56</td>\n",
       "      <td>15</td>\n",
       "      <td>8047</td>\n",
       "      <td>22000</td>\n",
       "      <td>117</td>\n",
       "      <td>41</td>\n",
       "      <td>16093</td>\n",
       "      <td>22000</td>\n",
       "      <td>67</td>\n",
       "      <td>72</td>\n",
       "      <td>16093</td>\n",
       "      <td>22000</td>\n",
       "    </tr>\n",
       "    <tr>\n",
       "      <th>2016-01-01 05:00:00-08:00</th>\n",
       "      <td>122</td>\n",
       "      <td>0</td>\n",
       "      <td>16093</td>\n",
       "      <td>22000</td>\n",
       "      <td>39</td>\n",
       "      <td>0</td>\n",
       "      <td>6437</td>\n",
       "      <td>22000</td>\n",
       "      <td>111</td>\n",
       "      <td>51</td>\n",
       "      <td>16093</td>\n",
       "      <td>22000</td>\n",
       "      <td>67</td>\n",
       "      <td>72</td>\n",
       "      <td>16093</td>\n",
       "      <td>22000</td>\n",
       "    </tr>\n",
       "  </tbody>\n",
       "</table>\n",
       "</div>"
      ],
      "text/plain": [
       "                           sand_temp  sand_wind  sand_vis  sand_ceil  \\\n",
       "2016-01-01 01:00:00-08:00        156         26     16093      22000   \n",
       "2016-01-01 02:00:00-08:00        144         21     16093      22000   \n",
       "2016-01-01 03:00:00-08:00        139          0     16093      22000   \n",
       "2016-01-01 04:00:00-08:00        133          0     16093      22000   \n",
       "2016-01-01 05:00:00-08:00        122          0     16093      22000   \n",
       "\n",
       "                           fres_temp  fres_wind  fres_vis  fres_ceil  \\\n",
       "2016-01-01 01:00:00-08:00        100          0     11265      22000   \n",
       "2016-01-01 02:00:00-08:00         78          0     11265      22000   \n",
       "2016-01-01 03:00:00-08:00         67          0      9656      22000   \n",
       "2016-01-01 04:00:00-08:00         56         15      8047      22000   \n",
       "2016-01-01 05:00:00-08:00         39          0      6437      22000   \n",
       "\n",
       "                           rive_temp  rive_wind  rive_vis  rive_ceil  \\\n",
       "2016-01-01 01:00:00-08:00        133         51     16093      22000   \n",
       "2016-01-01 02:00:00-08:00        128         46     16093      22000   \n",
       "2016-01-01 03:00:00-08:00        122         46     16093      22000   \n",
       "2016-01-01 04:00:00-08:00        117         41     16093      22000   \n",
       "2016-01-01 05:00:00-08:00        111         51     16093      22000   \n",
       "\n",
       "                           redd_temp  redd_wind  redd_vis  redd_ceil  \n",
       "2016-01-01 01:00:00-08:00         94         72     16093      22000  \n",
       "2016-01-01 02:00:00-08:00         83         93     16093      22000  \n",
       "2016-01-01 03:00:00-08:00         78         67     16093      22000  \n",
       "2016-01-01 04:00:00-08:00         67         72     16093      22000  \n",
       "2016-01-01 05:00:00-08:00         67         72     16093      22000  "
      ]
     },
     "execution_count": 25,
     "metadata": {},
     "output_type": "execute_result"
    }
   ],
   "source": [
    "weather_df.head()"
   ]
  },
  {
   "cell_type": "code",
   "execution_count": 26,
   "metadata": {},
   "outputs": [],
   "source": [
    "weather_df.to_csv('../data/ca_weather.csv')"
   ]
  },
  {
   "cell_type": "code",
   "execution_count": null,
   "metadata": {},
   "outputs": [],
   "source": []
  }
 ],
 "metadata": {
  "kernelspec": {
   "display_name": "Python 3",
   "language": "python",
   "name": "python3"
  },
  "language_info": {
   "codemirror_mode": {
    "name": "ipython",
    "version": 3
   },
   "file_extension": ".py",
   "mimetype": "text/x-python",
   "name": "python",
   "nbconvert_exporter": "python",
   "pygments_lexer": "ipython3",
   "version": "3.8.8"
  },
  "toc": {
   "base_numbering": 1,
   "nav_menu": {},
   "number_sections": true,
   "sideBar": true,
   "skip_h1_title": true,
   "title_cell": "Table of Contents",
   "title_sidebar": "Contents",
   "toc_cell": true,
   "toc_position": {
    "height": "calc(100% - 180px)",
    "left": "10px",
    "top": "150px",
    "width": "279.641px"
   },
   "toc_section_display": true,
   "toc_window_display": true
  },
  "varInspector": {
   "cols": {
    "lenName": 16,
    "lenType": 16,
    "lenVar": 40
   },
   "kernels_config": {
    "python": {
     "delete_cmd_postfix": "",
     "delete_cmd_prefix": "del ",
     "library": "var_list.py",
     "varRefreshCmd": "print(var_dic_list())"
    },
    "r": {
     "delete_cmd_postfix": ") ",
     "delete_cmd_prefix": "rm(",
     "library": "var_list.r",
     "varRefreshCmd": "cat(var_dic_list()) "
    }
   },
   "types_to_exclude": [
    "module",
    "function",
    "builtin_function_or_method",
    "instance",
    "_Feature"
   ],
   "window_display": false
  }
 },
 "nbformat": 4,
 "nbformat_minor": 2
}
