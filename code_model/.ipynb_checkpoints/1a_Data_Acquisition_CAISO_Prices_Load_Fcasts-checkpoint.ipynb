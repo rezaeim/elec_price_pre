{
 "cells": [
  {
   "cell_type": "markdown",
   "metadata": {},
   "source": [
    "<img src=\"http://imgur.com/1ZcRyrc.png\" style=\"float: left; margin: 20px; height: 55px\">  \n",
    "\n",
    "<b> <font size='5'>  \n",
    "ELEC PRICE PREDICTION CAPSTONE:</font>  \n",
    "\n",
    "<font size='4'>CAISO OASIS API Data Acquisition Notebook</font> </b>\n",
    "\n",
    "<font size='3'>  \n",
    "&nbsp; &nbsp; &nbsp; &nbsp; &nbsp; &nbsp; &nbsp; &nbsp; &nbsp; &nbsp; Manu Kalia Project Submission<br>\n",
    "&nbsp; &nbsp; &nbsp; &nbsp; &nbsp; &nbsp; &nbsp; &nbsp; &nbsp; &nbsp; DSI-7-SF<br>\n",
    "&nbsp; &nbsp; &nbsp; &nbsp; &nbsp; &nbsp; &nbsp; &nbsp; &nbsp; &nbsp; 15-May-2019<br>\n",
    "</font>\n",
    "\n",
    "---\n"
   ]
  },
  {
   "cell_type": "markdown",
   "metadata": {
    "toc": true
   },
   "source": [
    "<h1>Table of Contents<span class=\"tocSkip\"></span></h1>\n",
    "<div class=\"toc\"><ul class=\"toc-item\"><li><span><a href=\"#Import-modules-and-classes\" data-toc-modified-id=\"Import-modules-and-classes-1\"><span class=\"toc-item-num\">1&nbsp;&nbsp;</span>Import modules and classes</a></span></li><li><span><a href=\"#Functions-to-Construct-Queries\" data-toc-modified-id=\"Functions-to-Construct-Queries-2\"><span class=\"toc-item-num\">2&nbsp;&nbsp;</span>Functions to Construct Queries</a></span></li><li><span><a href=\"#Get-Energy-Price-Zipfiles\" data-toc-modified-id=\"Get-Energy-Price-Zipfiles-3\"><span class=\"toc-item-num\">3&nbsp;&nbsp;</span>Get Energy Price Zipfiles</a></span></li><li><span><a href=\"#Unzip-Downloaded-CAISO-Files\" data-toc-modified-id=\"Unzip-Downloaded-CAISO-Files-4\"><span class=\"toc-item-num\">4&nbsp;&nbsp;</span>Unzip Downloaded CAISO Files</a></span></li></ul></div>"
   ]
  },
  {
   "cell_type": "markdown",
   "metadata": {},
   "source": [
    "---\n",
    "\n",
    "## Import modules and classes"
   ]
  },
  {
   "cell_type": "code",
   "execution_count": 1,
   "metadata": {},
   "outputs": [],
   "source": [
    "import wget, os, zipfile\n",
    "import time"
   ]
  },
  {
   "cell_type": "markdown",
   "metadata": {},
   "source": [
    "---\n",
    "\n",
    "## Functions to Construct Queries\n",
    "\n",
    "(for Accessing CAISO OASIS API)"
   ]
  },
  {
   "cell_type": "markdown",
   "metadata": {},
   "source": [
    "**CSV download query format... DAM**  \n",
    "\n",
    "http://oasis.caiso.com/oasisapi/SingleZip?resultformat=6&queryname=PRC_LMP&version=1&startdatetime=20160101T08:00-0000&enddatetime=20160201T08:00-0000&market_run_id=DAM&node=BAYSHOR2_1_N001\n",
    "\n",
    "**CSV download query format... HASP**  \n",
    "\n",
    "http://oasis.caiso.com/oasisapi/SingleZip?resultformat=6&queryname=PRC_HASP_LMP&version=3&startdatetime=20160101T08:00-0000&enddatetime=20160202T08:00-0000&market_run_id=HASP&node=BAYSHOR2_1_N001\n",
    "\n",
    "**CSV download query format... RTM**\n",
    "\n",
    "http://oasis.caiso.com/oasisapi/SingleZip?resultformat=6&queryname=PRC_INTVL_LMP&version=3&startdatetime=20190505T07:00-0000&enddatetime=20190505T08:00-0000&market_run_id=RTM&node=BAYSHOR2_1_N001\n",
    "\n",
    "**CSV download query format... 7 Day Ahead Load F'cast**\n",
    "\n",
    "http://oasis.caiso.com/oasisapi/SingleZip?resultformat=6&queryname=SLD_FCST&version=1&market_run_id=7DA&startdatetime=20190505T07:00-0000&enddatetime=20190506T07:00-0000\n",
    "\n",
    "**CSV download query format... 2 Day Ahead Load F'cast**\n",
    "\n",
    "http://oasis.caiso.com/oasisapi/SingleZip?resultformat=6&queryname=SLD_FCST&version=1&market_run_id=2DA&startdatetime=20190505T07:00-0000&enddatetime=20190506T07:00-0000\n",
    "\n",
    "**CSV download query format... DAM Load F'cast**\n",
    "\n",
    "http://oasis.caiso.com/oasisapi/SingleZip?resultformat=6&queryname=SLD_FCST&version=1&market_run_id=DAM&startdatetime=20190505T07:00-0000&enddatetime=20190506T07:00-0000\n",
    "\n",
    "**CSV download query format... RTM Load F'cast**\n",
    "\n",
    "http://oasis.caiso.com/oasisapi/SingleZip?resultformat=6&queryname=SLD_FCST&version=1&market_run_id=RTM&startdatetime=20190505T07:00-0000&enddatetime=20190506T07:00-0000\n",
    "\n",
    "<br/> \n",
    "\n",
    "**Mandatory Parameters**\n",
    "\n",
    "|Parameter    |Description                                                         |\n",
    "|-------------|--------------------------------------------------------------------|\n",
    "|startdatetime|valid operating start datetime in GMT (yyyymmddThh24:miZ)           |\n",
    "|enddatetime  |valid operating end datetime in GMT (yyyymmddThh24:miZ)             |\n",
    "|resultformat |'6' for .csv file download                                          |\n",
    "|queryname    |'PRC_LMP' for DAM LMP prices, 'PRC_HASP_LMP' for HASP LMP prices    |\n",
    "|market_run_id|'DAM' for Day-Ahead-Market, 'HASP' for Hour-Ahead-Scheduling Process|\n",
    "|version      |API version ('1' for the DAM query, '3' for HASP query)             |\n",
    "|node         |Use the San Francisco Bay Shore node site as the example node       |\n"
   ]
  },
  {
   "cell_type": "code",
   "execution_count": 2,
   "metadata": {
    "cell_style": "center",
    "code_folding": [
     0
    ]
   },
   "outputs": [],
   "source": [
    "# Function to construct a one-month electricity Day-Ahead-Market\n",
    "#    data query for the CAISO OASIS API\n",
    "\n",
    "# Parameters (all strings):\n",
    "#    node                       name of node\n",
    "#    startyear, startmonth\n",
    "\n",
    "\n",
    "def create_DAM_query(node, startyear, startmonth):\n",
    "    oasis_website = 'oasis.caiso.com'\n",
    "    context_path  = 'oasisapi'\n",
    "\n",
    "    url = f'http://{oasis_website}/{context_path}/SingleZip'\n",
    "\n",
    "    resultformat  =  '6'\n",
    "    queryname     =  'PRC_LMP'\n",
    "    version       =  '1'\n",
    "    market_run_id =  'DAM'\n",
    "    \n",
    "    if startmonth == '12':\n",
    "        endmonth  =  '01'\n",
    "        endyear   =  f'{int(startyear) + 1}'\n",
    "    else:\n",
    "        endmonth  =  f'{(int(startmonth) + 1):02d}'\n",
    "        endyear   =  startyear\n",
    "\n",
    "    startdatetime =  f'{startyear}{startmonth}01T08:00-0000'\n",
    "    enddatetime   =  f'{endyear}{endmonth}01T07:00-0000'\n",
    "\n",
    "    query = f'{url}?resultformat={resultformat}&queryname={queryname}\\\n",
    "&version={version}&startdatetime={startdatetime}&enddatetime={enddatetime}\\\n",
    "&market_run_id={market_run_id}&node={node}'\n",
    "    \n",
    "    return query"
   ]
  },
  {
   "cell_type": "code",
   "execution_count": 3,
   "metadata": {
    "cell_style": "center",
    "code_folding": [
     0
    ]
   },
   "outputs": [],
   "source": [
    "# Function to construct a one-month electricity Hour-Ahead-Scheduling-Process\n",
    "#    data query for the CAISO OASIS API\n",
    "\n",
    "# Parameters (all strings):\n",
    "#    node                       name of node\n",
    "#    startyear, startmonth\n",
    "\n",
    "\n",
    "def create_HASP_query(node, startyear, startmonth):\n",
    "    oasis_website = 'oasis.caiso.com'\n",
    "    context_path  = 'oasisapi'\n",
    "\n",
    "    url = f'http://{oasis_website}/{context_path}/SingleZip'\n",
    "\n",
    "    resultformat  =  '6'\n",
    "    queryname     =  'PRC_HASP_LMP'\n",
    "    version       =  '3'\n",
    "    market_run_id =  'HASP'\n",
    "    \n",
    "    if startmonth == '12':\n",
    "        endmonth  =  '01'\n",
    "        endyear   =  f'{int(startyear) + 1}'\n",
    "    else:\n",
    "        endmonth  =  f'{(int(startmonth) + 1):02d}'\n",
    "        endyear   =  startyear\n",
    "\n",
    "    startdatetime =  f'{startyear}{startmonth}01T08:00-0000'\n",
    "    enddatetime   =  f'{endyear}{endmonth}01T07:00-0000'\n",
    "\n",
    "    query = f'{url}?resultformat={resultformat}&queryname={queryname}\\\n",
    "&version={version}&startdatetime={startdatetime}&enddatetime={enddatetime}\\\n",
    "&market_run_id={market_run_id}&node={node}'\n",
    "    \n",
    "    return query"
   ]
  },
  {
   "cell_type": "code",
   "execution_count": 4,
   "metadata": {
    "cell_style": "center",
    "code_folding": []
   },
   "outputs": [],
   "source": [
    "# Function to construct a GENERIC one-month .csv LMP price download\n",
    "#    data query for the CAISO OASIS API\n",
    "\n",
    "# Parameters (all strings):\n",
    "#    node                       name of node\n",
    "#    startyear, startmonth\n",
    "\n",
    "\n",
    "def price_query(queryname, version, startyear, startmonth, market_run_id, node):\n",
    "    oasis_website = 'oasis.caiso.com'\n",
    "    context_path  = 'oasisapi'\n",
    "\n",
    "    url = f'http://{oasis_website}/{context_path}/SingleZip'\n",
    "\n",
    "    resultformat  =  '6'\n",
    "    \n",
    "    if startmonth == '12':\n",
    "        endmonth  =  '01'\n",
    "        endyear   =  f'{int(startyear) + 1}'\n",
    "    else:\n",
    "        endmonth  =  f'{(int(startmonth) + 1):02d}'\n",
    "        endyear   =  startyear\n",
    "\n",
    "    startdatetime =  f'{startyear}{startmonth}01T08:00-0000'\n",
    "    enddatetime   =  f'{endyear}{endmonth}01T07:00-0000'\n",
    "\n",
    "    query = f'{url}?resultformat={resultformat}&queryname={queryname}&version={version}\\\n",
    "&startdatetime={startdatetime}&enddatetime={enddatetime}\\\n",
    "&market_run_id={market_run_id}&node={node}'\n",
    "    \n",
    "    return query"
   ]
  },
  {
   "cell_type": "code",
   "execution_count": 11,
   "metadata": {},
   "outputs": [],
   "source": [
    "# Function to construct a GENERIC one-month .csv load (demand) forecast\n",
    "#    download data query for the CAISO OASIS API\n",
    "\n",
    "# Parameters (all strings):\n",
    "#    startyear, startmonth\n",
    "\n",
    "\n",
    "def load_query(queryname, version, startyear, startmonth, market_run_id):\n",
    "    oasis_website = 'oasis.caiso.com'\n",
    "    context_path  = 'oasisapi'\n",
    "\n",
    "    url = f'http://{oasis_website}/{context_path}/SingleZip'\n",
    "\n",
    "    resultformat  =  '6'\n",
    "    \n",
    "    if startmonth == '12':\n",
    "        endmonth  =  '01'\n",
    "        endyear   =  f'{int(startyear) + 1}'\n",
    "    else:\n",
    "        endmonth  =  f'{(int(startmonth) + 1):02d}'\n",
    "        endyear   =  startyear\n",
    "\n",
    "    startdatetime =  f'{startyear}{startmonth}01T08:00-0000'\n",
    "    enddatetime   =  f'{endyear}{endmonth}01T07:00-0000'\n",
    "\n",
    "    query = f'{url}?resultformat={resultformat}&queryname={queryname}&version={version}\\\n",
    "&market_run_id={market_run_id}&startdatetime={startdatetime}&enddatetime={enddatetime}'\n",
    "    \n",
    "    return query"
   ]
  },
  {
   "cell_type": "markdown",
   "metadata": {},
   "source": [
    "---\n",
    "\n",
    "## Get Energy Price Zipfiles \n",
    "\n",
    "(from CAISO OASIS website via API)"
   ]
  },
  {
   "cell_type": "code",
   "execution_count": 6,
   "metadata": {
    "code_folding": []
   },
   "outputs": [],
   "source": [
    "node = 'BAYSHOR2_1_N001'\n",
    "\n",
    "for i in range(1, 41):\n",
    "    if i % 12 == 0:\n",
    "        startyear  = str(2016 + i//12 - 1)\n",
    "        startmonth = f'{12:02d}'\n",
    "    else:\n",
    "        startyear  = str(2016 + i//12)\n",
    "        startmonth = f'{i%12:02d}'\n",
    "    \n",
    "    wget.download(price_query('PRC_LMP',\n",
    "                              '3',\n",
    "                              startyear,\n",
    "                              startmonth,\n",
    "                              'DAM',\n",
    "                              node), '../raw_data/caiso_downloads/caiso_dam_dl/')\n",
    "    time.sleep(5)\n",
    "    \n",
    "    wget.download(price_query('PRC_HASP_LMP',\n",
    "                              '3',\n",
    "                              startyear,\n",
    "                              startmonth,\n",
    "                              'HASP',\n",
    "                              node), '../raw_data/caiso_downloads/caiso_hasp_dl/')\n",
    "    time.sleep(5)\n",
    "    \n",
    "    wget.download(price_query('PRC_INTVL_LMP',\n",
    "                              '3',\n",
    "                              startyear,\n",
    "                              startmonth,\n",
    "                              'RTM',\n",
    "                              node), '../raw_data/caiso_downloads/caiso_rtm_dl/')\n",
    "    time.sleep(5)"
   ]
  },
  {
   "cell_type": "code",
   "execution_count": 13,
   "metadata": {
    "code_folding": []
   },
   "outputs": [],
   "source": [
    "# for i in range(1, 41):\n",
    "#     if i % 12 == 0:\n",
    "#         startyear  = str(2016 + i//12 - 1)\n",
    "#         startmonth = f'{12:02d}'\n",
    "#     else:\n",
    "#         startyear  = str(2016 + i//12)\n",
    "#         startmonth = f'{i%12:02d}'\n",
    "    \n",
    "#     wget.download(load_query('SLD_FCST',\n",
    "#                              '1',\n",
    "#                              startyear,\n",
    "#                              startmonth,\n",
    "#                              '7DA',\n",
    "#                             ), '../raw_data/caiso_downloads/caiso_7da_load_dl/')\n",
    "#     time.sleep(5)    \n",
    "    \n",
    "#     wget.download(load_query('SLD_FCST',\n",
    "#                              '1',\n",
    "#                              startyear,\n",
    "#                              startmonth,\n",
    "#                              '2DA',\n",
    "#                             ), '../raw_data/caiso_downloads/caiso_2da_load_dl/')\n",
    "#     time.sleep(5)    \n",
    "    \n",
    "    \n",
    "#     wget.download(load_query('SLD_FCST',\n",
    "#                              '1',\n",
    "#                              startyear,\n",
    "#                              startmonth,\n",
    "#                              'DAM',\n",
    "#                             ), '../raw_data/caiso_downloads/caiso_dam_load_dl/')\n",
    "#     time.sleep(5)    \n",
    "    \n",
    "#     wget.download(load_query('SLD_FCST',\n",
    "#                              '1',\n",
    "#                              startyear,\n",
    "#                              startmonth,\n",
    "#                              'RTM',\n",
    "#                             ), '../raw_data/caiso_downloads/caiso_rtm_load_dl/')\n",
    "#     time.sleep(5)    "
   ]
  },
  {
   "cell_type": "code",
   "execution_count": 27,
   "metadata": {
    "code_folding": [
     0
    ]
   },
   "outputs": [],
   "source": [
    "# Single month download cell\n",
    "\n",
    "# caiso_dam_dl =  '../raw_data/caiso_downloads/caiso_dam_dl/'\n",
    "# caiso_hasp_dl = '../raw_data/caiso_downloads/caiso_hasp_dl/'\n",
    "\n",
    "# node = 'BAYSHOR2_1_N001'\n",
    "\n",
    "# startyear  = '2016'\n",
    "# startmonth = '05'\n",
    "\n",
    "# wget.download(create_DAM_query(node, startyear, startmonth), caiso_dam_dl)\n",
    "# time.sleep(10)\n",
    "# wget.download(create_HASP_query(node, startyear, startmonth), caiso_hasp_dl)"
   ]
  },
  {
   "cell_type": "markdown",
   "metadata": {},
   "source": [
    "---\n",
    "\n",
    "## Unzip Downloaded CAISO Files\n",
    "\n",
    "(to .csv Directories)"
   ]
  },
  {
   "cell_type": "code",
   "execution_count": 4,
   "metadata": {},
   "outputs": [],
   "source": [
    "unzipped_caiso_dam = '../raw_data/unzipped_caiso/unzipped_caiso_dam/'\n",
    "unzipped_caiso_hasp = '../raw_data/unzipped_caiso/unzipped_caiso_hasp/'\n",
    "\n",
    "caiso_dam_dl = '../raw_data/caiso_downloads/caiso_dam_dl/'\n",
    "caiso_hasp_dl = '../raw_data/caiso_downloads/caiso_hasp_dl/'"
   ]
  },
  {
   "cell_type": "code",
   "execution_count": 5,
   "metadata": {
    "collapsed": true
   },
   "outputs": [
    {
     "name": "stdout",
     "output_type": "stream",
     "text": [
      "unzipping... ../caiso_dam_dl/20170701_20170801_PRC_LMP_DAM_20190501_02_57_46_v1.zip\n",
      "unzipping... ../caiso_dam_dl/20160501_20160601_PRC_LMP_DAM_20190501_02_27_13_v1.zip\n",
      "unzipping... ../caiso_dam_dl/20180701_20180801_PRC_LMP_DAM_20190501_03_21_17_v1.zip\n",
      "unzipping... ../caiso_dam_dl/20160701_20160801_PRC_LMP_DAM_20190501_02_32_47_v1.zip\n",
      "unzipping... ../caiso_dam_dl/20160101_20160201_PRC_LMP_DAM_20190501_01_06_29_v1.zip\n",
      "unzipping... ../caiso_dam_dl/20160601_20160701_PRC_LMP_DAM_20190501_01_23_53_v1.zip\n",
      "unzipping... ../caiso_dam_dl/20190201_20190228_PRC_LMP_DAM_20190501_03_28_55_v1.zip\n",
      "unzipping... ../caiso_dam_dl/20180201_20180228_PRC_LMP_DAM_20190501_03_12_02_v1.zip\n",
      "unzipping... ../caiso_dam_dl/20160301_20160401_PRC_LMP_DAM_20190501_01_08_36_v1.zip\n",
      "unzipping... ../caiso_dam_dl/20161101_20161130_PRC_LMP_DAM_20190501_02_40_20_v1.zip\n",
      "unzipping... ../caiso_dam_dl/20170401_20170501_PRC_LMP_DAM_20190501_02_51_08_v1.zip\n",
      "unzipping... ../caiso_dam_dl/20161201_20161231_PRC_LMP_DAM_20190501_02_42_27_v1.zip\n",
      "unzipping... ../caiso_dam_dl/20160801_20160901_PRC_LMP_DAM_20190501_02_34_34_v1.zip\n",
      "unzipping... ../caiso_dam_dl/20170301_20170401_PRC_LMP_DAM_20190501_02_49_07_v1.zip\n",
      "unzipping... ../caiso_dam_dl/20170601_20170701_PRC_LMP_DAM_20190501_02_55_47_v1.zip\n",
      "unzipping... ../caiso_dam_dl/20190301_20190401_PRC_LMP_DAM_20190501_03_29_29_v1.zip\n",
      "unzipping... ../caiso_dam_dl/20160401_20160501_PRC_LMP_DAM_20190501_01_09_58_v1.zip\n",
      "unzipping... ../caiso_dam_dl/20190401_20190501_PRC_LMP_DAM_20190501_03_30_02_v1.zip\n",
      "unzipping... ../caiso_dam_dl/20180401_20180501_PRC_LMP_DAM_20190501_03_15_34_v1.zip\n",
      "unzipping... ../caiso_dam_dl/20180501_20180601_PRC_LMP_DAM_20190501_03_17_32_v1.zip\n",
      "unzipping... ../caiso_dam_dl/20180101_20180131_PRC_LMP_DAM_20190501_03_10_23_v1.zip\n",
      "unzipping... ../caiso_dam_dl/20181101_20181130_PRC_LMP_DAM_20190501_03_27_09_v1.zip\n",
      "unzipping... ../caiso_dam_dl/20180801_20180901_PRC_LMP_DAM_20190501_03_23_15_v1.zip\n",
      "unzipping... ../caiso_dam_dl/20180901_20181001_PRC_LMP_DAM_20190501_03_25_01_v1.zip\n",
      "unzipping... ../caiso_dam_dl/20181001_20181101_PRC_LMP_DAM_20190501_03_26_35_v1.zip\n",
      "unzipping... ../caiso_dam_dl/20190101_20190131_PRC_LMP_DAM_20190501_03_28_20_v1.zip\n",
      "unzipping... ../caiso_dam_dl/20181201_20181231_PRC_LMP_DAM_20190501_03_27_44_v1.zip\n",
      "unzipping... ../caiso_dam_dl/20171201_20171231_PRC_LMP_DAM_20190501_03_08_41_v1.zip\n",
      "unzipping... ../caiso_dam_dl/20161001_20161101_PRC_LMP_DAM_20190501_02_38_20_v1.zip\n",
      "unzipping... ../caiso_dam_dl/20171001_20171101_PRC_LMP_DAM_20190501_03_04_22_v1.zip\n",
      "unzipping... ../caiso_dam_dl/20180601_20180701_PRC_LMP_DAM_20190501_03_19_36_v1.zip\n",
      "unzipping... ../caiso_dam_dl/20171101_20171130_PRC_LMP_DAM_20190501_03_06_39_v1.zip\n",
      "unzipping... ../caiso_dam_dl/20180301_20180401_PRC_LMP_DAM_20190501_03_13_45_v1.zip\n",
      "unzipping... ../caiso_dam_dl/20170501_20170601_PRC_LMP_DAM_20190501_02_53_45_v1.zip\n",
      "unzipping... ../caiso_dam_dl/20170101_20170131_PRC_LMP_DAM_20190501_02_44_34_v1.zip\n",
      "unzipping... ../caiso_dam_dl/20160201_20160301_PRC_LMP_DAM_20190501_01_07_11_v1.zip\n",
      "unzipping... ../caiso_dam_dl/20160901_20161001_PRC_LMP_DAM_20190501_02_36_24_v1.zip\n",
      "unzipping... ../caiso_dam_dl/20170901_20171001_PRC_LMP_DAM_20190501_03_02_07_v1.zip\n",
      "unzipping... ../caiso_dam_dl/20170801_20170901_PRC_LMP_DAM_20190501_02_59_46_v1.zip\n",
      "unzipping... ../caiso_dam_dl/20170201_20170228_PRC_LMP_DAM_20190501_02_47_00_v1.zip\n"
     ]
    }
   ],
   "source": [
    "for item in os.listdir(caiso_dam_dl):           # loop through items in dir\n",
    "    if item.split('.')[-1] == 'zip':            # check for zip extension\n",
    "        file_name = f'{caiso_dam_dl}{item}'     # get relative path of files\n",
    "        print(f'unzipping... {file_name}')\n",
    "        zip_ref = zipfile.ZipFile(file_name)    # create zipfile object\n",
    "        with zip_ref as target:\n",
    "            target.extractall(unzipped_caiso_dam)\n",
    "    else: continue"
   ]
  },
  {
   "cell_type": "code",
   "execution_count": 6,
   "metadata": {
    "collapsed": true
   },
   "outputs": [
    {
     "name": "stdout",
     "output_type": "stream",
     "text": [
      "unzipping... ../caiso_hasp_dl/20160401_20160501_PRC_HASP_LMP_HASP_20190501_01_10_20_v3.zip\n",
      "unzipping... ../caiso_hasp_dl/20171001_20171101_PRC_HASP_LMP_HASP_20190501_03_04_55_v3.zip\n",
      "unzipping... ../caiso_hasp_dl/20180201_20180228_PRC_HASP_LMP_HASP_20190501_03_12_30_v3.zip\n",
      "unzipping... ../caiso_hasp_dl/20190101_20190131_PRC_HASP_LMP_HASP_20190501_03_28_34_v3.zip\n",
      "unzipping... ../caiso_hasp_dl/20160301_20160401_PRC_HASP_LMP_HASP_20190501_01_08_51_v3.zip\n",
      "unzipping... ../caiso_hasp_dl/20170701_20170801_PRC_HASP_LMP_HASP_20190501_02_58_18_v3.zip\n",
      "unzipping... ../caiso_hasp_dl/20161201_20161231_PRC_HASP_LMP_HASP_20190501_02_43_08_v3.zip\n",
      "unzipping... ../caiso_hasp_dl/20190201_20190228_PRC_HASP_LMP_HASP_20190501_03_29_09_v3.zip\n",
      "unzipping... ../caiso_hasp_dl/20181101_20181130_PRC_HASP_LMP_HASP_20190501_03_27_23_v3.zip\n",
      "unzipping... ../caiso_hasp_dl/20171201_20171231_PRC_HASP_LMP_HASP_20190501_03_09_09_v3.zip\n",
      "unzipping... ../caiso_hasp_dl/20160101_20160201_PRC_HASP_LMP_HASP_20190501_01_06_47_v3.zip\n",
      "unzipping... ../caiso_hasp_dl/20190401_20190501_PRC_HASP_LMP_HASP_20190501_03_30_16_v3.zip\n",
      "unzipping... ../caiso_hasp_dl/20161001_20161101_PRC_HASP_LMP_HASP_20190501_02_38_52_v3.zip\n",
      "unzipping... ../caiso_hasp_dl/20170301_20170401_PRC_HASP_LMP_HASP_20190501_02_49_38_v3.zip\n",
      "unzipping... ../caiso_hasp_dl/20160601_20160701_PRC_HASP_LMP_HASP_20190501_01_24_22_v3.zip\n",
      "unzipping... ../caiso_hasp_dl/20180101_20180131_PRC_HASP_LMP_HASP_20190501_03_10_47_v3.zip\n",
      "unzipping... ../caiso_hasp_dl/20170401_20170501_PRC_HASP_LMP_HASP_20190501_02_51_41_v3.zip\n",
      "unzipping... ../caiso_hasp_dl/20170101_20170131_PRC_HASP_LMP_HASP_20190501_02_45_08_v3.zip\n",
      "unzipping... ../caiso_hasp_dl/20160901_20161001_PRC_HASP_LMP_HASP_20190501_02_37_06_v3.zip\n",
      "unzipping... ../caiso_hasp_dl/20160801_20160901_PRC_HASP_LMP_HASP_20190501_02_35_05_v3.zip\n",
      "unzipping... ../caiso_hasp_dl/20170601_20170701_PRC_HASP_LMP_HASP_20190501_02_56_18_v3.zip\n",
      "unzipping... ../caiso_hasp_dl/20190301_20190401_PRC_HASP_LMP_HASP_20190501_03_29_43_v3.zip\n",
      "unzipping... ../caiso_hasp_dl/20180901_20181001_PRC_HASP_LMP_HASP_20190501_03_25_27_v3.zip\n",
      "unzipping... ../caiso_hasp_dl/20180401_20180501_PRC_HASP_LMP_HASP_20190501_03_16_10_v3.zip\n",
      "unzipping... ../caiso_hasp_dl/20170801_20170901_PRC_HASP_LMP_HASP_20190501_03_00_39_v3.zip\n",
      "unzipping... ../caiso_hasp_dl/20180301_20180401_PRC_HASP_LMP_HASP_20190501_03_14_17_v3.zip\n",
      "unzipping... ../caiso_hasp_dl/20181001_20181101_PRC_HASP_LMP_HASP_20190501_03_26_49_v3.zip\n",
      "unzipping... ../caiso_hasp_dl/20170501_20170601_PRC_HASP_LMP_HASP_20190501_02_54_19_v3.zip\n",
      "unzipping... ../caiso_hasp_dl/20180801_20180901_PRC_HASP_LMP_HASP_20190501_03_23_41_v3.zip\n",
      "unzipping... ../caiso_hasp_dl/20160701_20160801_PRC_HASP_LMP_HASP_20190501_02_33_18_v3.zip\n",
      "unzipping... ../caiso_hasp_dl/20160201_20160301_PRC_HASP_LMP_HASP_20190501_01_07_33_v3.zip\n",
      "unzipping... ../caiso_hasp_dl/20180601_20180701_PRC_HASP_LMP_HASP_20190501_03_20_04_v3.zip\n",
      "unzipping... ../caiso_hasp_dl/20180701_20180801_PRC_HASP_LMP_HASP_20190501_03_21_46_v3.zip\n",
      "unzipping... ../caiso_hasp_dl/20170901_20171001_PRC_HASP_LMP_HASP_20190501_03_02_52_v3.zip\n",
      "unzipping... ../caiso_hasp_dl/20170201_20170228_PRC_HASP_LMP_HASP_20190501_02_47_46_v3.zip\n",
      "unzipping... ../caiso_hasp_dl/20181201_20181231_PRC_HASP_LMP_HASP_20190501_03_27_59_v3.zip\n",
      "unzipping... ../caiso_hasp_dl/20161101_20161130_PRC_HASP_LMP_HASP_20190501_02_40_53_v3.zip\n",
      "unzipping... ../caiso_hasp_dl/20180501_20180601_PRC_HASP_LMP_HASP_20190501_03_18_12_v3.zip\n",
      "unzipping... ../caiso_hasp_dl/20171101_20171130_PRC_HASP_LMP_HASP_20190501_03_07_19_v3.zip\n",
      "unzipping... ../caiso_hasp_dl/20160501_20160601_PRC_HASP_LMP_HASP_20190501_02_28_00_v3.zip\n"
     ]
    }
   ],
   "source": [
    "for item in os.listdir(caiso_hasp_dl):           # loop through items in dir\n",
    "    if item.split('.')[-1] == 'zip':            # check for zip extension\n",
    "        file_name = f'{caiso_hasp_dl}{item}'     # get relative path of files\n",
    "        print(f'unzipping... {file_name}')\n",
    "        zip_ref = zipfile.ZipFile(file_name)    # create zipfile object\n",
    "        with zip_ref as target:\n",
    "            target.extractall(unzipped_caiso_hasp)\n",
    "    else: continue"
   ]
  },
  {
   "cell_type": "code",
   "execution_count": 8,
   "metadata": {
    "collapsed": true
   },
   "outputs": [
    {
     "name": "stdout",
     "output_type": "stream",
     "text": [
      "unzipping... ../caiso_rtm_dl/20180601_20180701_PRC_INTVL_LMP_RTM_20190506_01_50_22_v3.zip\n",
      "unzipping... ../caiso_rtm_dl/20160401_20160501_PRC_INTVL_LMP_RTM_20190506_00_16_32_v3.zip\n",
      "unzipping... ../caiso_rtm_dl/20170801_20170901_PRC_INTVL_LMP_RTM_20190506_01_19_02_v3.zip\n",
      "unzipping... ../caiso_rtm_dl/20190401_20190501_PRC_INTVL_LMP_RTM_20190506_02_07_21_v3.zip\n",
      "unzipping... ../caiso_rtm_dl/20190301_20190401_PRC_INTVL_LMP_RTM_20190506_02_06_40_v3.zip\n",
      "unzipping... ../caiso_rtm_dl/20190201_20190228_PRC_INTVL_LMP_RTM_20190506_02_06_02_v3.zip\n",
      "unzipping... ../caiso_rtm_dl/20171101_20171130_PRC_INTVL_LMP_RTM_20190506_01_28_49_v3.zip\n",
      "unzipping... ../caiso_rtm_dl/20170901_20171001_PRC_INTVL_LMP_RTM_20190506_01_22_05_v3.zip\n",
      "unzipping... ../caiso_rtm_dl/20180701_20180801_PRC_INTVL_LMP_RTM_20190506_01_53_55_v3.zip\n",
      "unzipping... ../caiso_rtm_dl/20170501_20170601_PRC_INTVL_LMP_RTM_20190506_01_06_42_v3.zip\n",
      "unzipping... ../caiso_rtm_dl/20160801_20160901_PRC_INTVL_LMP_RTM_20190506_00_30_03_v3.zip\n",
      "unzipping... ../caiso_rtm_dl/20170201_20170228_PRC_INTVL_LMP_RTM_20190506_00_54_54_v3.zip\n",
      "unzipping... ../caiso_rtm_dl/20171201_20171231_PRC_INTVL_LMP_RTM_20190506_01_32_03_v3.zip\n",
      "unzipping... ../caiso_rtm_dl/20180501_20180601_PRC_INTVL_LMP_RTM_20190506_01_47_33_v3.zip\n",
      "unzipping... ../caiso_rtm_dl/20170101_20170131_PRC_INTVL_LMP_RTM_20190506_00_50_05_v3.zip\n",
      "unzipping... ../caiso_rtm_dl/20180201_20180228_PRC_INTVL_LMP_RTM_20190506_01_38_09_v3.zip\n",
      "unzipping... ../caiso_rtm_dl/20170601_20170701_PRC_INTVL_LMP_RTM_20190506_01_10_49_v3.zip\n",
      "unzipping... ../caiso_rtm_dl/20160201_20160229_PRC_INTVL_LMP_RTM_20190506_00_08_54_v3.zip\n",
      "unzipping... ../caiso_rtm_dl/20170701_20170801_PRC_INTVL_LMP_RTM_20190506_01_14_40_v3.zip\n",
      "unzipping... ../caiso_rtm_dl/20160301_20160401_PRC_INTVL_LMP_RTM_20190506_00_12_47_v3.zip\n",
      "unzipping... ../caiso_rtm_dl/20160501_20160601_PRC_INTVL_LMP_RTM_20190506_00_19_45_v3.zip\n",
      "unzipping... ../caiso_rtm_dl/20160601_20160701_PRC_INTVL_LMP_RTM_20190506_00_23_11_v3.zip\n",
      "unzipping... ../caiso_rtm_dl/20181101_20181130_PRC_INTVL_LMP_RTM_20190506_02_04_15_v3.zip\n",
      "unzipping... ../caiso_rtm_dl/20161101_20161130_PRC_INTVL_LMP_RTM_20190506_00_41_56_v3.zip\n",
      "unzipping... ../caiso_rtm_dl/20181001_20181101_PRC_INTVL_LMP_RTM_20190506_02_03_30_v3.zip\n",
      "unzipping... ../caiso_rtm_dl/20180301_20180401_PRC_INTVL_LMP_RTM_20190506_01_40_53_v3.zip\n",
      "unzipping... ../caiso_rtm_dl/20170301_20170401_PRC_INTVL_LMP_RTM_20190506_00_58_27_v3.zip\n",
      "unzipping... ../caiso_rtm_dl/20170401_20170501_PRC_INTVL_LMP_RTM_20190506_01_02_37_v3.zip\n",
      "unzipping... ../caiso_rtm_dl/20180401_20180501_PRC_INTVL_LMP_RTM_20190506_01_44_35_v3.zip\n",
      "unzipping... ../caiso_rtm_dl/20161001_20161101_PRC_INTVL_LMP_RTM_20190506_00_37_45_v3.zip\n",
      "unzipping... ../caiso_rtm_dl/20160101_20160131_PRC_INTVL_LMP_RTM_20190506_00_05_46_v3.zip\n",
      "unzipping... ../caiso_rtm_dl/20161201_20161231_PRC_INTVL_LMP_RTM_20190506_00_45_55_v3.zip\n",
      "unzipping... ../caiso_rtm_dl/20180801_20180901_PRC_INTVL_LMP_RTM_20190506_01_57_14_v3.zip\n",
      "unzipping... ../caiso_rtm_dl/20160701_20160801_PRC_INTVL_LMP_RTM_20190506_00_26_35_v3.zip\n",
      "unzipping... ../caiso_rtm_dl/20181201_20181231_PRC_INTVL_LMP_RTM_20190506_02_04_48_v3.zip\n",
      "unzipping... ../caiso_rtm_dl/20171001_20171101_PRC_INTVL_LMP_RTM_20190506_01_25_24_v3.zip\n",
      "unzipping... ../caiso_rtm_dl/20160901_20161001_PRC_INTVL_LMP_RTM_20190506_00_33_54_v3.zip\n",
      "unzipping... ../caiso_rtm_dl/20190101_20190131_PRC_INTVL_LMP_RTM_20190506_02_05_27_v3.zip\n",
      "unzipping... ../caiso_rtm_dl/20180901_20181001_PRC_INTVL_LMP_RTM_20190506_02_00_03_v3.zip\n",
      "unzipping... ../caiso_rtm_dl/20180101_20180131_PRC_INTVL_LMP_RTM_20190506_01_35_09_v3.zip\n"
     ]
    }
   ],
   "source": [
    "download_dir = '../raw_data/caiso_downloads/'\n",
    "unzipped_target_dir = '../raw_data/unzipped_caiso/unzipped_caiso_rtm/'\n",
    "\n",
    "for item in os.listdir(download_dir):           # loop through items in dir\n",
    "    if item.split('.')[-1] == 'zip':            # check for zip extension\n",
    "        file_name = f'{download_dir}{item}'     # get relative path of files\n",
    "        print(f'unzipping... {file_name}')\n",
    "        zip_ref = zipfile.ZipFile(file_name)    # create zipfile object\n",
    "        with zip_ref as target:\n",
    "            target.extractall(unzipped_target_dir)\n",
    "    else: continue"
   ]
  },
  {
   "cell_type": "code",
   "execution_count": 15,
   "metadata": {},
   "outputs": [],
   "source": [
    "def unzip_dir(download_dir, unzipped_target_dir):\n",
    "    for item in os.listdir(download_dir):           # loop through items in dir\n",
    "        if item.split('.')[-1] == 'zip':            # check for zip extension\n",
    "            file_name = f'{download_dir}{item}'     # get relative path of files\n",
    "            print(f'unzipping... {file_name}')\n",
    "            zip_ref = zipfile.ZipFile(file_name)    # create zipfile object\n",
    "            with zip_ref as target:\n",
    "                target.extractall(unzipped_target_dir)\n",
    "        else: continue"
   ]
  },
  {
   "cell_type": "code",
   "execution_count": 16,
   "metadata": {
    "collapsed": true
   },
   "outputs": [
    {
     "name": "stdout",
     "output_type": "stream",
     "text": [
      "unzipping... ../caiso_7da_load_dl/20190401_20190501_SLD_FCST_7DA_20190506_02_50_24_v1.zip\n",
      "unzipping... ../caiso_7da_load_dl/20160501_20160601_SLD_FCST_7DA_20190506_02_33_00_v1.zip\n",
      "unzipping... ../caiso_7da_load_dl/20170501_20170601_SLD_FCST_7DA_20190506_02_38_39_v1.zip\n",
      "unzipping... ../caiso_7da_load_dl/20170901_20171001_SLD_FCST_7DA_20190506_02_40_36_v1.zip\n",
      "unzipping... ../caiso_7da_load_dl/20160301_20160401_SLD_FCST_7DA_20190506_02_31_58_v1.zip\n",
      "unzipping... ../caiso_7da_load_dl/20160701_20160801_SLD_FCST_7DA_20190506_02_33_55_v1.zip\n",
      "unzipping... ../caiso_7da_load_dl/20160601_20160701_SLD_FCST_7DA_20190506_02_33_27_v1.zip\n",
      "unzipping... ../caiso_7da_load_dl/20171201_20171231_SLD_FCST_7DA_20190506_02_42_09_v1.zip\n",
      "unzipping... ../caiso_7da_load_dl/20180601_20180701_SLD_FCST_7DA_20190506_02_45_07_v1.zip\n",
      "unzipping... ../caiso_7da_load_dl/20171101_20171130_SLD_FCST_7DA_20190506_02_41_37_v1.zip\n",
      "unzipping... ../caiso_7da_load_dl/20170401_20170501_SLD_FCST_7DA_20190506_02_38_10_v1.zip\n",
      "unzipping... ../caiso_7da_load_dl/20180501_20180601_SLD_FCST_7DA_20190506_02_44_36_v1.zip\n",
      "unzipping... ../caiso_7da_load_dl/20190101_20190131_SLD_FCST_7DA_20190506_02_48_48_v1.zip\n",
      "unzipping... ../caiso_7da_load_dl/20161101_20161130_SLD_FCST_7DA_20190506_02_35_44_v1.zip\n",
      "unzipping... ../caiso_7da_load_dl/20180301_20180401_SLD_FCST_7DA_20190506_02_43_36_v1.zip\n",
      "unzipping... ../caiso_7da_load_dl/20170701_20170801_SLD_FCST_7DA_20190506_02_39_37_v1.zip\n",
      "unzipping... ../caiso_7da_load_dl/20180901_20181001_SLD_FCST_7DA_20190506_02_46_42_v1.zip\n",
      "unzipping... ../caiso_7da_load_dl/20170101_20170131_SLD_FCST_7DA_20190506_02_36_43_v1.zip\n",
      "unzipping... ../caiso_7da_load_dl/20161001_20161101_SLD_FCST_7DA_20190506_02_35_17_v1.zip\n",
      "unzipping... ../caiso_7da_load_dl/20170201_20170228_SLD_FCST_7DA_20190506_02_37_12_v1.zip\n",
      "unzipping... ../caiso_7da_load_dl/20180201_20180228_SLD_FCST_7DA_20190506_02_43_08_v1.zip\n",
      "unzipping... ../caiso_7da_load_dl/20160901_20161001_SLD_FCST_7DA_20190506_02_34_50_v1.zip\n",
      "unzipping... ../caiso_7da_load_dl/20160201_20160229_SLD_FCST_7DA_20190506_02_31_29_v1.zip\n",
      "unzipping... ../caiso_7da_load_dl/20181101_20181130_SLD_FCST_7DA_20190506_02_47_46_v1.zip\n",
      "unzipping... ../caiso_7da_load_dl/20170601_20170701_SLD_FCST_7DA_20190506_02_39_07_v1.zip\n",
      "unzipping... ../caiso_7da_load_dl/20180701_20180801_SLD_FCST_7DA_20190506_02_45_40_v1.zip\n",
      "unzipping... ../caiso_7da_load_dl/20160101_20160131_SLD_FCST_7DA_20190506_02_30_59_v1.zip\n",
      "unzipping... ../caiso_7da_load_dl/20170801_20170901_SLD_FCST_7DA_20190506_02_40_07_v1.zip\n",
      "unzipping... ../caiso_7da_load_dl/20160401_20160501_SLD_FCST_7DA_20190506_02_32_30_v1.zip\n",
      "unzipping... ../caiso_7da_load_dl/20161201_20161231_SLD_FCST_7DA_20190506_02_36_14_v1.zip\n",
      "unzipping... ../caiso_7da_load_dl/20180401_20180501_SLD_FCST_7DA_20190506_02_44_06_v1.zip\n",
      "unzipping... ../caiso_7da_load_dl/20190201_20190228_SLD_FCST_7DA_20190506_02_49_19_v1.zip\n",
      "unzipping... ../caiso_7da_load_dl/20190301_20190401_SLD_FCST_7DA_20190506_02_49_51_v1.zip\n",
      "unzipping... ../caiso_7da_load_dl/20180101_20180131_SLD_FCST_7DA_20190506_02_42_37_v1.zip\n",
      "unzipping... ../caiso_7da_load_dl/20181201_20181231_SLD_FCST_7DA_20190506_02_48_17_v1.zip\n",
      "unzipping... ../caiso_7da_load_dl/20180801_20180901_SLD_FCST_7DA_20190506_02_46_12_v1.zip\n",
      "unzipping... ../caiso_7da_load_dl/20160801_20160901_SLD_FCST_7DA_20190506_02_34_23_v1.zip\n",
      "unzipping... ../caiso_7da_load_dl/20181001_20181101_SLD_FCST_7DA_20190506_02_47_14_v1.zip\n",
      "unzipping... ../caiso_7da_load_dl/20171001_20171101_SLD_FCST_7DA_20190506_02_41_07_v1.zip\n",
      "unzipping... ../caiso_7da_load_dl/20170301_20170401_SLD_FCST_7DA_20190506_02_37_40_v1.zip\n"
     ]
    }
   ],
   "source": [
    "unzip_dir('../raw_data/caiso_downloads/caiso_7da_load_dl/',\n",
    "          '../raw_data/unzipped_caiso/unzipped_caiso_7da_load/')"
   ]
  },
  {
   "cell_type": "code",
   "execution_count": 17,
   "metadata": {
    "collapsed": true
   },
   "outputs": [
    {
     "name": "stdout",
     "output_type": "stream",
     "text": [
      "unzipping... ../caiso_2da_load_dl/20170601_20170701_SLD_FCST_2DA_20190506_02_39_13_v1.zip\n",
      "unzipping... ../caiso_2da_load_dl/20180701_20180801_SLD_FCST_2DA_20190506_02_45_46_v1.zip\n",
      "unzipping... ../caiso_2da_load_dl/20181101_20181130_SLD_FCST_2DA_20190506_02_47_52_v1.zip\n",
      "unzipping... ../caiso_2da_load_dl/20160901_20161001_SLD_FCST_2DA_20190506_02_34_56_v1.zip\n",
      "unzipping... ../caiso_2da_load_dl/20160701_20160801_SLD_FCST_2DA_20190506_02_34_01_v1.zip\n",
      "unzipping... ../caiso_2da_load_dl/20170801_20170901_SLD_FCST_2DA_20190506_02_40_13_v1.zip\n",
      "unzipping... ../caiso_2da_load_dl/20170201_20170228_SLD_FCST_2DA_20190506_02_37_18_v1.zip\n",
      "unzipping... ../caiso_2da_load_dl/20181201_20181231_SLD_FCST_2DA_20190506_02_48_23_v1.zip\n",
      "unzipping... ../caiso_2da_load_dl/20181001_20181101_SLD_FCST_2DA_20190506_02_47_20_v1.zip\n",
      "unzipping... ../caiso_2da_load_dl/20180501_20180601_SLD_FCST_2DA_20190506_02_44_42_v1.zip\n",
      "unzipping... ../caiso_2da_load_dl/20180801_20180901_SLD_FCST_2DA_20190506_02_46_18_v1.zip\n",
      "unzipping... ../caiso_2da_load_dl/20160301_20160401_SLD_FCST_2DA_20190506_02_32_05_v1.zip\n",
      "unzipping... ../caiso_2da_load_dl/20161001_20161101_SLD_FCST_2DA_20190506_02_35_23_v1.zip\n",
      "unzipping... ../caiso_2da_load_dl/20160601_20160701_SLD_FCST_2DA_20190506_02_33_34_v1.zip\n",
      "unzipping... ../caiso_2da_load_dl/20170101_20170131_SLD_FCST_2DA_20190506_02_36_48_v1.zip\n",
      "unzipping... ../caiso_2da_load_dl/20180201_20180228_SLD_FCST_2DA_20190506_02_43_14_v1.zip\n",
      "unzipping... ../caiso_2da_load_dl/20180301_20180401_SLD_FCST_2DA_20190506_02_43_42_v1.zip\n",
      "unzipping... ../caiso_2da_load_dl/20171001_20171101_SLD_FCST_2DA_20190506_02_41_13_v1.zip\n",
      "unzipping... ../caiso_2da_load_dl/20190101_20190131_SLD_FCST_2DA_20190506_02_48_55_v1.zip\n",
      "unzipping... ../caiso_2da_load_dl/20190201_20190228_SLD_FCST_2DA_20190506_02_49_25_v1.zip\n",
      "unzipping... ../caiso_2da_load_dl/20171201_20171231_SLD_FCST_2DA_20190506_02_42_14_v1.zip\n",
      "unzipping... ../caiso_2da_load_dl/20160401_20160501_SLD_FCST_2DA_20190506_02_32_37_v1.zip\n",
      "unzipping... ../caiso_2da_load_dl/20170401_20170501_SLD_FCST_2DA_20190506_02_38_16_v1.zip\n",
      "unzipping... ../caiso_2da_load_dl/20180601_20180701_SLD_FCST_2DA_20190506_02_45_13_v1.zip\n",
      "unzipping... ../caiso_2da_load_dl/20190401_20190501_SLD_FCST_2DA_20190506_02_50_30_v1.zip\n",
      "unzipping... ../caiso_2da_load_dl/20160501_20160601_SLD_FCST_2DA_20190506_02_33_06_v1.zip\n",
      "unzipping... ../caiso_2da_load_dl/20170701_20170801_SLD_FCST_2DA_20190506_02_39_44_v1.zip\n",
      "unzipping... ../caiso_2da_load_dl/20161201_20161231_SLD_FCST_2DA_20190506_02_36_19_v1.zip\n",
      "unzipping... ../caiso_2da_load_dl/20170901_20171001_SLD_FCST_2DA_20190506_02_40_41_v1.zip\n",
      "unzipping... ../caiso_2da_load_dl/20180401_20180501_SLD_FCST_2DA_20190506_02_44_11_v1.zip\n",
      "unzipping... ../caiso_2da_load_dl/20160801_20160901_SLD_FCST_2DA_20190506_02_34_28_v1.zip\n",
      "unzipping... ../caiso_2da_load_dl/20160201_20160229_SLD_FCST_2DA_20190506_02_31_36_v1.zip\n",
      "unzipping... ../caiso_2da_load_dl/20160101_20160131_SLD_FCST_2DA_20190506_02_31_07_v1.zip\n",
      "unzipping... ../caiso_2da_load_dl/20180901_20181001_SLD_FCST_2DA_20190506_02_46_48_v1.zip\n",
      "unzipping... ../caiso_2da_load_dl/20180101_20180131_SLD_FCST_2DA_20190506_02_42_43_v1.zip\n",
      "unzipping... ../caiso_2da_load_dl/20161101_20161130_SLD_FCST_2DA_20190506_02_35_50_v1.zip\n",
      "unzipping... ../caiso_2da_load_dl/20190301_20190401_SLD_FCST_2DA_20190506_02_49_56_v1.zip\n",
      "unzipping... ../caiso_2da_load_dl/20171101_20171130_SLD_FCST_2DA_20190506_02_41_44_v1.zip\n",
      "unzipping... ../caiso_2da_load_dl/20170301_20170401_SLD_FCST_2DA_20190506_02_37_45_v1.zip\n",
      "unzipping... ../caiso_2da_load_dl/20170501_20170601_SLD_FCST_2DA_20190506_02_38_44_v1.zip\n"
     ]
    }
   ],
   "source": [
    "unzip_dir('../raw_data/caiso_downloads/caiso_2da_load_dl/',\n",
    "          '../raw_data/unzipped_caiso/unzipped_caiso_2da_load/')"
   ]
  },
  {
   "cell_type": "code",
   "execution_count": 18,
   "metadata": {
    "collapsed": true
   },
   "outputs": [
    {
     "name": "stdout",
     "output_type": "stream",
     "text": [
      "unzipping... ../caiso_dam_load_dl/20170901_20171001_SLD_FCST_DAM_20190506_02_40_47_v1.zip\n",
      "unzipping... ../caiso_dam_load_dl/20180901_20181001_SLD_FCST_DAM_20190506_02_46_54_v1.zip\n",
      "unzipping... ../caiso_dam_load_dl/20160401_20160501_SLD_FCST_DAM_20190506_02_32_42_v1.zip\n",
      "unzipping... ../caiso_dam_load_dl/20170601_20170701_SLD_FCST_DAM_20190506_02_39_20_v1.zip\n",
      "unzipping... ../caiso_dam_load_dl/20180601_20180701_SLD_FCST_DAM_20190506_02_45_21_v1.zip\n",
      "unzipping... ../caiso_dam_load_dl/20190301_20190401_SLD_FCST_DAM_20190506_02_50_03_v1.zip\n",
      "unzipping... ../caiso_dam_load_dl/20161201_20161231_SLD_FCST_DAM_20190506_02_36_25_v1.zip\n",
      "unzipping... ../caiso_dam_load_dl/20170701_20170801_SLD_FCST_DAM_20190506_02_39_50_v1.zip\n",
      "unzipping... ../caiso_dam_load_dl/20160801_20160901_SLD_FCST_DAM_20190506_02_34_34_v1.zip\n",
      "unzipping... ../caiso_dam_load_dl/20160501_20160601_SLD_FCST_DAM_20190506_02_33_12_v1.zip\n",
      "unzipping... ../caiso_dam_load_dl/20160701_20160801_SLD_FCST_DAM_20190506_02_34_06_v1.zip\n",
      "unzipping... ../caiso_dam_load_dl/20171101_20171130_SLD_FCST_DAM_20190506_02_41_50_v1.zip\n",
      "unzipping... ../caiso_dam_load_dl/20170401_20170501_SLD_FCST_DAM_20190506_02_38_22_v1.zip\n",
      "unzipping... ../caiso_dam_load_dl/20170501_20170601_SLD_FCST_DAM_20190506_02_38_50_v1.zip\n",
      "unzipping... ../caiso_dam_load_dl/20171001_20171101_SLD_FCST_DAM_20190506_02_41_20_v1.zip\n",
      "unzipping... ../caiso_dam_load_dl/20170301_20170401_SLD_FCST_DAM_20190506_02_37_51_v1.zip\n",
      "unzipping... ../caiso_dam_load_dl/20161101_20161130_SLD_FCST_DAM_20190506_02_35_56_v1.zip\n",
      "unzipping... ../caiso_dam_load_dl/20160601_20160701_SLD_FCST_DAM_20190506_02_33_40_v1.zip\n",
      "unzipping... ../caiso_dam_load_dl/20180101_20180131_SLD_FCST_DAM_20190506_02_42_49_v1.zip\n",
      "unzipping... ../caiso_dam_load_dl/20170201_20170228_SLD_FCST_DAM_20190506_02_37_23_v1.zip\n",
      "unzipping... ../caiso_dam_load_dl/20161001_20161101_SLD_FCST_DAM_20190506_02_35_28_v1.zip\n",
      "unzipping... ../caiso_dam_load_dl/20180401_20180501_SLD_FCST_DAM_20190506_02_44_17_v1.zip\n",
      "unzipping... ../caiso_dam_load_dl/20180501_20180601_SLD_FCST_DAM_20190506_02_44_48_v1.zip\n",
      "unzipping... ../caiso_dam_load_dl/20181001_20181101_SLD_FCST_DAM_20190506_02_47_26_v1.zip\n",
      "unzipping... ../caiso_dam_load_dl/20181201_20181231_SLD_FCST_DAM_20190506_02_48_29_v1.zip\n",
      "unzipping... ../caiso_dam_load_dl/20170101_20170131_SLD_FCST_DAM_20190506_02_36_54_v1.zip\n",
      "unzipping... ../caiso_dam_load_dl/20160901_20161001_SLD_FCST_DAM_20190506_02_35_01_v1.zip\n",
      "unzipping... ../caiso_dam_load_dl/20180201_20180228_SLD_FCST_DAM_20190506_02_43_20_v1.zip\n",
      "unzipping... ../caiso_dam_load_dl/20170801_20170901_SLD_FCST_DAM_20190506_02_40_19_v1.zip\n",
      "unzipping... ../caiso_dam_load_dl/20171201_20171231_SLD_FCST_DAM_20190506_02_42_20_v1.zip\n",
      "unzipping... ../caiso_dam_load_dl/20181101_20181130_SLD_FCST_DAM_20190506_02_47_58_v1.zip\n",
      "unzipping... ../caiso_dam_load_dl/20190401_20190501_SLD_FCST_DAM_20190506_02_50_35_v1.zip\n",
      "unzipping... ../caiso_dam_load_dl/20180701_20180801_SLD_FCST_DAM_20190506_02_45_52_v1.zip\n",
      "unzipping... ../caiso_dam_load_dl/20190101_20190131_SLD_FCST_DAM_20190506_02_49_00_v1.zip\n",
      "unzipping... ../caiso_dam_load_dl/20160201_20160229_SLD_FCST_DAM_20190506_02_31_42_v1.zip\n",
      "unzipping... ../caiso_dam_load_dl/20190201_20190228_SLD_FCST_DAM_20190506_02_49_31_v1.zip\n",
      "unzipping... ../caiso_dam_load_dl/20180301_20180401_SLD_FCST_DAM_20190506_02_43_48_v1.zip\n",
      "unzipping... ../caiso_dam_load_dl/20160301_20160401_SLD_FCST_DAM_20190506_02_32_11_v1.zip\n",
      "unzipping... ../caiso_dam_load_dl/20180801_20180901_SLD_FCST_DAM_20190506_02_46_24_v1.zip\n",
      "unzipping... ../caiso_dam_load_dl/20160101_20160131_SLD_FCST_DAM_20190506_02_31_12_v1.zip\n"
     ]
    }
   ],
   "source": [
    "unzip_dir('../raw_data/caiso_downloads/caiso_dam_load_dl/',\n",
    "          '../raw_data/unzipped_caiso/unzipped_caiso_dam_load/')"
   ]
  },
  {
   "cell_type": "code",
   "execution_count": 19,
   "metadata": {
    "collapsed": true
   },
   "outputs": [
    {
     "name": "stdout",
     "output_type": "stream",
     "text": [
      "unzipping... ../caiso_rtm_load_dl/20160601_20160701_SLD_FCST_RTM_20190506_02_33_45_v1.zip\n",
      "unzipping... ../caiso_rtm_load_dl/20181201_20181231_SLD_FCST_RTM_20190506_02_48_35_v1.zip\n",
      "unzipping... ../caiso_rtm_load_dl/20170401_20170501_SLD_FCST_RTM_20190506_02_38_27_v1.zip\n",
      "unzipping... ../caiso_rtm_load_dl/20180501_20180601_SLD_FCST_RTM_20190506_02_44_54_v1.zip\n",
      "unzipping... ../caiso_rtm_load_dl/20190201_20190228_SLD_FCST_RTM_20190506_02_49_37_v1.zip\n",
      "unzipping... ../caiso_rtm_load_dl/20161101_20161130_SLD_FCST_RTM_20190506_02_36_03_v1.zip\n",
      "unzipping... ../caiso_rtm_load_dl/20190101_20190131_SLD_FCST_RTM_20190506_02_49_06_v1.zip\n",
      "unzipping... ../caiso_rtm_load_dl/20160801_20160901_SLD_FCST_RTM_20190506_02_34_40_v1.zip\n",
      "unzipping... ../caiso_rtm_load_dl/20190401_20190501_SLD_FCST_RTM_20190506_02_50_42_v1.zip\n",
      "unzipping... ../caiso_rtm_load_dl/20180701_20180801_SLD_FCST_RTM_20190506_02_45_58_v1.zip\n",
      "unzipping... ../caiso_rtm_load_dl/20160501_20160601_SLD_FCST_RTM_20190506_02_33_17_v1.zip\n",
      "unzipping... ../caiso_rtm_load_dl/20171201_20171231_SLD_FCST_RTM_20190506_02_42_26_v1.zip\n",
      "unzipping... ../caiso_rtm_load_dl/20170801_20170901_SLD_FCST_RTM_20190506_02_40_25_v1.zip\n",
      "unzipping... ../caiso_rtm_load_dl/20180201_20180228_SLD_FCST_RTM_20190506_02_43_26_v1.zip\n",
      "unzipping... ../caiso_rtm_load_dl/20160901_20161001_SLD_FCST_RTM_20190506_02_35_07_v1.zip\n",
      "unzipping... ../caiso_rtm_load_dl/20160401_20160501_SLD_FCST_RTM_20190506_02_32_49_v1.zip\n",
      "unzipping... ../caiso_rtm_load_dl/20180301_20180401_SLD_FCST_RTM_20190506_02_43_54_v1.zip\n",
      "unzipping... ../caiso_rtm_load_dl/20180901_20181001_SLD_FCST_RTM_20190506_02_47_00_v1.zip\n",
      "unzipping... ../caiso_rtm_load_dl/20180601_20180701_SLD_FCST_RTM_20190506_02_45_26_v1.zip\n",
      "unzipping... ../caiso_rtm_load_dl/20181001_20181101_SLD_FCST_RTM_20190506_02_47_32_v1.zip\n",
      "unzipping... ../caiso_rtm_load_dl/20160101_20160131_SLD_FCST_RTM_20190506_02_31_19_v1.zip\n",
      "unzipping... ../caiso_rtm_load_dl/20160301_20160401_SLD_FCST_RTM_20190506_02_32_20_v1.zip\n",
      "unzipping... ../caiso_rtm_load_dl/20170201_20170228_SLD_FCST_RTM_20190506_02_37_29_v1.zip\n",
      "unzipping... ../caiso_rtm_load_dl/20171001_20171101_SLD_FCST_RTM_20190506_02_41_26_v1.zip\n",
      "unzipping... ../caiso_rtm_load_dl/20170301_20170401_SLD_FCST_RTM_20190506_02_37_57_v1.zip\n",
      "unzipping... ../caiso_rtm_load_dl/20160201_20160229_SLD_FCST_RTM_20190506_02_31_49_v1.zip\n",
      "unzipping... ../caiso_rtm_load_dl/20181101_20181130_SLD_FCST_RTM_20190506_02_48_03_v1.zip\n",
      "unzipping... ../caiso_rtm_load_dl/20170501_20170601_SLD_FCST_RTM_20190506_02_38_56_v1.zip\n",
      "unzipping... ../caiso_rtm_load_dl/20171101_20171130_SLD_FCST_RTM_20190506_02_41_56_v1.zip\n",
      "unzipping... ../caiso_rtm_load_dl/20160701_20160801_SLD_FCST_RTM_20190506_02_34_12_v1.zip\n",
      "unzipping... ../caiso_rtm_load_dl/20180801_20180901_SLD_FCST_RTM_20190506_02_46_29_v1.zip\n",
      "unzipping... ../caiso_rtm_load_dl/20180101_20180131_SLD_FCST_RTM_20190506_02_42_55_v1.zip\n",
      "unzipping... ../caiso_rtm_load_dl/20170101_20170131_SLD_FCST_RTM_20190506_02_37_00_v1.zip\n",
      "unzipping... ../caiso_rtm_load_dl/20170701_20170801_SLD_FCST_RTM_20190506_02_39_56_v1.zip\n",
      "unzipping... ../caiso_rtm_load_dl/20161201_20161231_SLD_FCST_RTM_20190506_02_36_31_v1.zip\n",
      "unzipping... ../caiso_rtm_load_dl/20170601_20170701_SLD_FCST_RTM_20190506_02_39_26_v1.zip\n",
      "unzipping... ../caiso_rtm_load_dl/20180401_20180501_SLD_FCST_RTM_20190506_02_44_23_v1.zip\n",
      "unzipping... ../caiso_rtm_load_dl/20190301_20190401_SLD_FCST_RTM_20190506_02_50_09_v1.zip\n",
      "unzipping... ../caiso_rtm_load_dl/20161001_20161101_SLD_FCST_RTM_20190506_02_35_34_v1.zip\n",
      "unzipping... ../caiso_rtm_load_dl/20170901_20171001_SLD_FCST_RTM_20190506_02_40_53_v1.zip\n"
     ]
    }
   ],
   "source": [
    "unzip_dir('.../raw_data/caiso_downloads/caiso_rtm_load_dl/',\n",
    "          '../raw_data/unzipped_caiso/unzipped_caiso_rtm_load/')"
   ]
  },
  {
   "cell_type": "code",
   "execution_count": null,
   "metadata": {},
   "outputs": [],
   "source": []
  }
 ],
 "metadata": {
  "kernelspec": {
   "display_name": "Python 3",
   "language": "python",
   "name": "python3"
  },
  "language_info": {
   "codemirror_mode": {
    "name": "ipython",
    "version": 3
   },
   "file_extension": ".py",
   "mimetype": "text/x-python",
   "name": "python",
   "nbconvert_exporter": "python",
   "pygments_lexer": "ipython3",
   "version": "3.8.8"
  },
  "toc": {
   "base_numbering": 1,
   "nav_menu": {},
   "number_sections": true,
   "sideBar": true,
   "skip_h1_title": true,
   "title_cell": "Table of Contents",
   "title_sidebar": "Contents",
   "toc_cell": true,
   "toc_position": {
    "height": "calc(100% - 180px)",
    "left": "10px",
    "top": "150px",
    "width": "245px"
   },
   "toc_section_display": true,
   "toc_window_display": true
  },
  "varInspector": {
   "cols": {
    "lenName": 16,
    "lenType": 16,
    "lenVar": 40
   },
   "kernels_config": {
    "python": {
     "delete_cmd_postfix": "",
     "delete_cmd_prefix": "del ",
     "library": "var_list.py",
     "varRefreshCmd": "print(var_dic_list())"
    },
    "r": {
     "delete_cmd_postfix": ") ",
     "delete_cmd_prefix": "rm(",
     "library": "var_list.r",
     "varRefreshCmd": "cat(var_dic_list()) "
    }
   },
   "types_to_exclude": [
    "module",
    "function",
    "builtin_function_or_method",
    "instance",
    "_Feature"
   ],
   "window_display": false
  }
 },
 "nbformat": 4,
 "nbformat_minor": 2
}
