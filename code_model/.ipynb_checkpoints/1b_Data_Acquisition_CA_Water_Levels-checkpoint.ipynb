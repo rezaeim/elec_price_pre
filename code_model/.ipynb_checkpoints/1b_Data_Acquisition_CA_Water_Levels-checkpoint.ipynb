{
 "cells": [
  {
   "cell_type": "markdown",
   "metadata": {},
   "source": [
    "<img src=\"http://imgur.com/1ZcRyrc.png\" style=\"float: left; margin: 20px; height: 55px\">  \n",
    "\n",
    "<b> <font size='5'>  \n",
    "ELEC PRICE PREDICTION CAPSTONE:</font>  \n",
    "\n",
    "<font size='4'>CA DWR API Data Acquisition Notebook</font> </b>\n",
    "\n",
    "<font size='3'>  \n",
    "&nbsp; &nbsp; &nbsp; &nbsp; &nbsp; &nbsp; &nbsp; &nbsp; &nbsp; &nbsp; Manu Kalia Project Submission<br>\n",
    "&nbsp; &nbsp; &nbsp; &nbsp; &nbsp; &nbsp; &nbsp; &nbsp; &nbsp; &nbsp; DSI-7-SF<br>\n",
    "&nbsp; &nbsp; &nbsp; &nbsp; &nbsp; &nbsp; &nbsp; &nbsp; &nbsp; &nbsp; 15-May-2019<br>\n",
    "</font>\n",
    "\n",
    "---\n"
   ]
  },
  {
   "cell_type": "markdown",
   "metadata": {
    "toc": true
   },
   "source": [
    "<h1>Table of Contents<span class=\"tocSkip\"></span></h1>\n",
    "<div class=\"toc\"><ul class=\"toc-item\"><li><span><a href=\"#Import-modules-and-classes\" data-toc-modified-id=\"Import-modules-and-classes-1\"><span class=\"toc-item-num\">1&nbsp;&nbsp;</span>Import modules and classes</a></span></li><li><span><a href=\"#Functions-to-Construct-Queries\" data-toc-modified-id=\"Functions-to-Construct-Queries-2\"><span class=\"toc-item-num\">2&nbsp;&nbsp;</span>Functions to Construct Queries</a></span></li><li><span><a href=\"#Get-Hourly-Reservoir-Storage-Sensor-Readings\" data-toc-modified-id=\"Get-Hourly-Reservoir-Storage-Sensor-Readings-3\"><span class=\"toc-item-num\">3&nbsp;&nbsp;</span>Get Hourly Reservoir Storage Sensor Readings</a></span></li><li><span><a href=\"#?\" data-toc-modified-id=\"?-4\"><span class=\"toc-item-num\">4&nbsp;&nbsp;</span>?</a></span></li></ul></div>"
   ]
  },
  {
   "cell_type": "markdown",
   "metadata": {},
   "source": [
    "---\n",
    "\n",
    "## Import modules and classes"
   ]
  },
  {
   "cell_type": "code",
   "execution_count": 1,
   "metadata": {},
   "outputs": [],
   "source": [
    "import wget, os, zipfile\n",
    "import time"
   ]
  },
  {
   "cell_type": "markdown",
   "metadata": {},
   "source": [
    "---\n",
    "\n",
    "## Functions to Construct Queries\n",
    "\n",
    "(for Accessing CAISO OASIS API)"
   ]
  },
  {
   "cell_type": "markdown",
   "metadata": {},
   "source": [
    "**CSV download query format... hourly storage at a single reservoir**  \n",
    "\n",
    "http://cdec.water.ca.gov/dynamicapp/req/CSVDataServlet?Stations=SHA&SensorNums=15&dur_code=H&Start=2016-01-01&End=2019-05-06\n",
    "\n",
    "**Excel download query format... hourly storage at a single reservoir**  \n",
    "\n",
    "http://cdec.water.ca.gov/dynamicapp/req/ExcelDataServlet?Stations=SHA&SensorNums=15&dur_code=H&Start=2016-01-01&End=2019-05-06\n",
    "\n",
    "\n",
    "<br/> \n",
    "\n",
    "**Mandatory Parameters**\n",
    "\n",
    "|Parameter    |Description                                                         |\n",
    "|-------------|--------------------------------------------------------------------|\n",
    "|placeholder  |...                                                              ...|\n",
    "\n"
   ]
  },
  {
   "cell_type": "code",
   "execution_count": 2,
   "metadata": {},
   "outputs": [],
   "source": [
    "# Function to construct a GENERIC one-month .csv download query\n",
    "#    for hourly reservoir storage amounts from the CA DWR API\n",
    "\n",
    "# Parameter (string):  reservoir alphabetic code\n",
    "\n",
    "\n",
    "def res_stg_query(station):\n",
    "    url = f'http://cdec.water.ca.gov/dynamicapp/req/CSVDataServlet'\n",
    "    Stations = station\n",
    "    SensorNums = '15'\n",
    "    dur_code = 'H'\n",
    "    Start =  '2016-01-01'\n",
    "    End   =  '2019-05-07'\n",
    "\n",
    "    query = f'{url}?Stations={station}&SensorNums={SensorNums}\\\n",
    "&dur_code={dur_code}&Start={Start}&End={End}'\n",
    "    \n",
    "    return query"
   ]
  },
  {
   "cell_type": "code",
   "execution_count": 3,
   "metadata": {},
   "outputs": [
    {
     "data": {
      "text/plain": [
       "'http://cdec.water.ca.gov/dynamicapp/req/CSVDataServlet?Stations=CLE&SensorNums=15&dur_code=H&Start=2016-01-01&End=2019-05-07'"
      ]
     },
     "execution_count": 3,
     "metadata": {},
     "output_type": "execute_result"
    }
   ],
   "source": [
    "res_stg_query('CLE')"
   ]
  },
  {
   "cell_type": "markdown",
   "metadata": {},
   "source": [
    "---\n",
    "\n",
    "## Get Hourly Reservoir Storage Sensor Readings\n",
    "\n",
    "(in acre-feet from CA DWR website via API)"
   ]
  },
  {
   "cell_type": "code",
   "execution_count": 4,
   "metadata": {},
   "outputs": [
    {
     "data": {
      "text/plain": [
       "47"
      ]
     },
     "execution_count": 4,
     "metadata": {},
     "output_type": "execute_result"
    }
   ],
   "source": [
    "reservoirs_list = ['CLE', 'WHI', 'LEW', 'WRS',\n",
    "                   'COY', 'SHA', 'KES', 'ORO',\n",
    "                   'ANT', 'FRD', 'DAV', 'BUL',\n",
    "                   'ENG', 'FOL', 'UNV', 'LON',\n",
    "                   'ICH', 'NAT', 'INV', 'BER',\n",
    "                   'BLB', 'NHG', 'CMN', 'PAR',\n",
    "                   'DON', 'BRD', 'TUL', 'NML',\n",
    "                   'DNP', 'HTH', 'CHV', 'EXC',\n",
    "                   'BUC', 'HID', 'MIL', 'SNL',\n",
    "                   'PNF', 'TRM', 'SCC', 'ISB',\n",
    "                   'STP', 'INP', 'DNN', 'CCH',\n",
    "                   'PYM', 'CAS', 'PRR'\n",
    "                  ]\n",
    "\n",
    "len(reservoirs_list)"
   ]
  },
  {
   "cell_type": "code",
   "execution_count": 5,
   "metadata": {
    "code_folding": []
   },
   "outputs": [],
   "source": [
    "# for station in reservoirs_list:\n",
    "#     wget.download(res_stg_query(station), f'../ca_dwr_dl/{station}_hrly_strg.csv')\n",
    "#     time.sleep(5)"
   ]
  },
  {
   "cell_type": "code",
   "execution_count": null,
   "metadata": {
    "code_folding": []
   },
   "outputs": [],
   "source": [
    "# Single reservoir download\n",
    "\n",
    "# station = 'CLE'\n",
    "# wget.download(res_stg_query(station), f'../ca_dwr_dl/{station}_hrly_strg.csv')"
   ]
  },
  {
   "cell_type": "markdown",
   "metadata": {},
   "source": [
    "---\n",
    "\n",
    "## ?\n",
    "\n",
    "(note)"
   ]
  },
  {
   "cell_type": "code",
   "execution_count": null,
   "metadata": {},
   "outputs": [],
   "source": []
  }
 ],
 "metadata": {
  "kernelspec": {
   "display_name": "Python 3",
   "language": "python",
   "name": "python3"
  },
  "language_info": {
   "codemirror_mode": {
    "name": "ipython",
    "version": 3
   },
   "file_extension": ".py",
   "mimetype": "text/x-python",
   "name": "python",
   "nbconvert_exporter": "python",
   "pygments_lexer": "ipython3",
   "version": "3.8.8"
  },
  "toc": {
   "base_numbering": 1,
   "nav_menu": {},
   "number_sections": true,
   "sideBar": true,
   "skip_h1_title": true,
   "title_cell": "Table of Contents",
   "title_sidebar": "Contents",
   "toc_cell": true,
   "toc_position": {
    "height": "calc(100% - 180px)",
    "left": "10px",
    "top": "150px",
    "width": "245px"
   },
   "toc_section_display": true,
   "toc_window_display": true
  },
  "varInspector": {
   "cols": {
    "lenName": 16,
    "lenType": 16,
    "lenVar": 40
   },
   "kernels_config": {
    "python": {
     "delete_cmd_postfix": "",
     "delete_cmd_prefix": "del ",
     "library": "var_list.py",
     "varRefreshCmd": "print(var_dic_list())"
    },
    "r": {
     "delete_cmd_postfix": ") ",
     "delete_cmd_prefix": "rm(",
     "library": "var_list.r",
     "varRefreshCmd": "cat(var_dic_list()) "
    }
   },
   "types_to_exclude": [
    "module",
    "function",
    "builtin_function_or_method",
    "instance",
    "_Feature"
   ],
   "window_display": false
  }
 },
 "nbformat": 4,
 "nbformat_minor": 2
}
