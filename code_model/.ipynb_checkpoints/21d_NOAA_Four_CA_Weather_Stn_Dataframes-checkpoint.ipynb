{
 "cells": [
  {
   "cell_type": "markdown",
   "metadata": {},
   "source": [
    "---\n",
    "\n",
    "## Imports"
   ]
  },
  {
   "cell_type": "code",
   "execution_count": 1,
   "metadata": {},
   "outputs": [],
   "source": [
    "import pandas as pd\n",
    "import numpy as np\n",
    "\n",
    "import wget, os\n",
    "import time\n",
    "import glob\n",
    "\n",
    "import matplotlib.pyplot as plt\n",
    "import seaborn as sns\n",
    "from pandas.plotting import register_matplotlib_converters\n",
    "register_matplotlib_converters()\n",
    "%matplotlib inline\n",
    "sns.set_style('whitegrid')"
   ]
  },
  {
   "cell_type": "markdown",
   "metadata": {},
   "source": [
    "---\n",
    "\n",
    "## Declare Variables, Directories, and Column Names"
   ]
  },
  {
   "cell_type": "code",
   "execution_count": 2,
   "metadata": {},
   "outputs": [
    {
     "name": "stdout",
     "output_type": "stream",
     "text": [
      "NOAA Weather Station IDs:   ['72290023188', '72286903171', '72592024257', '72389093193']\n",
      "NOAA Weather Station Names: ['sand', 'rive', 'redd', 'fres']\n"
     ]
    }
   ],
   "source": [
    "stations_dict = {'72290023188': 'sand',        # San Diego\n",
    "                 '72286903171': 'rive',        # Riverside\n",
    "                 '72592024257': 'redd',        # Redding\n",
    "                 '72389093193': 'fres'         # Fresno\n",
    "                }\n",
    "\n",
    "stn_id_list   = list(stations_dict.keys())\n",
    "stn_name_list = list(stations_dict.values())\n",
    "\n",
    "print(f'NOAA Weather Station IDs:   {stn_id_list}')\n",
    "print(f'NOAA Weather Station Names: {stn_name_list}')\n",
    "\n",
    "# Dataframe names\n",
    "sand_df = None\n",
    "rive_df = None\n",
    "redd_df = None\n",
    "fres_df = None"
   ]
  },
  {
   "cell_type": "code",
   "execution_count": 3,
   "metadata": {},
   "outputs": [],
   "source": [
    "download_dirs = ['../raw_data/noaa_weather/2016/',\n",
    "                 '../raw_data/noaa_weather/2017/',\n",
    "                 '../raw_data/noaa_weather/2018/',\n",
    "                 '../raw_data/noaa_weather/2019/'\n",
    "                ]"
   ]
  },
  {
   "cell_type": "code",
   "execution_count": 4,
   "metadata": {},
   "outputs": [],
   "source": [
    "weather_orig_cols=['STATION',\n",
    "                   'DATE',\n",
    "                   'TMP',\n",
    "                   'WND',\n",
    "                   'CIG',\n",
    "                   'VIS']\n",
    "\n",
    "weather_new_cols =['stn_id',\n",
    "                   'datetime',\n",
    "                   'temp',\n",
    "                   'wind',\n",
    "                   'ceil',\n",
    "                   'vis']\n",
    "\n",
    "weather_rename_dict = {old: new for old, new in zip(weather_orig_cols,\n",
    "                                                    weather_new_cols)}"
   ]
  },
  {
   "cell_type": "markdown",
   "metadata": {},
   "source": [
    "---\n",
    "\n",
    "##  Define Functions  \n",
    "\n",
    "### Function to create NOAA weather station DataFrame\n",
    "\n",
    "Parameters:  dataframe (df), index slice position in `stations_list`  \n",
    "\n",
    "Function steps:  \n",
    " 1. Instantiate DataFrame\n",
    " 2. Loop through the 4 annual download directories\n",
    " 3. Reading in data from .csv files, appending rows to new dataframe\n",
    " 3. Sort by `datetime` column, cast to 'datetime' object, and set as index \n",
    " 4. Sort by new `datetime` index to show rows in chronological order\n",
    " \n",
    " \n",
    "### Function to extract relevant statistics from NOAA column\n",
    "\n",
    "Parameters:  dataframe (df), orig_col_name (string), new_col_name (string), slice_index  \n",
    "\n",
    "Function steps:  \n",
    " 1. Step through rows of a dataframe\n",
    " 2. Extract a single statistic from a \"cell\" that is a tuple of strings\n",
    " 3. Store that stat in a new column whose name is a parameter\n",
    " 4. Drop the original data column from the dataframe\n",
    " \n",
    " \n",
    "### Function to print relevant descriptive info on dataframe\n",
    "\n",
    "Parameter:  dataframe (df)\n",
    "\n",
    "Function steps:\n",
    " 1. print df.shape\n",
    " 2. print null counts\n",
    " 3. print head(5)\n",
    " \n",
    " \n",
    " ### Function to replace  hard-coded \"99xxx9\" values w/ NaNs\n",
    "\n",
    "Parameter:  dataframe (df)\n",
    "\n",
    "Function steps:\n",
    " 1. replace specific codes (depends on which column) NOAA uses as NaN\n",
    " 2. return null counts"
   ]
  },
  {
   "cell_type": "code",
   "execution_count": 5,
   "metadata": {},
   "outputs": [],
   "source": [
    "def create_stn_df(df, stn_idx):\n",
    "    df       = pd.DataFrame(columns=weather_new_cols)\n",
    "    stn_name = list(stations_dict.values())[stn_idx]\n",
    "    stn_id   = list(stations_dict.keys())[stn_idx]\n",
    "\n",
    "    for directory in download_dirs:\n",
    "        file = directory + stn_id + '.csv'\n",
    "        temp_df = pd.read_csv(file,\n",
    "                              usecols=weather_orig_cols).rename(index=str,\n",
    "                                                                columns=weather_rename_dict)\n",
    "        df = df.append(temp_df, ignore_index=True, sort=True)\n",
    "\n",
    "    df = df.sort_values(by='datetime').reset_index(drop=True)\n",
    "\n",
    "    df['datetime'] = pd.to_datetime(df['datetime'])\n",
    "\n",
    "    df.set_index('datetime', inplace=True)\n",
    "    df.sort_index(inplace=True)\n",
    "    print(f'{stn_name}_df DataFrame Created')\n",
    "    \n",
    "    return df"
   ]
  },
  {
   "cell_type": "code",
   "execution_count": 6,
   "metadata": {},
   "outputs": [],
   "source": [
    "def extract_statistic(df, orig_col_name, new_col_name, slice_index):\n",
    "    for row in range(0, df.shape[0]):\n",
    "        try:\n",
    "            statistic = df.loc[df.index[row], orig_col_name].split(',')[slice_index]\n",
    "            df.loc[df.index[row], new_col_name] = statistic\n",
    "            \n",
    "        except IndexError: break\n",
    "        except:\n",
    "            df.drop(labels=df.index[row], axis=0, inplace=True)  \n",
    "\n",
    "    df.drop(columns=[orig_col_name], inplace=True)\n",
    "\n",
    "    return"
   ]
  },
  {
   "cell_type": "code",
   "execution_count": 7,
   "metadata": {},
   "outputs": [],
   "source": [
    "def summarize(df):\n",
    "    print(f'\\nShape: {df.shape}')\n",
    "    print(f'\\n  Nulls:\\n{df.isna().sum()}')\n",
    "    print(f'\\ndf.head()\\n{df.head()}')\n",
    "    \n",
    "    return"
   ]
  },
  {
   "cell_type": "code",
   "execution_count": 8,
   "metadata": {},
   "outputs": [],
   "source": [
    "def replace_nines(df):\n",
    "    df.replace('9999', np.nan, inplace=True)\n",
    "    df.replace('99999', np.nan, inplace=True)\n",
    "    df.replace('999999', np.nan, inplace=True)\n",
    "    df.isna().sum()\n",
    "    \n",
    "    return"
   ]
  },
  {
   "cell_type": "markdown",
   "metadata": {},
   "source": [
    "---\n",
    "\n",
    "## Read in Data and Create 4 Weather Station DataFrames"
   ]
  },
  {
   "cell_type": "code",
   "execution_count": 9,
   "metadata": {},
   "outputs": [
    {
     "data": {
      "text/plain": [
       "['sand', 'rive', 'redd', 'fres']"
      ]
     },
     "execution_count": 9,
     "metadata": {},
     "output_type": "execute_result"
    }
   ],
   "source": [
    "stn_name_list"
   ]
  },
  {
   "cell_type": "code",
   "execution_count": 10,
   "metadata": {},
   "outputs": [
    {
     "name": "stdout",
     "output_type": "stream",
     "text": [
      "sand_df DataFrame Created\n",
      "rive_df DataFrame Created\n",
      "redd_df DataFrame Created\n",
      "fres_df DataFrame Created\n"
     ]
    }
   ],
   "source": [
    "sand_df = create_stn_df(sand_df, 0)\n",
    "rive_df = create_stn_df(rive_df, 1)\n",
    "redd_df = create_stn_df(redd_df, 2)\n",
    "fres_df = create_stn_df(fres_df, 3)"
   ]
  },
  {
   "cell_type": "markdown",
   "metadata": {},
   "source": [
    "---\n",
    "\n",
    "## San Diego DataFrame"
   ]
  },
  {
   "cell_type": "code",
   "execution_count": 11,
   "metadata": {
    "scrolled": false
   },
   "outputs": [
    {
     "name": "stdout",
     "output_type": "stream",
     "text": [
      "\n",
      "Shape: (41373, 5)\n",
      "\n",
      "  Nulls:\n",
      "ceil      0\n",
      "stn_id    0\n",
      "temp      0\n",
      "vis       0\n",
      "wind      0\n",
      "dtype: int64\n",
      "\n",
      "df.head()\n",
      "                            ceil       stn_id     temp           vis  \\\n",
      "datetime                                                               \n",
      "2016-01-01 00:00:00  99999,9,9,N  72290023188  +0161,1  016000,1,9,9   \n",
      "2016-01-01 00:51:00  22000,5,9,N  72290023188  +0156,5  016093,5,N,5   \n",
      "2016-01-01 01:51:00  22000,5,9,N  72290023188  +0144,5  016093,5,N,5   \n",
      "2016-01-01 02:51:00  22000,5,9,N  72290023188  +0139,5  016093,5,N,5   \n",
      "2016-01-01 03:51:00  22000,5,9,N  72290023188  +0133,5  016093,5,N,5   \n",
      "\n",
      "                               wind  \n",
      "datetime                             \n",
      "2016-01-01 00:00:00  310,1,N,0031,1  \n",
      "2016-01-01 00:51:00  320,5,N,0026,5  \n",
      "2016-01-01 01:51:00  340,5,N,0021,5  \n",
      "2016-01-01 02:51:00  999,9,C,0000,5  \n",
      "2016-01-01 03:51:00  999,9,C,0000,5  \n"
     ]
    }
   ],
   "source": [
    "summarize(sand_df)"
   ]
  },
  {
   "cell_type": "code",
   "execution_count": 12,
   "metadata": {},
   "outputs": [
    {
     "data": {
      "text/plain": [
       "(26409, 5)"
      ]
     },
     "execution_count": 12,
     "metadata": {},
     "output_type": "execute_result"
    }
   ],
   "source": [
    "sand_df.drop_duplicates().shape"
   ]
  },
  {
   "cell_type": "code",
   "execution_count": 13,
   "metadata": {},
   "outputs": [
    {
     "data": {
      "text/plain": [
       "(26409, 5)"
      ]
     },
     "execution_count": 13,
     "metadata": {},
     "output_type": "execute_result"
    }
   ],
   "source": [
    "sand_df = sand_df.drop_duplicates()\n",
    "sand_df.shape"
   ]
  },
  {
   "cell_type": "code",
   "execution_count": 14,
   "metadata": {},
   "outputs": [],
   "source": [
    "extract_statistic(sand_df, 'temp', 'sand_temp', 0)\n",
    "extract_statistic(sand_df, 'wind', 'sand_wind', 3)\n",
    "extract_statistic(sand_df, 'vis',  'sand_vis',  0)\n",
    "extract_statistic(sand_df, 'ceil', 'sand_ceil', 0)\n",
    "\n",
    "sand_df.drop(columns=['stn_id'], inplace=True)"
   ]
  },
  {
   "cell_type": "code",
   "execution_count": 15,
   "metadata": {
    "scrolled": true
   },
   "outputs": [
    {
     "name": "stdout",
     "output_type": "stream",
     "text": [
      "\n",
      "Shape: (26397, 4)\n",
      "\n",
      "  Nulls:\n",
      "sand_temp    6\n",
      "sand_wind    0\n",
      "sand_vis     0\n",
      "sand_ceil    0\n",
      "dtype: int64\n",
      "\n",
      "df.head()\n",
      "                    sand_temp sand_wind sand_vis sand_ceil\n",
      "datetime                                                  \n",
      "2016-01-01 00:00:00     +0161      0031   016000     99999\n",
      "2016-01-01 00:51:00     +0156      0026   016093     22000\n",
      "2016-01-01 01:51:00     +0144      0021   016093     22000\n",
      "2016-01-01 02:51:00     +0139      0000   016093     22000\n",
      "2016-01-01 03:51:00     +0133      0000   016093     22000\n"
     ]
    }
   ],
   "source": [
    "summarize(sand_df)"
   ]
  },
  {
   "cell_type": "code",
   "execution_count": 16,
   "metadata": {},
   "outputs": [
    {
     "data": {
      "text/plain": [
       "sand_temp       0\n",
       "sand_wind       9\n",
       "sand_vis        4\n",
       "sand_ceil    2379\n",
       "dtype: int64"
      ]
     },
     "execution_count": 16,
     "metadata": {},
     "output_type": "execute_result"
    }
   ],
   "source": [
    "sand_df.dropna(inplace=True)\n",
    "replace_nines(sand_df)\n",
    "sand_df.isna().sum()"
   ]
  },
  {
   "cell_type": "code",
   "execution_count": null,
   "metadata": {},
   "outputs": [],
   "source": [
    "# decided not to fill, because they are at \"odd\" times\n",
    "# that don't align with other measurent times (:51 past each hour)\n",
    "\n",
    "# sand_df.sand_ceil.fillna(method='ffill', inplace=True)\n",
    "# sand_df.isna().sum()"
   ]
  },
  {
   "cell_type": "code",
   "execution_count": 20,
   "metadata": {},
   "outputs": [],
   "source": [
    "sand_df.dropna(inplace=True)"
   ]
  },
  {
   "cell_type": "code",
   "execution_count": 21,
   "metadata": {
    "scrolled": false
   },
   "outputs": [
    {
     "name": "stdout",
     "output_type": "stream",
     "text": [
      "\n",
      "Shape: (24007, 4)\n",
      "\n",
      "  Nulls:\n",
      "sand_temp    0\n",
      "sand_wind    0\n",
      "sand_vis     0\n",
      "sand_ceil    0\n",
      "dtype: int64\n",
      "\n",
      "df.head()\n",
      "                    sand_temp sand_wind sand_vis sand_ceil\n",
      "datetime                                                  \n",
      "2016-01-01 00:51:00     +0156      0026   016093     22000\n",
      "2016-01-01 01:51:00     +0144      0021   016093     22000\n",
      "2016-01-01 02:51:00     +0139      0000   016093     22000\n",
      "2016-01-01 03:51:00     +0133      0000   016093     22000\n",
      "2016-01-01 04:51:00     +0122      0000   016093     22000\n"
     ]
    }
   ],
   "source": [
    "summarize(sand_df)"
   ]
  },
  {
   "cell_type": "code",
   "execution_count": 22,
   "metadata": {},
   "outputs": [],
   "source": [
    "sand_df.to_csv('../data/san_diego_weather2.csv')"
   ]
  },
  {
   "cell_type": "markdown",
   "metadata": {},
   "source": [
    "---\n",
    "\n",
    "## Riverside DataFrame"
   ]
  },
  {
   "cell_type": "code",
   "execution_count": 23,
   "metadata": {},
   "outputs": [
    {
     "name": "stdout",
     "output_type": "stream",
     "text": [
      "\n",
      "Shape: (33905, 5)\n",
      "\n",
      "  Nulls:\n",
      "ceil      0\n",
      "stn_id    0\n",
      "temp      0\n",
      "vis       0\n",
      "wind      0\n",
      "dtype: int64\n",
      "\n",
      "df.head()\n",
      "                            ceil       stn_id     temp           vis  \\\n",
      "datetime                                                               \n",
      "2016-01-01 00:53:00  22000,5,9,N  72286903171  +0133,5  016093,5,N,5   \n",
      "2016-01-01 01:53:00  22000,5,9,N  72286903171  +0128,5  016093,5,N,5   \n",
      "2016-01-01 02:53:00  22000,5,9,N  72286903171  +0122,5  016093,5,N,5   \n",
      "2016-01-01 03:53:00  22000,5,9,N  72286903171  +0117,5  016093,5,N,5   \n",
      "2016-01-01 04:53:00  22000,5,9,N  72286903171  +0111,5  016093,5,N,5   \n",
      "\n",
      "                               wind  \n",
      "datetime                             \n",
      "2016-01-01 00:53:00  030,5,N,0051,5  \n",
      "2016-01-01 01:53:00  040,5,N,0046,5  \n",
      "2016-01-01 02:53:00  040,5,N,0046,5  \n",
      "2016-01-01 03:53:00  060,5,N,0041,5  \n",
      "2016-01-01 04:53:00  040,5,N,0051,5  \n"
     ]
    }
   ],
   "source": [
    "summarize(rive_df)"
   ]
  },
  {
   "cell_type": "code",
   "execution_count": 24,
   "metadata": {},
   "outputs": [
    {
     "data": {
      "text/plain": [
       "(17294, 5)"
      ]
     },
     "execution_count": 24,
     "metadata": {},
     "output_type": "execute_result"
    }
   ],
   "source": [
    "rive_df.drop_duplicates().shape"
   ]
  },
  {
   "cell_type": "code",
   "execution_count": 25,
   "metadata": {},
   "outputs": [
    {
     "data": {
      "text/plain": [
       "(17294, 5)"
      ]
     },
     "execution_count": 25,
     "metadata": {},
     "output_type": "execute_result"
    }
   ],
   "source": [
    "rive_df = rive_df.drop_duplicates()\n",
    "rive_df.shape"
   ]
  },
  {
   "cell_type": "code",
   "execution_count": 26,
   "metadata": {},
   "outputs": [],
   "source": [
    "extract_statistic(rive_df, 'temp', 'rive_temp', 0)\n",
    "extract_statistic(rive_df, 'wind', 'rive_wind', 3)\n",
    "extract_statistic(rive_df, 'vis',  'rive_vis',  0)\n",
    "extract_statistic(rive_df, 'ceil', 'rive_ceil', 0)\n",
    "\n",
    "rive_df.drop(columns=['stn_id'], inplace=True)"
   ]
  },
  {
   "cell_type": "code",
   "execution_count": 27,
   "metadata": {},
   "outputs": [
    {
     "name": "stdout",
     "output_type": "stream",
     "text": [
      "\n",
      "Shape: (17294, 4)\n",
      "\n",
      "  Nulls:\n",
      "rive_temp    0\n",
      "rive_wind    0\n",
      "rive_vis     0\n",
      "rive_ceil    0\n",
      "dtype: int64\n",
      "\n",
      "df.head()\n",
      "                    rive_temp rive_wind rive_vis rive_ceil\n",
      "datetime                                                  \n",
      "2016-01-01 00:53:00     +0133      0051   016093     22000\n",
      "2016-01-01 01:53:00     +0128      0046   016093     22000\n",
      "2016-01-01 02:53:00     +0122      0046   016093     22000\n",
      "2016-01-01 03:53:00     +0117      0041   016093     22000\n",
      "2016-01-01 04:53:00     +0111      0051   016093     22000\n"
     ]
    }
   ],
   "source": [
    "summarize(rive_df)"
   ]
  },
  {
   "cell_type": "code",
   "execution_count": 28,
   "metadata": {},
   "outputs": [
    {
     "data": {
      "text/plain": [
       "rive_temp      0\n",
       "rive_wind    111\n",
       "rive_vis      33\n",
       "rive_ceil     51\n",
       "dtype: int64"
      ]
     },
     "execution_count": 28,
     "metadata": {},
     "output_type": "execute_result"
    }
   ],
   "source": [
    "rive_df.dropna(inplace=True)\n",
    "replace_nines(rive_df)\n",
    "rive_df.isna().sum()"
   ]
  },
  {
   "cell_type": "code",
   "execution_count": null,
   "metadata": {},
   "outputs": [],
   "source": [
    "# did not fill forward... small num of nulls\n",
    "\n",
    "# rive_df.sand_COLUMN.fillna(method='ffill', inplace=True)\n",
    "# rive_df.isna().sum()"
   ]
  },
  {
   "cell_type": "code",
   "execution_count": 29,
   "metadata": {},
   "outputs": [],
   "source": [
    "rive_df.dropna(inplace=True)"
   ]
  },
  {
   "cell_type": "code",
   "execution_count": 30,
   "metadata": {},
   "outputs": [
    {
     "name": "stdout",
     "output_type": "stream",
     "text": [
      "\n",
      "Shape: (17142, 4)\n",
      "\n",
      "  Nulls:\n",
      "rive_temp    0\n",
      "rive_wind    0\n",
      "rive_vis     0\n",
      "rive_ceil    0\n",
      "dtype: int64\n",
      "\n",
      "df.head()\n",
      "                    rive_temp rive_wind rive_vis rive_ceil\n",
      "datetime                                                  \n",
      "2016-01-01 00:53:00     +0133      0051   016093     22000\n",
      "2016-01-01 01:53:00     +0128      0046   016093     22000\n",
      "2016-01-01 02:53:00     +0122      0046   016093     22000\n",
      "2016-01-01 03:53:00     +0117      0041   016093     22000\n",
      "2016-01-01 04:53:00     +0111      0051   016093     22000\n"
     ]
    }
   ],
   "source": [
    "summarize(rive_df)"
   ]
  },
  {
   "cell_type": "code",
   "execution_count": 31,
   "metadata": {},
   "outputs": [],
   "source": [
    "rive_df.to_csv('../data/riverside_weather2.csv')"
   ]
  },
  {
   "cell_type": "markdown",
   "metadata": {},
   "source": [
    "## Redding DataFrame"
   ]
  },
  {
   "cell_type": "code",
   "execution_count": 32,
   "metadata": {},
   "outputs": [
    {
     "name": "stdout",
     "output_type": "stream",
     "text": [
      "\n",
      "Shape: (41245, 5)\n",
      "\n",
      "  Nulls:\n",
      "ceil      0\n",
      "stn_id    0\n",
      "temp      0\n",
      "vis       0\n",
      "wind      0\n",
      "dtype: int64\n",
      "\n",
      "df.head()\n",
      "                            ceil       stn_id     temp           vis  \\\n",
      "datetime                                                               \n",
      "2016-01-01 00:00:00  99999,9,9,N  72592024257  +0111,1  016000,1,9,9   \n",
      "2016-01-01 00:53:00  22000,5,9,N  72592024257  +0094,5  016093,5,N,5   \n",
      "2016-01-01 01:53:00  22000,5,9,N  72592024257  +0083,5  016093,5,N,5   \n",
      "2016-01-01 02:53:00  22000,5,9,N  72592024257  +0078,5  016093,5,N,5   \n",
      "2016-01-01 03:53:00  22000,5,9,N  72592024257  +0067,5  016093,5,N,5   \n",
      "\n",
      "                               wind  \n",
      "datetime                             \n",
      "2016-01-01 00:00:00  010,1,N,0088,1  \n",
      "2016-01-01 00:53:00  360,5,N,0072,5  \n",
      "2016-01-01 01:53:00  010,5,N,0093,5  \n",
      "2016-01-01 02:53:00  360,5,N,0067,5  \n",
      "2016-01-01 03:53:00  360,5,N,0072,5  \n"
     ]
    }
   ],
   "source": [
    "summarize(redd_df)"
   ]
  },
  {
   "cell_type": "code",
   "execution_count": 33,
   "metadata": {},
   "outputs": [
    {
     "data": {
      "text/plain": [
       "(25646, 5)"
      ]
     },
     "execution_count": 33,
     "metadata": {},
     "output_type": "execute_result"
    }
   ],
   "source": [
    "redd_df.drop_duplicates().shape"
   ]
  },
  {
   "cell_type": "code",
   "execution_count": 34,
   "metadata": {},
   "outputs": [
    {
     "data": {
      "text/plain": [
       "(25646, 5)"
      ]
     },
     "execution_count": 34,
     "metadata": {},
     "output_type": "execute_result"
    }
   ],
   "source": [
    "redd_df = redd_df.drop_duplicates()\n",
    "redd_df.shape"
   ]
  },
  {
   "cell_type": "code",
   "execution_count": 35,
   "metadata": {},
   "outputs": [],
   "source": [
    "extract_statistic(redd_df, 'temp', 'redd_temp', 0)\n",
    "extract_statistic(redd_df, 'wind', 'redd_wind', 3)\n",
    "extract_statistic(redd_df, 'vis',  'redd_vis',  0)\n",
    "extract_statistic(redd_df, 'ceil', 'redd_ceil', 0)\n",
    "\n",
    "redd_df.drop(columns=['stn_id'], inplace=True)"
   ]
  },
  {
   "cell_type": "code",
   "execution_count": 36,
   "metadata": {},
   "outputs": [
    {
     "name": "stdout",
     "output_type": "stream",
     "text": [
      "\n",
      "Shape: (25582, 4)\n",
      "\n",
      "  Nulls:\n",
      "redd_temp    32\n",
      "redd_wind     0\n",
      "redd_vis      0\n",
      "redd_ceil     0\n",
      "dtype: int64\n",
      "\n",
      "df.head()\n",
      "                    redd_temp redd_wind redd_vis redd_ceil\n",
      "datetime                                                  \n",
      "2016-01-01 00:00:00     +0111      0088   016000     99999\n",
      "2016-01-01 00:53:00     +0094      0072   016093     22000\n",
      "2016-01-01 01:53:00     +0083      0093   016093     22000\n",
      "2016-01-01 02:53:00     +0078      0067   016093     22000\n",
      "2016-01-01 03:53:00     +0067      0072   016093     22000\n"
     ]
    }
   ],
   "source": [
    "summarize(redd_df)"
   ]
  },
  {
   "cell_type": "code",
   "execution_count": 37,
   "metadata": {},
   "outputs": [
    {
     "data": {
      "text/plain": [
       "redd_temp       0\n",
       "redd_wind     194\n",
       "redd_vis       18\n",
       "redd_ceil    3170\n",
       "dtype: int64"
      ]
     },
     "execution_count": 37,
     "metadata": {},
     "output_type": "execute_result"
    }
   ],
   "source": [
    "redd_df.dropna(inplace=True)\n",
    "replace_nines(redd_df)\n",
    "redd_df.isna().sum()"
   ]
  },
  {
   "cell_type": "code",
   "execution_count": 39,
   "metadata": {},
   "outputs": [],
   "source": [
    "# decided not to fill, because they are at \"odd\" times\n",
    "# that don't align with other measurent times (:53 past each hour)\n",
    "\n",
    "# redd_df.sand_ceil.fillna(method='ffill', inplace=True)\n",
    "# redd_df.isna().sum()"
   ]
  },
  {
   "cell_type": "code",
   "execution_count": 40,
   "metadata": {},
   "outputs": [],
   "source": [
    "redd_df.dropna(inplace=True)"
   ]
  },
  {
   "cell_type": "code",
   "execution_count": 41,
   "metadata": {},
   "outputs": [
    {
     "name": "stdout",
     "output_type": "stream",
     "text": [
      "\n",
      "Shape: (22201, 4)\n",
      "\n",
      "  Nulls:\n",
      "redd_temp    0\n",
      "redd_wind    0\n",
      "redd_vis     0\n",
      "redd_ceil    0\n",
      "dtype: int64\n",
      "\n",
      "df.head()\n",
      "                    redd_temp redd_wind redd_vis redd_ceil\n",
      "datetime                                                  \n",
      "2016-01-01 00:53:00     +0094      0072   016093     22000\n",
      "2016-01-01 01:53:00     +0083      0093   016093     22000\n",
      "2016-01-01 02:53:00     +0078      0067   016093     22000\n",
      "2016-01-01 03:53:00     +0067      0072   016093     22000\n",
      "2016-01-01 05:53:00     +0056      0072   016093     22000\n"
     ]
    }
   ],
   "source": [
    "summarize(redd_df)"
   ]
  },
  {
   "cell_type": "code",
   "execution_count": 42,
   "metadata": {},
   "outputs": [],
   "source": [
    "redd_df.to_csv('../data/redding_weather2.csv')"
   ]
  },
  {
   "cell_type": "markdown",
   "metadata": {},
   "source": [
    "## Fresno DataFrame"
   ]
  },
  {
   "cell_type": "code",
   "execution_count": 43,
   "metadata": {},
   "outputs": [
    {
     "name": "stdout",
     "output_type": "stream",
     "text": [
      "\n",
      "Shape: (37439, 5)\n",
      "\n",
      "  Nulls:\n",
      "ceil      0\n",
      "stn_id    0\n",
      "temp      0\n",
      "vis       0\n",
      "wind      0\n",
      "dtype: int64\n",
      "\n",
      "df.head()\n",
      "                            ceil       stn_id     temp           vis  \\\n",
      "datetime                                                               \n",
      "2016-01-01 00:00:00  99999,9,9,N  72389093193  +0106,1  011000,1,9,9   \n",
      "2016-01-01 00:53:00  22000,5,9,N  72389093193  +0100,5  011265,5,N,5   \n",
      "2016-01-01 01:53:00  22000,5,9,N  72389093193  +0078,5  011265,5,N,5   \n",
      "2016-01-01 02:53:00  22000,5,9,N  72389093193  +0067,5  009656,5,N,5   \n",
      "2016-01-01 03:53:00  22000,5,9,N  72389093193  +0056,5  008047,5,N,5   \n",
      "\n",
      "                               wind  \n",
      "datetime                             \n",
      "2016-01-01 00:00:00  290,1,N,0015,1  \n",
      "2016-01-01 00:53:00  999,9,C,0000,5  \n",
      "2016-01-01 01:53:00  999,9,C,0000,5  \n",
      "2016-01-01 02:53:00  999,9,C,0000,5  \n",
      "2016-01-01 03:53:00  310,5,N,0015,5  \n"
     ]
    }
   ],
   "source": [
    "summarize(fres_df)"
   ]
  },
  {
   "cell_type": "code",
   "execution_count": 44,
   "metadata": {},
   "outputs": [
    {
     "data": {
      "text/plain": [
       "(24710, 5)"
      ]
     },
     "execution_count": 44,
     "metadata": {},
     "output_type": "execute_result"
    }
   ],
   "source": [
    "fres_df.drop_duplicates().shape"
   ]
  },
  {
   "cell_type": "code",
   "execution_count": 45,
   "metadata": {},
   "outputs": [
    {
     "data": {
      "text/plain": [
       "(24710, 5)"
      ]
     },
     "execution_count": 45,
     "metadata": {},
     "output_type": "execute_result"
    }
   ],
   "source": [
    "fres_df = fres_df.drop_duplicates()\n",
    "fres_df.shape"
   ]
  },
  {
   "cell_type": "code",
   "execution_count": 46,
   "metadata": {},
   "outputs": [],
   "source": [
    "extract_statistic(fres_df, 'temp', 'fres_temp', 0)\n",
    "extract_statistic(fres_df, 'wind', 'fres_wind', 3)\n",
    "extract_statistic(fres_df, 'vis',  'fres_vis',  0)\n",
    "extract_statistic(fres_df, 'ceil', 'fres_ceil', 0)\n",
    "\n",
    "fres_df.drop(columns=['stn_id'], inplace=True)"
   ]
  },
  {
   "cell_type": "code",
   "execution_count": 47,
   "metadata": {},
   "outputs": [
    {
     "name": "stdout",
     "output_type": "stream",
     "text": [
      "\n",
      "Shape: (24676, 4)\n",
      "\n",
      "  Nulls:\n",
      "fres_temp    17\n",
      "fres_wind     0\n",
      "fres_vis      0\n",
      "fres_ceil     0\n",
      "dtype: int64\n",
      "\n",
      "df.head()\n",
      "                    fres_temp fres_wind fres_vis fres_ceil\n",
      "datetime                                                  \n",
      "2016-01-01 00:00:00     +0106      0015   011000     99999\n",
      "2016-01-01 00:53:00     +0100      0000   011265     22000\n",
      "2016-01-01 01:53:00     +0078      0000   011265     22000\n",
      "2016-01-01 02:53:00     +0067      0000   009656     22000\n",
      "2016-01-01 03:53:00     +0056      0015   008047     22000\n"
     ]
    }
   ],
   "source": [
    "summarize(fres_df)"
   ]
  },
  {
   "cell_type": "code",
   "execution_count": 48,
   "metadata": {},
   "outputs": [
    {
     "data": {
      "text/plain": [
       "fres_temp       0\n",
       "fres_wind      22\n",
       "fres_vis        5\n",
       "fres_ceil    2927\n",
       "dtype: int64"
      ]
     },
     "execution_count": 48,
     "metadata": {},
     "output_type": "execute_result"
    }
   ],
   "source": [
    "fres_df.dropna(inplace=True)\n",
    "replace_nines(fres_df)\n",
    "fres_df.isna().sum()"
   ]
  },
  {
   "cell_type": "code",
   "execution_count": 51,
   "metadata": {},
   "outputs": [],
   "source": [
    "# decided not to fill, because they are at \"odd\" times\n",
    "# that don't align with other measurent times (:53 past each hour)\n",
    "\n",
    "# fres_df.sand_COLUMN.fillna(method='ffill', inplace=True)\n",
    "# fres_df.isna().sum()"
   ]
  },
  {
   "cell_type": "code",
   "execution_count": 52,
   "metadata": {},
   "outputs": [],
   "source": [
    "fres_df.dropna(inplace=True)"
   ]
  },
  {
   "cell_type": "code",
   "execution_count": 53,
   "metadata": {
    "scrolled": false
   },
   "outputs": [
    {
     "name": "stdout",
     "output_type": "stream",
     "text": [
      "\n",
      "Shape: (21711, 4)\n",
      "\n",
      "  Nulls:\n",
      "fres_temp    0\n",
      "fres_wind    0\n",
      "fres_vis     0\n",
      "fres_ceil    0\n",
      "dtype: int64\n",
      "\n",
      "df.head()\n",
      "                    fres_temp fres_wind fres_vis fres_ceil\n",
      "datetime                                                  \n",
      "2016-01-01 00:53:00     +0100      0000   011265     22000\n",
      "2016-01-01 01:53:00     +0078      0000   011265     22000\n",
      "2016-01-01 02:53:00     +0067      0000   009656     22000\n",
      "2016-01-01 03:53:00     +0056      0015   008047     22000\n",
      "2016-01-01 04:53:00     +0039      0000   006437     22000\n"
     ]
    }
   ],
   "source": [
    "summarize(fres_df)"
   ]
  },
  {
   "cell_type": "code",
   "execution_count": 54,
   "metadata": {},
   "outputs": [],
   "source": [
    "fres_df.to_csv('../data/fresno_weather2.csv')"
   ]
  },
  {
   "cell_type": "code",
   "execution_count": null,
   "metadata": {},
   "outputs": [],
   "source": []
  }
 ],
 "metadata": {
  "kernelspec": {
   "display_name": "Python 3",
   "language": "python",
   "name": "python3"
  },
  "language_info": {
   "codemirror_mode": {
    "name": "ipython",
    "version": 3
   },
   "file_extension": ".py",
   "mimetype": "text/x-python",
   "name": "python",
   "nbconvert_exporter": "python",
   "pygments_lexer": "ipython3",
   "version": "3.8.8"
  },
  "toc": {
   "base_numbering": 1,
   "nav_menu": {},
   "number_sections": true,
   "sideBar": true,
   "skip_h1_title": true,
   "title_cell": "Table of Contents",
   "title_sidebar": "Contents",
   "toc_cell": true,
   "toc_position": {
    "height": "calc(100% - 180px)",
    "left": "10px",
    "top": "150px",
    "width": "279.641px"
   },
   "toc_section_display": true,
   "toc_window_display": true
  },
  "varInspector": {
   "cols": {
    "lenName": 16,
    "lenType": 16,
    "lenVar": 40
   },
   "kernels_config": {
    "python": {
     "delete_cmd_postfix": "",
     "delete_cmd_prefix": "del ",
     "library": "var_list.py",
     "varRefreshCmd": "print(var_dic_list())"
    },
    "r": {
     "delete_cmd_postfix": ") ",
     "delete_cmd_prefix": "rm(",
     "library": "var_list.r",
     "varRefreshCmd": "cat(var_dic_list()) "
    }
   },
   "types_to_exclude": [
    "module",
    "function",
    "builtin_function_or_method",
    "instance",
    "_Feature"
   ],
   "window_display": false
  }
 },
 "nbformat": 4,
 "nbformat_minor": 2
}
