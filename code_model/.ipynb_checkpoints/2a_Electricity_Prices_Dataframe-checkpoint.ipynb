{
 "cells": [
  {
   "cell_type": "markdown",
   "metadata": {},
   "source": [
    "<img src=\"http://imgur.com/1ZcRyrc.png\" style=\"float: left; margin: 20px; height: 55px\">  \n",
    "\n",
    "<b> <font size='5'>  \n",
    "ELEC PRICE PREDICTION CAPSTONE:</font>  \n",
    "\n",
    "<font size='4'>Electricity Price DataFrame Creation Notebook  \n",
    "&nbsp; &nbsp; &nbsp; &nbsp; &nbsp; &nbsp; &nbsp; &nbsp; (Down-sampled to hourly)\n",
    "</font> </b>\n",
    "\n",
    "<font size='3'>  \n",
    "&nbsp; &nbsp; &nbsp; &nbsp; &nbsp; &nbsp; &nbsp; &nbsp; &nbsp; &nbsp; Manu Kalia Project Submission<br>\n",
    "&nbsp; &nbsp; &nbsp; &nbsp; &nbsp; &nbsp; &nbsp; &nbsp; &nbsp; &nbsp; DSI-7-SF<br>\n",
    "&nbsp; &nbsp; &nbsp; &nbsp; &nbsp; &nbsp; &nbsp; &nbsp; &nbsp; &nbsp; 15-May-2019<br>\n",
    "</font>\n",
    "\n",
    "---\n"
   ]
  },
  {
   "cell_type": "markdown",
   "metadata": {
    "toc": true
   },
   "source": [
    "<h1>Table of Contents<span class=\"tocSkip\"></span></h1>\n",
    "<div class=\"toc\"><ul class=\"toc-item\"><li><span><a href=\"#Imports\" data-toc-modified-id=\"Imports-1\"><span class=\"toc-item-num\">1&nbsp;&nbsp;</span>Imports</a></span></li><li><span><a href=\"#Day-Ahead-Market-DataFrame\" data-toc-modified-id=\"Day-Ahead-Market-DataFrame-2\"><span class=\"toc-item-num\">2&nbsp;&nbsp;</span>Day-Ahead-Market DataFrame</a></span></li><li><span><a href=\"#Hour-Ahead-Scheduling-Process-DataFrame\" data-toc-modified-id=\"Hour-Ahead-Scheduling-Process-DataFrame-3\"><span class=\"toc-item-num\">3&nbsp;&nbsp;</span>Hour-Ahead-Scheduling Process DataFrame</a></span></li><li><span><a href=\"#RTM-DataFrame\" data-toc-modified-id=\"RTM-DataFrame-4\"><span class=\"toc-item-num\">4&nbsp;&nbsp;</span>RTM DataFrame</a></span></li><li><span><a href=\"#Join-DAM-+-HASP-+-RTM-LMP's-Into-a-Single-DataFrame\" data-toc-modified-id=\"Join-DAM-+-HASP-+-RTM-LMP's-Into-a-Single-DataFrame-5\"><span class=\"toc-item-num\">5&nbsp;&nbsp;</span>Join DAM + HASP + RTM LMP's Into a Single DataFrame</a></span></li></ul></div>"
   ]
  },
  {
   "cell_type": "markdown",
   "metadata": {},
   "source": [
    "---\n",
    "\n",
    "## Imports"
   ]
  },
  {
   "cell_type": "code",
   "execution_count": 1,
   "metadata": {},
   "outputs": [],
   "source": [
    "import pandas as pd\n",
    "import numpy as np\n",
    "\n",
    "import wget, os\n",
    "import time\n",
    "import glob\n",
    "\n",
    "import matplotlib.pyplot as plt\n",
    "import seaborn as sns\n",
    "from pandas.plotting import register_matplotlib_converters\n",
    "register_matplotlib_converters()\n",
    "%matplotlib inline\n",
    "sns.set_style('whitegrid')"
   ]
  },
  {
   "cell_type": "markdown",
   "metadata": {},
   "source": [
    "---\n",
    "\n",
    "## Day-Ahead-Market DataFrame"
   ]
  },
  {
   "cell_type": "code",
   "execution_count": 2,
   "metadata": {},
   "outputs": [],
   "source": [
    "dam_orig_cols=['INTERVALSTARTTIME_GMT',\n",
    "               'OPR_DT',\n",
    "               'OPR_HR',\n",
    "               'NODE',\n",
    "               'MARKET_RUN_ID',\n",
    "               'LMP_TYPE',\n",
    "               'MW']\n",
    "\n",
    "dam_new_cols =['start_datetime',\n",
    "               'date',\n",
    "               'hr_index',\n",
    "               'node',\n",
    "               'market',\n",
    "               'lmp_type',\n",
    "               'dam_price_per_mwh']\n",
    "\n",
    "dam_rename_dict = {old: new for old, new in zip(dam_orig_cols, dam_new_cols)}"
   ]
  },
  {
   "cell_type": "code",
   "execution_count": 3,
   "metadata": {},
   "outputs": [],
   "source": [
    "caiso_dam_df = pd.DataFrame(columns=dam_new_cols)\n",
    "\n",
    "for file in glob.glob('../unzipped_caiso/unzipped_caiso_dam/*.csv'):\n",
    "    df = pd.read_csv(file, usecols=dam_orig_cols).rename(index=str,\n",
    "                                                         columns=dam_rename_dict)\n",
    "    df = df[df.lmp_type == 'LMP']\n",
    "    caiso_dam_df = caiso_dam_df.append(df, ignore_index=True)"
   ]
  },
  {
   "cell_type": "code",
   "execution_count": 4,
   "metadata": {},
   "outputs": [
    {
     "data": {
      "text/plain": [
       "(0, 7)"
      ]
     },
     "execution_count": 4,
     "metadata": {},
     "output_type": "execute_result"
    }
   ],
   "source": [
    "caiso_dam_df.shape"
   ]
  },
  {
   "cell_type": "code",
   "execution_count": 5,
   "metadata": {},
   "outputs": [
    {
     "data": {
      "text/html": [
       "<div>\n",
       "<style scoped>\n",
       "    .dataframe tbody tr th:only-of-type {\n",
       "        vertical-align: middle;\n",
       "    }\n",
       "\n",
       "    .dataframe tbody tr th {\n",
       "        vertical-align: top;\n",
       "    }\n",
       "\n",
       "    .dataframe thead th {\n",
       "        text-align: right;\n",
       "    }\n",
       "</style>\n",
       "<table border=\"1\" class=\"dataframe\">\n",
       "  <thead>\n",
       "    <tr style=\"text-align: right;\">\n",
       "      <th></th>\n",
       "      <th>date</th>\n",
       "      <th>hr_index</th>\n",
       "      <th>node</th>\n",
       "      <th>market</th>\n",
       "      <th>lmp_type</th>\n",
       "      <th>dam_price_per_mwh</th>\n",
       "    </tr>\n",
       "    <tr>\n",
       "      <th>start_datetime</th>\n",
       "      <th></th>\n",
       "      <th></th>\n",
       "      <th></th>\n",
       "      <th></th>\n",
       "      <th></th>\n",
       "      <th></th>\n",
       "    </tr>\n",
       "  </thead>\n",
       "  <tbody>\n",
       "  </tbody>\n",
       "</table>\n",
       "</div>"
      ],
      "text/plain": [
       "Empty DataFrame\n",
       "Columns: [date, hr_index, node, market, lmp_type, dam_price_per_mwh]\n",
       "Index: []"
      ]
     },
     "execution_count": 5,
     "metadata": {},
     "output_type": "execute_result"
    }
   ],
   "source": [
    "caiso_dam_df = caiso_dam_df.sort_values(by='start_datetime').reset_index(drop=True)\n",
    "\n",
    "caiso_dam_df['start_datetime'] = pd.to_datetime(caiso_dam_df['start_datetime'])\n",
    "\n",
    "caiso_dam_df.set_index('start_datetime', inplace=True)\n",
    "caiso_dam_df.sort_index(inplace=True)\n",
    "caiso_dam_df.head()"
   ]
  },
  {
   "cell_type": "code",
   "execution_count": 6,
   "metadata": {},
   "outputs": [
    {
     "name": "stdout",
     "output_type": "stream",
     "text": [
      "<class 'pandas.core.frame.DataFrame'>\n",
      "DatetimeIndex: 29149 entries, 2016-01-01 08:00:00+00:00 to 2019-05-01 06:00:00+00:00\n",
      "Data columns (total 6 columns):\n",
      "date                 29149 non-null object\n",
      "hr_index             29149 non-null object\n",
      "node                 29149 non-null object\n",
      "market               29149 non-null object\n",
      "lmp_type             29149 non-null object\n",
      "dam_price_per_mwh    29149 non-null float64\n",
      "dtypes: float64(1), object(5)\n",
      "memory usage: 1.6+ MB\n"
     ]
    }
   ],
   "source": [
    "caiso_dam_df.info()"
   ]
  },
  {
   "cell_type": "markdown",
   "metadata": {},
   "source": [
    "---\n",
    "\n",
    "## Hour-Ahead-Scheduling Process DataFrame\n",
    "(hour-ahead, 15-minute realtime market)"
   ]
  },
  {
   "cell_type": "code",
   "execution_count": 6,
   "metadata": {},
   "outputs": [],
   "source": [
    "hasp_orig_cols=['INTERVALSTARTTIME_GMT',\n",
    "                'OPR_DT',\n",
    "                'OPR_HR',\n",
    "                'NODE',\n",
    "                'MARKET_RUN_ID',\n",
    "                'LMP_TYPE',\n",
    "                'MW']\n",
    "\n",
    "hasp_new_cols =['start_datetime',\n",
    "                'date',\n",
    "                'hr_index',\n",
    "                'node',\n",
    "                'market',\n",
    "                'lmp_type',\n",
    "                'hasp_price_per_mwh']\n",
    "\n",
    "hasp_rename_dict = {old: new for old, new in zip(hasp_orig_cols, hasp_new_cols)}"
   ]
  },
  {
   "cell_type": "code",
   "execution_count": 7,
   "metadata": {},
   "outputs": [],
   "source": [
    "caiso_hasp_df = pd.DataFrame(columns=hasp_new_cols)\n",
    "\n",
    "for file in glob.glob('../unzipped_caiso/unzipped_caiso_hasp/*.csv'):\n",
    "    df = pd.read_csv(file, usecols=hasp_orig_cols).rename(index=str,\n",
    "                                                          columns=hasp_rename_dict)\n",
    "    df = df[df.lmp_type == 'LMP']\n",
    "    caiso_hasp_df = caiso_hasp_df.append(df, ignore_index=True)"
   ]
  },
  {
   "cell_type": "code",
   "execution_count": 8,
   "metadata": {},
   "outputs": [
    {
     "data": {
      "text/plain": [
       "(0, 7)"
      ]
     },
     "execution_count": 8,
     "metadata": {},
     "output_type": "execute_result"
    }
   ],
   "source": [
    "caiso_hasp_df.shape"
   ]
  },
  {
   "cell_type": "code",
   "execution_count": 9,
   "metadata": {},
   "outputs": [
    {
     "data": {
      "text/html": [
       "<div>\n",
       "<style scoped>\n",
       "    .dataframe tbody tr th:only-of-type {\n",
       "        vertical-align: middle;\n",
       "    }\n",
       "\n",
       "    .dataframe tbody tr th {\n",
       "        vertical-align: top;\n",
       "    }\n",
       "\n",
       "    .dataframe thead th {\n",
       "        text-align: right;\n",
       "    }\n",
       "</style>\n",
       "<table border=\"1\" class=\"dataframe\">\n",
       "  <thead>\n",
       "    <tr style=\"text-align: right;\">\n",
       "      <th></th>\n",
       "      <th>date</th>\n",
       "      <th>hr_index</th>\n",
       "      <th>node</th>\n",
       "      <th>market</th>\n",
       "      <th>lmp_type</th>\n",
       "      <th>hasp_price_per_mwh</th>\n",
       "    </tr>\n",
       "    <tr>\n",
       "      <th>start_datetime</th>\n",
       "      <th></th>\n",
       "      <th></th>\n",
       "      <th></th>\n",
       "      <th></th>\n",
       "      <th></th>\n",
       "      <th></th>\n",
       "    </tr>\n",
       "  </thead>\n",
       "  <tbody>\n",
       "  </tbody>\n",
       "</table>\n",
       "</div>"
      ],
      "text/plain": [
       "Empty DataFrame\n",
       "Columns: [date, hr_index, node, market, lmp_type, hasp_price_per_mwh]\n",
       "Index: []"
      ]
     },
     "execution_count": 9,
     "metadata": {},
     "output_type": "execute_result"
    }
   ],
   "source": [
    "caiso_hasp_df = caiso_hasp_df.sort_values(by='start_datetime').reset_index(drop=True)\n",
    "\n",
    "caiso_hasp_df['start_datetime'] = pd.to_datetime(caiso_hasp_df['start_datetime'])\n",
    "\n",
    "caiso_hasp_df.set_index('start_datetime', inplace=True)\n",
    "caiso_hasp_df.sort_index(inplace=True)\n",
    "caiso_hasp_df.head()"
   ]
  },
  {
   "cell_type": "code",
   "execution_count": 11,
   "metadata": {},
   "outputs": [],
   "source": [
    "caiso_hasp_df = caiso_hasp_df.resample('H').mean()"
   ]
  },
  {
   "cell_type": "code",
   "execution_count": 12,
   "metadata": {},
   "outputs": [
    {
     "data": {
      "text/html": [
       "<div>\n",
       "<style scoped>\n",
       "    .dataframe tbody tr th:only-of-type {\n",
       "        vertical-align: middle;\n",
       "    }\n",
       "\n",
       "    .dataframe tbody tr th {\n",
       "        vertical-align: top;\n",
       "    }\n",
       "\n",
       "    .dataframe thead th {\n",
       "        text-align: right;\n",
       "    }\n",
       "</style>\n",
       "<table border=\"1\" class=\"dataframe\">\n",
       "  <thead>\n",
       "    <tr style=\"text-align: right;\">\n",
       "      <th></th>\n",
       "      <th>hasp_price_per_mwh</th>\n",
       "    </tr>\n",
       "    <tr>\n",
       "      <th>start_datetime</th>\n",
       "      <th></th>\n",
       "    </tr>\n",
       "  </thead>\n",
       "  <tbody>\n",
       "    <tr>\n",
       "      <th>2016-01-01 08:00:00+00:00</th>\n",
       "      <td>24.737823</td>\n",
       "    </tr>\n",
       "    <tr>\n",
       "      <th>2016-01-01 09:00:00+00:00</th>\n",
       "      <td>25.030977</td>\n",
       "    </tr>\n",
       "    <tr>\n",
       "      <th>2016-01-01 10:00:00+00:00</th>\n",
       "      <td>24.563877</td>\n",
       "    </tr>\n",
       "    <tr>\n",
       "      <th>2016-01-01 11:00:00+00:00</th>\n",
       "      <td>24.775715</td>\n",
       "    </tr>\n",
       "    <tr>\n",
       "      <th>2016-01-01 12:00:00+00:00</th>\n",
       "      <td>24.923320</td>\n",
       "    </tr>\n",
       "  </tbody>\n",
       "</table>\n",
       "</div>"
      ],
      "text/plain": [
       "                           hasp_price_per_mwh\n",
       "start_datetime                               \n",
       "2016-01-01 08:00:00+00:00           24.737823\n",
       "2016-01-01 09:00:00+00:00           25.030977\n",
       "2016-01-01 10:00:00+00:00           24.563877\n",
       "2016-01-01 11:00:00+00:00           24.775715\n",
       "2016-01-01 12:00:00+00:00           24.923320"
      ]
     },
     "execution_count": 12,
     "metadata": {},
     "output_type": "execute_result"
    }
   ],
   "source": [
    "caiso_hasp_df.head()"
   ]
  },
  {
   "cell_type": "code",
   "execution_count": 13,
   "metadata": {},
   "outputs": [
    {
     "data": {
      "text/plain": [
       "(29183, 1)"
      ]
     },
     "execution_count": 13,
     "metadata": {},
     "output_type": "execute_result"
    }
   ],
   "source": [
    "caiso_hasp_df.shape"
   ]
  },
  {
   "cell_type": "markdown",
   "metadata": {},
   "source": [
    "---\n",
    "\n",
    "## RTM DataFrame\n",
    "(realtime spot prices, 5-minute realtime settlements only)"
   ]
  },
  {
   "cell_type": "code",
   "execution_count": 14,
   "metadata": {},
   "outputs": [],
   "source": [
    "rtm_orig_cols=['INTERVALSTARTTIME_GMT',\n",
    "                'OPR_DT',\n",
    "                'OPR_HR',\n",
    "                'NODE',\n",
    "                'MARKET_RUN_ID',\n",
    "                'LMP_TYPE',\n",
    "                'VALUE']\n",
    "\n",
    "rtm_new_cols =['start_datetime',\n",
    "                'date',\n",
    "                'hr_index',\n",
    "                'node',\n",
    "                'market',\n",
    "                'lmp_type',\n",
    "                'rtm_price_per_mwh']\n",
    "\n",
    "rtm_rename_dict = {old: new for old, new in zip(rtm_orig_cols, rtm_new_cols)}"
   ]
  },
  {
   "cell_type": "code",
   "execution_count": 15,
   "metadata": {},
   "outputs": [],
   "source": [
    "caiso_rtm_df = pd.DataFrame(columns=rtm_new_cols)\n",
    "\n",
    "for file in glob.glob('../unzipped_caiso/unzipped_caiso_rtm/*.csv'):\n",
    "    df = pd.read_csv(file, usecols=rtm_orig_cols).rename(index=str,\n",
    "                                                          columns=rtm_rename_dict)\n",
    "    df = df[df.lmp_type == 'LMP']\n",
    "    caiso_rtm_df = caiso_rtm_df.append(df, ignore_index=True)"
   ]
  },
  {
   "cell_type": "code",
   "execution_count": 16,
   "metadata": {},
   "outputs": [
    {
     "data": {
      "text/plain": [
       "(349728, 7)"
      ]
     },
     "execution_count": 16,
     "metadata": {},
     "output_type": "execute_result"
    }
   ],
   "source": [
    "caiso_rtm_df.shape"
   ]
  },
  {
   "cell_type": "code",
   "execution_count": 17,
   "metadata": {},
   "outputs": [
    {
     "data": {
      "text/html": [
       "<div>\n",
       "<style scoped>\n",
       "    .dataframe tbody tr th:only-of-type {\n",
       "        vertical-align: middle;\n",
       "    }\n",
       "\n",
       "    .dataframe tbody tr th {\n",
       "        vertical-align: top;\n",
       "    }\n",
       "\n",
       "    .dataframe thead th {\n",
       "        text-align: right;\n",
       "    }\n",
       "</style>\n",
       "<table border=\"1\" class=\"dataframe\">\n",
       "  <thead>\n",
       "    <tr style=\"text-align: right;\">\n",
       "      <th></th>\n",
       "      <th>date</th>\n",
       "      <th>hr_index</th>\n",
       "      <th>node</th>\n",
       "      <th>market</th>\n",
       "      <th>lmp_type</th>\n",
       "      <th>rtm_price_per_mwh</th>\n",
       "    </tr>\n",
       "    <tr>\n",
       "      <th>start_datetime</th>\n",
       "      <th></th>\n",
       "      <th></th>\n",
       "      <th></th>\n",
       "      <th></th>\n",
       "      <th></th>\n",
       "      <th></th>\n",
       "    </tr>\n",
       "  </thead>\n",
       "  <tbody>\n",
       "    <tr>\n",
       "      <th>2016-01-01 08:00:00+00:00</th>\n",
       "      <td>2016-01-01</td>\n",
       "      <td>1</td>\n",
       "      <td>BAYSHOR2_1_N001</td>\n",
       "      <td>RTM</td>\n",
       "      <td>LMP</td>\n",
       "      <td>25.53958</td>\n",
       "    </tr>\n",
       "    <tr>\n",
       "      <th>2016-01-01 08:05:00+00:00</th>\n",
       "      <td>2016-01-01</td>\n",
       "      <td>1</td>\n",
       "      <td>BAYSHOR2_1_N001</td>\n",
       "      <td>RTM</td>\n",
       "      <td>LMP</td>\n",
       "      <td>25.24638</td>\n",
       "    </tr>\n",
       "    <tr>\n",
       "      <th>2016-01-01 08:10:00+00:00</th>\n",
       "      <td>2016-01-01</td>\n",
       "      <td>1</td>\n",
       "      <td>BAYSHOR2_1_N001</td>\n",
       "      <td>RTM</td>\n",
       "      <td>LMP</td>\n",
       "      <td>25.54549</td>\n",
       "    </tr>\n",
       "    <tr>\n",
       "      <th>2016-01-01 08:15:00+00:00</th>\n",
       "      <td>2016-01-01</td>\n",
       "      <td>1</td>\n",
       "      <td>BAYSHOR2_1_N001</td>\n",
       "      <td>RTM</td>\n",
       "      <td>LMP</td>\n",
       "      <td>25.23638</td>\n",
       "    </tr>\n",
       "    <tr>\n",
       "      <th>2016-01-01 08:20:00+00:00</th>\n",
       "      <td>2016-01-01</td>\n",
       "      <td>1</td>\n",
       "      <td>BAYSHOR2_1_N001</td>\n",
       "      <td>RTM</td>\n",
       "      <td>LMP</td>\n",
       "      <td>25.23638</td>\n",
       "    </tr>\n",
       "  </tbody>\n",
       "</table>\n",
       "</div>"
      ],
      "text/plain": [
       "                                 date hr_index             node market  \\\n",
       "start_datetime                                                           \n",
       "2016-01-01 08:00:00+00:00  2016-01-01        1  BAYSHOR2_1_N001    RTM   \n",
       "2016-01-01 08:05:00+00:00  2016-01-01        1  BAYSHOR2_1_N001    RTM   \n",
       "2016-01-01 08:10:00+00:00  2016-01-01        1  BAYSHOR2_1_N001    RTM   \n",
       "2016-01-01 08:15:00+00:00  2016-01-01        1  BAYSHOR2_1_N001    RTM   \n",
       "2016-01-01 08:20:00+00:00  2016-01-01        1  BAYSHOR2_1_N001    RTM   \n",
       "\n",
       "                          lmp_type  rtm_price_per_mwh  \n",
       "start_datetime                                         \n",
       "2016-01-01 08:00:00+00:00      LMP           25.53958  \n",
       "2016-01-01 08:05:00+00:00      LMP           25.24638  \n",
       "2016-01-01 08:10:00+00:00      LMP           25.54549  \n",
       "2016-01-01 08:15:00+00:00      LMP           25.23638  \n",
       "2016-01-01 08:20:00+00:00      LMP           25.23638  "
      ]
     },
     "execution_count": 17,
     "metadata": {},
     "output_type": "execute_result"
    }
   ],
   "source": [
    "caiso_rtm_df = caiso_rtm_df.sort_values(by='start_datetime').reset_index(drop=True)\n",
    "\n",
    "caiso_rtm_df['start_datetime'] = pd.to_datetime(caiso_rtm_df['start_datetime'])\n",
    "\n",
    "caiso_rtm_df.set_index('start_datetime', inplace=True)\n",
    "caiso_rtm_df.sort_index(inplace=True)\n",
    "caiso_rtm_df.head()"
   ]
  },
  {
   "cell_type": "code",
   "execution_count": 18,
   "metadata": {},
   "outputs": [],
   "source": [
    "caiso_rtm_df = caiso_rtm_df.resample('H').mean()"
   ]
  },
  {
   "cell_type": "code",
   "execution_count": 19,
   "metadata": {},
   "outputs": [
    {
     "data": {
      "text/html": [
       "<div>\n",
       "<style scoped>\n",
       "    .dataframe tbody tr th:only-of-type {\n",
       "        vertical-align: middle;\n",
       "    }\n",
       "\n",
       "    .dataframe tbody tr th {\n",
       "        vertical-align: top;\n",
       "    }\n",
       "\n",
       "    .dataframe thead th {\n",
       "        text-align: right;\n",
       "    }\n",
       "</style>\n",
       "<table border=\"1\" class=\"dataframe\">\n",
       "  <thead>\n",
       "    <tr style=\"text-align: right;\">\n",
       "      <th></th>\n",
       "      <th>rtm_price_per_mwh</th>\n",
       "    </tr>\n",
       "    <tr>\n",
       "      <th>start_datetime</th>\n",
       "      <th></th>\n",
       "    </tr>\n",
       "  </thead>\n",
       "  <tbody>\n",
       "    <tr>\n",
       "      <th>2016-01-01 08:00:00+00:00</th>\n",
       "      <td>25.219949</td>\n",
       "    </tr>\n",
       "    <tr>\n",
       "      <th>2016-01-01 09:00:00+00:00</th>\n",
       "      <td>24.903873</td>\n",
       "    </tr>\n",
       "    <tr>\n",
       "      <th>2016-01-01 10:00:00+00:00</th>\n",
       "      <td>24.630057</td>\n",
       "    </tr>\n",
       "    <tr>\n",
       "      <th>2016-01-01 11:00:00+00:00</th>\n",
       "      <td>24.689828</td>\n",
       "    </tr>\n",
       "    <tr>\n",
       "      <th>2016-01-01 12:00:00+00:00</th>\n",
       "      <td>23.505206</td>\n",
       "    </tr>\n",
       "  </tbody>\n",
       "</table>\n",
       "</div>"
      ],
      "text/plain": [
       "                           rtm_price_per_mwh\n",
       "start_datetime                              \n",
       "2016-01-01 08:00:00+00:00          25.219949\n",
       "2016-01-01 09:00:00+00:00          24.903873\n",
       "2016-01-01 10:00:00+00:00          24.630057\n",
       "2016-01-01 11:00:00+00:00          24.689828\n",
       "2016-01-01 12:00:00+00:00          23.505206"
      ]
     },
     "execution_count": 19,
     "metadata": {},
     "output_type": "execute_result"
    }
   ],
   "source": [
    "caiso_rtm_df.head()"
   ]
  },
  {
   "cell_type": "code",
   "execution_count": 20,
   "metadata": {},
   "outputs": [
    {
     "data": {
      "text/plain": [
       "(29183, 1)"
      ]
     },
     "execution_count": 20,
     "metadata": {},
     "output_type": "execute_result"
    }
   ],
   "source": [
    "caiso_rtm_df.shape"
   ]
  },
  {
   "cell_type": "markdown",
   "metadata": {},
   "source": [
    "---\n",
    "\n",
    "## Join DAM + HASP + RTM LMP's Into a Single DataFrame"
   ]
  },
  {
   "cell_type": "code",
   "execution_count": 21,
   "metadata": {
    "scrolled": true
   },
   "outputs": [
    {
     "data": {
      "text/plain": [
       "(29149, 4)"
      ]
     },
     "execution_count": 21,
     "metadata": {},
     "output_type": "execute_result"
    }
   ],
   "source": [
    "elec_prices_hrly = caiso_dam_df.drop(columns=['market', 'lmp_type'])\n",
    "elec_prices_hrly.shape"
   ]
  },
  {
   "cell_type": "code",
   "execution_count": 22,
   "metadata": {},
   "outputs": [
    {
     "data": {
      "text/html": [
       "<div>\n",
       "<style scoped>\n",
       "    .dataframe tbody tr th:only-of-type {\n",
       "        vertical-align: middle;\n",
       "    }\n",
       "\n",
       "    .dataframe tbody tr th {\n",
       "        vertical-align: top;\n",
       "    }\n",
       "\n",
       "    .dataframe thead th {\n",
       "        text-align: right;\n",
       "    }\n",
       "</style>\n",
       "<table border=\"1\" class=\"dataframe\">\n",
       "  <thead>\n",
       "    <tr style=\"text-align: right;\">\n",
       "      <th></th>\n",
       "      <th>date</th>\n",
       "      <th>hr_index</th>\n",
       "      <th>node</th>\n",
       "      <th>dam_price_per_mwh</th>\n",
       "    </tr>\n",
       "    <tr>\n",
       "      <th>start_datetime</th>\n",
       "      <th></th>\n",
       "      <th></th>\n",
       "      <th></th>\n",
       "      <th></th>\n",
       "    </tr>\n",
       "  </thead>\n",
       "  <tbody>\n",
       "    <tr>\n",
       "      <th>2016-01-01 08:00:00+00:00</th>\n",
       "      <td>2016-01-01</td>\n",
       "      <td>1</td>\n",
       "      <td>BAYSHOR2_1_N001</td>\n",
       "      <td>31.69690</td>\n",
       "    </tr>\n",
       "    <tr>\n",
       "      <th>2016-01-01 09:00:00+00:00</th>\n",
       "      <td>2016-01-01</td>\n",
       "      <td>2</td>\n",
       "      <td>BAYSHOR2_1_N001</td>\n",
       "      <td>30.38613</td>\n",
       "    </tr>\n",
       "    <tr>\n",
       "      <th>2016-01-01 10:00:00+00:00</th>\n",
       "      <td>2016-01-01</td>\n",
       "      <td>3</td>\n",
       "      <td>BAYSHOR2_1_N001</td>\n",
       "      <td>30.29141</td>\n",
       "    </tr>\n",
       "    <tr>\n",
       "      <th>2016-01-01 11:00:00+00:00</th>\n",
       "      <td>2016-01-01</td>\n",
       "      <td>4</td>\n",
       "      <td>BAYSHOR2_1_N001</td>\n",
       "      <td>28.45127</td>\n",
       "    </tr>\n",
       "    <tr>\n",
       "      <th>2016-01-01 12:00:00+00:00</th>\n",
       "      <td>2016-01-01</td>\n",
       "      <td>5</td>\n",
       "      <td>BAYSHOR2_1_N001</td>\n",
       "      <td>28.66504</td>\n",
       "    </tr>\n",
       "  </tbody>\n",
       "</table>\n",
       "</div>"
      ],
      "text/plain": [
       "                                 date hr_index             node  \\\n",
       "start_datetime                                                    \n",
       "2016-01-01 08:00:00+00:00  2016-01-01        1  BAYSHOR2_1_N001   \n",
       "2016-01-01 09:00:00+00:00  2016-01-01        2  BAYSHOR2_1_N001   \n",
       "2016-01-01 10:00:00+00:00  2016-01-01        3  BAYSHOR2_1_N001   \n",
       "2016-01-01 11:00:00+00:00  2016-01-01        4  BAYSHOR2_1_N001   \n",
       "2016-01-01 12:00:00+00:00  2016-01-01        5  BAYSHOR2_1_N001   \n",
       "\n",
       "                           dam_price_per_mwh  \n",
       "start_datetime                                \n",
       "2016-01-01 08:00:00+00:00           31.69690  \n",
       "2016-01-01 09:00:00+00:00           30.38613  \n",
       "2016-01-01 10:00:00+00:00           30.29141  \n",
       "2016-01-01 11:00:00+00:00           28.45127  \n",
       "2016-01-01 12:00:00+00:00           28.66504  "
      ]
     },
     "execution_count": 22,
     "metadata": {},
     "output_type": "execute_result"
    }
   ],
   "source": [
    "elec_prices_hrly.head()"
   ]
  },
  {
   "cell_type": "code",
   "execution_count": 23,
   "metadata": {},
   "outputs": [
    {
     "data": {
      "text/plain": [
       "(29183, 5)"
      ]
     },
     "execution_count": 23,
     "metadata": {},
     "output_type": "execute_result"
    }
   ],
   "source": [
    "elec_prices_hrly = elec_prices_hrly.merge(caiso_hasp_df[['hasp_price_per_mwh']],\n",
    "                              how='outer',\n",
    "                              left_index = True,\n",
    "                              right_index = True)\n",
    "elec_prices_hrly.shape"
   ]
  },
  {
   "cell_type": "code",
   "execution_count": 24,
   "metadata": {},
   "outputs": [
    {
     "data": {
      "text/html": [
       "<div>\n",
       "<style scoped>\n",
       "    .dataframe tbody tr th:only-of-type {\n",
       "        vertical-align: middle;\n",
       "    }\n",
       "\n",
       "    .dataframe tbody tr th {\n",
       "        vertical-align: top;\n",
       "    }\n",
       "\n",
       "    .dataframe thead th {\n",
       "        text-align: right;\n",
       "    }\n",
       "</style>\n",
       "<table border=\"1\" class=\"dataframe\">\n",
       "  <thead>\n",
       "    <tr style=\"text-align: right;\">\n",
       "      <th></th>\n",
       "      <th>date</th>\n",
       "      <th>hr_index</th>\n",
       "      <th>node</th>\n",
       "      <th>dam_price_per_mwh</th>\n",
       "      <th>hasp_price_per_mwh</th>\n",
       "    </tr>\n",
       "    <tr>\n",
       "      <th>start_datetime</th>\n",
       "      <th></th>\n",
       "      <th></th>\n",
       "      <th></th>\n",
       "      <th></th>\n",
       "      <th></th>\n",
       "    </tr>\n",
       "  </thead>\n",
       "  <tbody>\n",
       "    <tr>\n",
       "      <th>2016-01-01 08:00:00+00:00</th>\n",
       "      <td>2016-01-01</td>\n",
       "      <td>1</td>\n",
       "      <td>BAYSHOR2_1_N001</td>\n",
       "      <td>31.69690</td>\n",
       "      <td>24.737823</td>\n",
       "    </tr>\n",
       "    <tr>\n",
       "      <th>2016-01-01 09:00:00+00:00</th>\n",
       "      <td>2016-01-01</td>\n",
       "      <td>2</td>\n",
       "      <td>BAYSHOR2_1_N001</td>\n",
       "      <td>30.38613</td>\n",
       "      <td>25.030977</td>\n",
       "    </tr>\n",
       "    <tr>\n",
       "      <th>2016-01-01 10:00:00+00:00</th>\n",
       "      <td>2016-01-01</td>\n",
       "      <td>3</td>\n",
       "      <td>BAYSHOR2_1_N001</td>\n",
       "      <td>30.29141</td>\n",
       "      <td>24.563877</td>\n",
       "    </tr>\n",
       "    <tr>\n",
       "      <th>2016-01-01 11:00:00+00:00</th>\n",
       "      <td>2016-01-01</td>\n",
       "      <td>4</td>\n",
       "      <td>BAYSHOR2_1_N001</td>\n",
       "      <td>28.45127</td>\n",
       "      <td>24.775715</td>\n",
       "    </tr>\n",
       "    <tr>\n",
       "      <th>2016-01-01 12:00:00+00:00</th>\n",
       "      <td>2016-01-01</td>\n",
       "      <td>5</td>\n",
       "      <td>BAYSHOR2_1_N001</td>\n",
       "      <td>28.66504</td>\n",
       "      <td>24.923320</td>\n",
       "    </tr>\n",
       "    <tr>\n",
       "      <th>2016-01-01 13:00:00+00:00</th>\n",
       "      <td>2016-01-01</td>\n",
       "      <td>6</td>\n",
       "      <td>BAYSHOR2_1_N001</td>\n",
       "      <td>29.84836</td>\n",
       "      <td>25.353155</td>\n",
       "    </tr>\n",
       "    <tr>\n",
       "      <th>2016-01-01 14:00:00+00:00</th>\n",
       "      <td>2016-01-01</td>\n",
       "      <td>7</td>\n",
       "      <td>BAYSHOR2_1_N001</td>\n",
       "      <td>31.32447</td>\n",
       "      <td>24.827470</td>\n",
       "    </tr>\n",
       "    <tr>\n",
       "      <th>2016-01-01 15:00:00+00:00</th>\n",
       "      <td>2016-01-01</td>\n",
       "      <td>8</td>\n",
       "      <td>BAYSHOR2_1_N001</td>\n",
       "      <td>30.84077</td>\n",
       "      <td>24.542012</td>\n",
       "    </tr>\n",
       "    <tr>\n",
       "      <th>2016-01-01 16:00:00+00:00</th>\n",
       "      <td>2016-01-01</td>\n",
       "      <td>9</td>\n",
       "      <td>BAYSHOR2_1_N001</td>\n",
       "      <td>28.37561</td>\n",
       "      <td>23.686425</td>\n",
       "    </tr>\n",
       "    <tr>\n",
       "      <th>2016-01-01 17:00:00+00:00</th>\n",
       "      <td>2016-01-01</td>\n",
       "      <td>10</td>\n",
       "      <td>BAYSHOR2_1_N001</td>\n",
       "      <td>26.39217</td>\n",
       "      <td>24.314177</td>\n",
       "    </tr>\n",
       "    <tr>\n",
       "      <th>2016-01-01 18:00:00+00:00</th>\n",
       "      <td>2016-01-01</td>\n",
       "      <td>11</td>\n",
       "      <td>BAYSHOR2_1_N001</td>\n",
       "      <td>24.36446</td>\n",
       "      <td>23.340297</td>\n",
       "    </tr>\n",
       "    <tr>\n",
       "      <th>2016-01-01 19:00:00+00:00</th>\n",
       "      <td>2016-01-01</td>\n",
       "      <td>12</td>\n",
       "      <td>BAYSHOR2_1_N001</td>\n",
       "      <td>22.20249</td>\n",
       "      <td>21.817077</td>\n",
       "    </tr>\n",
       "    <tr>\n",
       "      <th>2016-01-01 20:00:00+00:00</th>\n",
       "      <td>2016-01-01</td>\n",
       "      <td>13</td>\n",
       "      <td>BAYSHOR2_1_N001</td>\n",
       "      <td>20.90159</td>\n",
       "      <td>18.589790</td>\n",
       "    </tr>\n",
       "    <tr>\n",
       "      <th>2016-01-01 21:00:00+00:00</th>\n",
       "      <td>2016-01-01</td>\n",
       "      <td>14</td>\n",
       "      <td>BAYSHOR2_1_N001</td>\n",
       "      <td>20.96010</td>\n",
       "      <td>17.913750</td>\n",
       "    </tr>\n",
       "    <tr>\n",
       "      <th>2016-01-01 22:00:00+00:00</th>\n",
       "      <td>2016-01-01</td>\n",
       "      <td>15</td>\n",
       "      <td>BAYSHOR2_1_N001</td>\n",
       "      <td>21.63636</td>\n",
       "      <td>18.000085</td>\n",
       "    </tr>\n",
       "  </tbody>\n",
       "</table>\n",
       "</div>"
      ],
      "text/plain": [
       "                                 date hr_index             node  \\\n",
       "start_datetime                                                    \n",
       "2016-01-01 08:00:00+00:00  2016-01-01        1  BAYSHOR2_1_N001   \n",
       "2016-01-01 09:00:00+00:00  2016-01-01        2  BAYSHOR2_1_N001   \n",
       "2016-01-01 10:00:00+00:00  2016-01-01        3  BAYSHOR2_1_N001   \n",
       "2016-01-01 11:00:00+00:00  2016-01-01        4  BAYSHOR2_1_N001   \n",
       "2016-01-01 12:00:00+00:00  2016-01-01        5  BAYSHOR2_1_N001   \n",
       "2016-01-01 13:00:00+00:00  2016-01-01        6  BAYSHOR2_1_N001   \n",
       "2016-01-01 14:00:00+00:00  2016-01-01        7  BAYSHOR2_1_N001   \n",
       "2016-01-01 15:00:00+00:00  2016-01-01        8  BAYSHOR2_1_N001   \n",
       "2016-01-01 16:00:00+00:00  2016-01-01        9  BAYSHOR2_1_N001   \n",
       "2016-01-01 17:00:00+00:00  2016-01-01       10  BAYSHOR2_1_N001   \n",
       "2016-01-01 18:00:00+00:00  2016-01-01       11  BAYSHOR2_1_N001   \n",
       "2016-01-01 19:00:00+00:00  2016-01-01       12  BAYSHOR2_1_N001   \n",
       "2016-01-01 20:00:00+00:00  2016-01-01       13  BAYSHOR2_1_N001   \n",
       "2016-01-01 21:00:00+00:00  2016-01-01       14  BAYSHOR2_1_N001   \n",
       "2016-01-01 22:00:00+00:00  2016-01-01       15  BAYSHOR2_1_N001   \n",
       "\n",
       "                           dam_price_per_mwh  hasp_price_per_mwh  \n",
       "start_datetime                                                    \n",
       "2016-01-01 08:00:00+00:00           31.69690           24.737823  \n",
       "2016-01-01 09:00:00+00:00           30.38613           25.030977  \n",
       "2016-01-01 10:00:00+00:00           30.29141           24.563877  \n",
       "2016-01-01 11:00:00+00:00           28.45127           24.775715  \n",
       "2016-01-01 12:00:00+00:00           28.66504           24.923320  \n",
       "2016-01-01 13:00:00+00:00           29.84836           25.353155  \n",
       "2016-01-01 14:00:00+00:00           31.32447           24.827470  \n",
       "2016-01-01 15:00:00+00:00           30.84077           24.542012  \n",
       "2016-01-01 16:00:00+00:00           28.37561           23.686425  \n",
       "2016-01-01 17:00:00+00:00           26.39217           24.314177  \n",
       "2016-01-01 18:00:00+00:00           24.36446           23.340297  \n",
       "2016-01-01 19:00:00+00:00           22.20249           21.817077  \n",
       "2016-01-01 20:00:00+00:00           20.90159           18.589790  \n",
       "2016-01-01 21:00:00+00:00           20.96010           17.913750  \n",
       "2016-01-01 22:00:00+00:00           21.63636           18.000085  "
      ]
     },
     "execution_count": 24,
     "metadata": {},
     "output_type": "execute_result"
    }
   ],
   "source": [
    "elec_prices_hrly.head(15)"
   ]
  },
  {
   "cell_type": "code",
   "execution_count": 25,
   "metadata": {},
   "outputs": [
    {
     "data": {
      "text/plain": [
       "(29183, 6)"
      ]
     },
     "execution_count": 25,
     "metadata": {},
     "output_type": "execute_result"
    }
   ],
   "source": [
    "elec_prices_hrly = elec_prices_hrly.merge(caiso_rtm_df[['rtm_price_per_mwh']],\n",
    "                              how='outer',\n",
    "                              left_index = True,\n",
    "                              right_index = True)\n",
    "elec_prices_hrly.shape"
   ]
  },
  {
   "cell_type": "code",
   "execution_count": 26,
   "metadata": {},
   "outputs": [
    {
     "data": {
      "text/html": [
       "<div>\n",
       "<style scoped>\n",
       "    .dataframe tbody tr th:only-of-type {\n",
       "        vertical-align: middle;\n",
       "    }\n",
       "\n",
       "    .dataframe tbody tr th {\n",
       "        vertical-align: top;\n",
       "    }\n",
       "\n",
       "    .dataframe thead th {\n",
       "        text-align: right;\n",
       "    }\n",
       "</style>\n",
       "<table border=\"1\" class=\"dataframe\">\n",
       "  <thead>\n",
       "    <tr style=\"text-align: right;\">\n",
       "      <th></th>\n",
       "      <th>date</th>\n",
       "      <th>hr_index</th>\n",
       "      <th>node</th>\n",
       "      <th>dam_price_per_mwh</th>\n",
       "      <th>hasp_price_per_mwh</th>\n",
       "      <th>rtm_price_per_mwh</th>\n",
       "    </tr>\n",
       "    <tr>\n",
       "      <th>start_datetime</th>\n",
       "      <th></th>\n",
       "      <th></th>\n",
       "      <th></th>\n",
       "      <th></th>\n",
       "      <th></th>\n",
       "      <th></th>\n",
       "    </tr>\n",
       "  </thead>\n",
       "  <tbody>\n",
       "    <tr>\n",
       "      <th>2016-01-01 08:00:00+00:00</th>\n",
       "      <td>2016-01-01</td>\n",
       "      <td>1</td>\n",
       "      <td>BAYSHOR2_1_N001</td>\n",
       "      <td>31.69690</td>\n",
       "      <td>24.737823</td>\n",
       "      <td>25.219949</td>\n",
       "    </tr>\n",
       "    <tr>\n",
       "      <th>2016-01-01 09:00:00+00:00</th>\n",
       "      <td>2016-01-01</td>\n",
       "      <td>2</td>\n",
       "      <td>BAYSHOR2_1_N001</td>\n",
       "      <td>30.38613</td>\n",
       "      <td>25.030977</td>\n",
       "      <td>24.903873</td>\n",
       "    </tr>\n",
       "    <tr>\n",
       "      <th>2016-01-01 10:00:00+00:00</th>\n",
       "      <td>2016-01-01</td>\n",
       "      <td>3</td>\n",
       "      <td>BAYSHOR2_1_N001</td>\n",
       "      <td>30.29141</td>\n",
       "      <td>24.563877</td>\n",
       "      <td>24.630057</td>\n",
       "    </tr>\n",
       "    <tr>\n",
       "      <th>2016-01-01 11:00:00+00:00</th>\n",
       "      <td>2016-01-01</td>\n",
       "      <td>4</td>\n",
       "      <td>BAYSHOR2_1_N001</td>\n",
       "      <td>28.45127</td>\n",
       "      <td>24.775715</td>\n",
       "      <td>24.689828</td>\n",
       "    </tr>\n",
       "    <tr>\n",
       "      <th>2016-01-01 12:00:00+00:00</th>\n",
       "      <td>2016-01-01</td>\n",
       "      <td>5</td>\n",
       "      <td>BAYSHOR2_1_N001</td>\n",
       "      <td>28.66504</td>\n",
       "      <td>24.923320</td>\n",
       "      <td>23.505206</td>\n",
       "    </tr>\n",
       "  </tbody>\n",
       "</table>\n",
       "</div>"
      ],
      "text/plain": [
       "                                 date hr_index             node  \\\n",
       "start_datetime                                                    \n",
       "2016-01-01 08:00:00+00:00  2016-01-01        1  BAYSHOR2_1_N001   \n",
       "2016-01-01 09:00:00+00:00  2016-01-01        2  BAYSHOR2_1_N001   \n",
       "2016-01-01 10:00:00+00:00  2016-01-01        3  BAYSHOR2_1_N001   \n",
       "2016-01-01 11:00:00+00:00  2016-01-01        4  BAYSHOR2_1_N001   \n",
       "2016-01-01 12:00:00+00:00  2016-01-01        5  BAYSHOR2_1_N001   \n",
       "\n",
       "                           dam_price_per_mwh  hasp_price_per_mwh  \\\n",
       "start_datetime                                                     \n",
       "2016-01-01 08:00:00+00:00           31.69690           24.737823   \n",
       "2016-01-01 09:00:00+00:00           30.38613           25.030977   \n",
       "2016-01-01 10:00:00+00:00           30.29141           24.563877   \n",
       "2016-01-01 11:00:00+00:00           28.45127           24.775715   \n",
       "2016-01-01 12:00:00+00:00           28.66504           24.923320   \n",
       "\n",
       "                           rtm_price_per_mwh  \n",
       "start_datetime                                \n",
       "2016-01-01 08:00:00+00:00          25.219949  \n",
       "2016-01-01 09:00:00+00:00          24.903873  \n",
       "2016-01-01 10:00:00+00:00          24.630057  \n",
       "2016-01-01 11:00:00+00:00          24.689828  \n",
       "2016-01-01 12:00:00+00:00          23.505206  "
      ]
     },
     "execution_count": 26,
     "metadata": {},
     "output_type": "execute_result"
    }
   ],
   "source": [
    "elec_prices_hrly.head()"
   ]
  },
  {
   "cell_type": "code",
   "execution_count": 27,
   "metadata": {},
   "outputs": [
    {
     "data": {
      "text/plain": [
       "(29183, 6)"
      ]
     },
     "execution_count": 27,
     "metadata": {},
     "output_type": "execute_result"
    }
   ],
   "source": [
    "elec_prices_hrly.shape"
   ]
  },
  {
   "cell_type": "code",
   "execution_count": 28,
   "metadata": {},
   "outputs": [
    {
     "data": {
      "text/plain": [
       "date                   34\n",
       "hr_index               34\n",
       "node                   34\n",
       "dam_price_per_mwh      34\n",
       "hasp_price_per_mwh    115\n",
       "rtm_price_per_mwh      39\n",
       "dtype: int64"
      ]
     },
     "execution_count": 28,
     "metadata": {},
     "output_type": "execute_result"
    }
   ],
   "source": [
    "elec_prices_hrly.isna().sum()"
   ]
  },
  {
   "cell_type": "code",
   "execution_count": 29,
   "metadata": {},
   "outputs": [],
   "source": [
    "elec_prices_hrly = elec_prices_hrly[elec_prices_hrly.hasp_price_per_mwh.notna()]"
   ]
  },
  {
   "cell_type": "code",
   "execution_count": 30,
   "metadata": {},
   "outputs": [
    {
     "data": {
      "text/plain": [
       "date                  0\n",
       "hr_index              0\n",
       "node                  0\n",
       "dam_price_per_mwh     0\n",
       "hasp_price_per_mwh    0\n",
       "rtm_price_per_mwh     5\n",
       "dtype: int64"
      ]
     },
     "execution_count": 30,
     "metadata": {},
     "output_type": "execute_result"
    }
   ],
   "source": [
    "elec_prices_hrly.isna().sum()"
   ]
  },
  {
   "cell_type": "code",
   "execution_count": 31,
   "metadata": {},
   "outputs": [
    {
     "data": {
      "text/html": [
       "<div>\n",
       "<style scoped>\n",
       "    .dataframe tbody tr th:only-of-type {\n",
       "        vertical-align: middle;\n",
       "    }\n",
       "\n",
       "    .dataframe tbody tr th {\n",
       "        vertical-align: top;\n",
       "    }\n",
       "\n",
       "    .dataframe thead th {\n",
       "        text-align: right;\n",
       "    }\n",
       "</style>\n",
       "<table border=\"1\" class=\"dataframe\">\n",
       "  <thead>\n",
       "    <tr style=\"text-align: right;\">\n",
       "      <th></th>\n",
       "      <th>date</th>\n",
       "      <th>hr_index</th>\n",
       "      <th>node</th>\n",
       "      <th>dam_price_per_mwh</th>\n",
       "      <th>hasp_price_per_mwh</th>\n",
       "      <th>rtm_price_per_mwh</th>\n",
       "    </tr>\n",
       "    <tr>\n",
       "      <th>start_datetime</th>\n",
       "      <th></th>\n",
       "      <th></th>\n",
       "      <th></th>\n",
       "      <th></th>\n",
       "      <th></th>\n",
       "      <th></th>\n",
       "    </tr>\n",
       "  </thead>\n",
       "  <tbody>\n",
       "    <tr>\n",
       "      <th>2016-02-01 07:00:00+00:00</th>\n",
       "      <td>2016-01-31</td>\n",
       "      <td>24</td>\n",
       "      <td>BAYSHOR2_1_N001</td>\n",
       "      <td>22.61298</td>\n",
       "      <td>26.072322</td>\n",
       "      <td>NaN</td>\n",
       "    </tr>\n",
       "    <tr>\n",
       "      <th>2016-03-01 07:00:00+00:00</th>\n",
       "      <td>2016-02-29</td>\n",
       "      <td>24</td>\n",
       "      <td>BAYSHOR2_1_N001</td>\n",
       "      <td>21.89684</td>\n",
       "      <td>18.440703</td>\n",
       "      <td>NaN</td>\n",
       "    </tr>\n",
       "    <tr>\n",
       "      <th>2016-04-01 07:00:00+00:00</th>\n",
       "      <td>2016-04-01</td>\n",
       "      <td>1</td>\n",
       "      <td>BAYSHOR2_1_N001</td>\n",
       "      <td>18.33026</td>\n",
       "      <td>14.306255</td>\n",
       "      <td>NaN</td>\n",
       "    </tr>\n",
       "    <tr>\n",
       "      <th>2016-05-01 07:00:00+00:00</th>\n",
       "      <td>2016-05-01</td>\n",
       "      <td>1</td>\n",
       "      <td>BAYSHOR2_1_N001</td>\n",
       "      <td>25.80279</td>\n",
       "      <td>27.382132</td>\n",
       "      <td>NaN</td>\n",
       "    </tr>\n",
       "    <tr>\n",
       "      <th>2016-07-01 07:00:00+00:00</th>\n",
       "      <td>2016-07-01</td>\n",
       "      <td>1</td>\n",
       "      <td>BAYSHOR2_1_N001</td>\n",
       "      <td>23.42191</td>\n",
       "      <td>29.992988</td>\n",
       "      <td>NaN</td>\n",
       "    </tr>\n",
       "  </tbody>\n",
       "</table>\n",
       "</div>"
      ],
      "text/plain": [
       "                                 date hr_index             node  \\\n",
       "start_datetime                                                    \n",
       "2016-02-01 07:00:00+00:00  2016-01-31       24  BAYSHOR2_1_N001   \n",
       "2016-03-01 07:00:00+00:00  2016-02-29       24  BAYSHOR2_1_N001   \n",
       "2016-04-01 07:00:00+00:00  2016-04-01        1  BAYSHOR2_1_N001   \n",
       "2016-05-01 07:00:00+00:00  2016-05-01        1  BAYSHOR2_1_N001   \n",
       "2016-07-01 07:00:00+00:00  2016-07-01        1  BAYSHOR2_1_N001   \n",
       "\n",
       "                           dam_price_per_mwh  hasp_price_per_mwh  \\\n",
       "start_datetime                                                     \n",
       "2016-02-01 07:00:00+00:00           22.61298           26.072322   \n",
       "2016-03-01 07:00:00+00:00           21.89684           18.440703   \n",
       "2016-04-01 07:00:00+00:00           18.33026           14.306255   \n",
       "2016-05-01 07:00:00+00:00           25.80279           27.382132   \n",
       "2016-07-01 07:00:00+00:00           23.42191           29.992988   \n",
       "\n",
       "                           rtm_price_per_mwh  \n",
       "start_datetime                                \n",
       "2016-02-01 07:00:00+00:00                NaN  \n",
       "2016-03-01 07:00:00+00:00                NaN  \n",
       "2016-04-01 07:00:00+00:00                NaN  \n",
       "2016-05-01 07:00:00+00:00                NaN  \n",
       "2016-07-01 07:00:00+00:00                NaN  "
      ]
     },
     "execution_count": 31,
     "metadata": {},
     "output_type": "execute_result"
    }
   ],
   "source": [
    "elec_prices_hrly[elec_prices_hrly.rtm_price_per_mwh.isna()]"
   ]
  },
  {
   "cell_type": "code",
   "execution_count": 32,
   "metadata": {},
   "outputs": [],
   "source": [
    "elec_prices_hrly.rtm_price_per_mwh.fillna(method='ffill', inplace=True)"
   ]
  },
  {
   "cell_type": "code",
   "execution_count": 33,
   "metadata": {},
   "outputs": [
    {
     "data": {
      "text/plain": [
       "0"
      ]
     },
     "execution_count": 33,
     "metadata": {},
     "output_type": "execute_result"
    }
   ],
   "source": [
    "elec_prices_hrly.isna().sum().sum()"
   ]
  },
  {
   "cell_type": "code",
   "execution_count": 36,
   "metadata": {},
   "outputs": [],
   "source": [
    "# elec_prices_hrly.to_csv('../data/elec_prices_hrly.csv')"
   ]
  },
  {
   "cell_type": "code",
   "execution_count": 37,
   "metadata": {},
   "outputs": [
    {
     "data": {
      "text/plain": [
       "''"
      ]
     },
     "execution_count": 37,
     "metadata": {},
     "output_type": "execute_result"
    },
    {
     "data": {
      "image/png": "[encoded data removed]",
      "text/plain": [
       "<Figure size 1080x648 with 1 Axes>"
      ]
     },
     "metadata": {
      "needs_background": "light"
     },
     "output_type": "display_data"
    }
   ],
   "source": [
    "plt.figure(figsize=(15,9))\n",
    "plt.title('CA Electricty Prices (hrly):  Realtime vs. Hour-ahead vs. Day-ahead', fontsize=18)\n",
    "\n",
    "plt.plot(elec_prices_hrly.index,\n",
    "         elec_prices_hrly.rtm_price_per_mwh,\n",
    "         label = 'RTM', alpha=0.7)\n",
    "\n",
    "plt.plot(elec_prices_hrly.index,\n",
    "         elec_prices_hrly.hasp_price_per_mwh,\n",
    "         label= 'HASP', alpha=0.9)\n",
    "\n",
    "plt.plot(elec_prices_hrly.index,\n",
    "         elec_prices_hrly.dam_price_per_mwh,\n",
    "         label = 'DAM', alpha=0.5)\n",
    "\n",
    "plt.ylabel('Prices in $/MWh', fontsize=18)\n",
    "plt.legend()\n",
    "# plt.savefig('../images/elec_prices_hrly.jpg', bbox_inches='tight')\n",
    ";"
   ]
  },
  {
   "cell_type": "code",
   "execution_count": null,
   "metadata": {},
   "outputs": [],
   "source": []
  }
 ],
 "metadata": {
  "kernelspec": {
   "display_name": "Python 3",
   "language": "python",
   "name": "python3"
  },
  "language_info": {
   "codemirror_mode": {
    "name": "ipython",
    "version": 3
   },
   "file_extension": ".py",
   "mimetype": "text/x-python",
   "name": "python",
   "nbconvert_exporter": "python",
   "pygments_lexer": "ipython3",
   "version": "3.8.8"
  },
  "toc": {
   "base_numbering": 1,
   "nav_menu": {},
   "number_sections": true,
   "sideBar": true,
   "skip_h1_title": true,
   "title_cell": "Table of Contents",
   "title_sidebar": "Contents",
   "toc_cell": true,
   "toc_position": {
    "height": "calc(100% - 180px)",
    "left": "10px",
    "top": "150px",
    "width": "280.641px"
   },
   "toc_section_display": true,
   "toc_window_display": true
  },
  "varInspector": {
   "cols": {
    "lenName": 16,
    "lenType": 16,
    "lenVar": 40
   },
   "kernels_config": {
    "python": {
     "delete_cmd_postfix": "",
     "delete_cmd_prefix": "del ",
     "library": "var_list.py",
     "varRefreshCmd": "print(var_dic_list())"
    },
    "r": {
     "delete_cmd_postfix": ") ",
     "delete_cmd_prefix": "rm(",
     "library": "var_list.r",
     "varRefreshCmd": "cat(var_dic_list()) "
    }
   },
   "types_to_exclude": [
    "module",
    "function",
    "builtin_function_or_method",
    "instance",
    "_Feature"
   ],
   "window_display": false
  }
 },
 "nbformat": 4,
 "nbformat_minor": 2
}
