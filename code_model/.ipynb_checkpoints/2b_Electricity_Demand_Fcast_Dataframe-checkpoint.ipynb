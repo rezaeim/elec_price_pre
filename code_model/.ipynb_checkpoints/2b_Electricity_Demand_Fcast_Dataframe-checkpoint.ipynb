{
 "cells": [
  {
   "cell_type": "markdown",
   "metadata": {},
   "source": [
    "<img src=\"http://imgur.com/1ZcRyrc.png\" style=\"float: left; margin: 20px; height: 55px\">  \n",
    "\n",
    "<b> <font size='5'>  \n",
    "ELEC PRICE PREDICTION CAPSTONE:</font>  \n",
    "\n",
    "<font size='4'>Electricity Load Forecasts DataFrame Creation Notebook  \n",
    "&nbsp; &nbsp; &nbsp; &nbsp; &nbsp; &nbsp; &nbsp; &nbsp; (Down-sampled to hourly)\n",
    "</font> </b>\n",
    "\n",
    "<font size='3'>  \n",
    "&nbsp; &nbsp; &nbsp; &nbsp; &nbsp; &nbsp; &nbsp; &nbsp; &nbsp; &nbsp; Manu Kalia Project Submission<br>\n",
    "&nbsp; &nbsp; &nbsp; &nbsp; &nbsp; &nbsp; &nbsp; &nbsp; &nbsp; &nbsp; DSI-7-SF<br>\n",
    "&nbsp; &nbsp; &nbsp; &nbsp; &nbsp; &nbsp; &nbsp; &nbsp; &nbsp; &nbsp; 15-May-2019<br>\n",
    "</font>\n",
    "\n",
    "---\n"
   ]
  },
  {
   "cell_type": "markdown",
   "metadata": {
    "toc": true
   },
   "source": [
    "<h1>Table of Contents<span class=\"tocSkip\"></span></h1>\n",
    "<div class=\"toc\"><ul class=\"toc-item\"><li><span><a href=\"#Imports\" data-toc-modified-id=\"Imports-1\"><span class=\"toc-item-num\">1&nbsp;&nbsp;</span>Imports</a></span></li><li><span><a href=\"#7-Day-Ahead-Demand-Forecast-DataFrame\" data-toc-modified-id=\"7-Day-Ahead-Demand-Forecast-DataFrame-2\"><span class=\"toc-item-num\">2&nbsp;&nbsp;</span>7-Day-Ahead Demand Forecast DataFrame</a></span></li><li><span><a href=\"#2-Day-Ahead-Demand-Forecast-DataFrame\" data-toc-modified-id=\"2-Day-Ahead-Demand-Forecast-DataFrame-3\"><span class=\"toc-item-num\">3&nbsp;&nbsp;</span>2-Day-Ahead Demand Forecast DataFrame</a></span></li><li><span><a href=\"#Day-Ahead-Demand-Forecast-DataFrame\" data-toc-modified-id=\"Day-Ahead-Demand-Forecast-DataFrame-4\"><span class=\"toc-item-num\">4&nbsp;&nbsp;</span>Day-Ahead Demand Forecast DataFrame</a></span></li><li><span><a href=\"#RTM-DataFrame\" data-toc-modified-id=\"RTM-DataFrame-5\"><span class=\"toc-item-num\">5&nbsp;&nbsp;</span>RTM DataFrame</a></span></li><li><span><a href=\"#Join-Forecasts-Into-a-Single-DataFrame\" data-toc-modified-id=\"Join-Forecasts-Into-a-Single-DataFrame-6\"><span class=\"toc-item-num\">6&nbsp;&nbsp;</span>Join Forecasts Into a Single DataFrame</a></span></li></ul></div>"
   ]
  },
  {
   "cell_type": "markdown",
   "metadata": {},
   "source": [
    "---\n",
    "\n",
    "## Imports"
   ]
  },
  {
   "cell_type": "code",
   "execution_count": 1,
   "metadata": {},
   "outputs": [],
   "source": [
    "import pandas as pd\n",
    "import numpy as np\n",
    "\n",
    "import wget, os\n",
    "import time\n",
    "import glob\n",
    "\n",
    "import matplotlib.pyplot as plt\n",
    "import seaborn as sns\n",
    "from pandas.plotting import register_matplotlib_converters\n",
    "register_matplotlib_converters()\n",
    "%matplotlib inline\n",
    "sns.set_style('whitegrid')"
   ]
  },
  {
   "cell_type": "markdown",
   "metadata": {},
   "source": [
    "---\n",
    "\n",
    "## 7-Day-Ahead Demand Forecast DataFrame"
   ]
  },
  {
   "cell_type": "code",
   "execution_count": 2,
   "metadata": {},
   "outputs": [],
   "source": [
    "sev_da_load_orig_cols=['INTERVALSTARTTIME_GMT',\n",
    "                       'OPR_DT',\n",
    "                       'OPR_HR',\n",
    "                       'TAC_AREA_NAME',\n",
    "                       'MW']\n",
    "\n",
    "sev_da_load_new_cols =['start_datetime',\n",
    "                       'date',\n",
    "                       'hr_index',\n",
    "                       'area',\n",
    "                       '7da_load_fcast_mw']\n",
    "\n",
    "sev_da_load_rename_dict = {old: new for old, new in zip(sev_da_load_orig_cols,\n",
    "                                                        sev_da_load_new_cols)}"
   ]
  },
  {
   "cell_type": "code",
   "execution_count": 5,
   "metadata": {},
   "outputs": [],
   "source": [
    "sev_da_load_df = pd.DataFrame(columns=sev_da_load_new_cols)\n",
    "\n",
    "for file in glob.glob('../raw_data/unzipped_caiso/unzipped_caiso_7da_load/*.csv'):\n",
    "    df = pd.read_csv(file, usecols=sev_da_load_orig_cols).rename(index=str,\n",
    "                                                         columns=sev_da_load_rename_dict)\n",
    "    df = df[df.area == 'CA ISO-TAC']\n",
    "    sev_da_load_df = sev_da_load_df.append(df, ignore_index=True)"
   ]
  },
  {
   "cell_type": "code",
   "execution_count": 6,
   "metadata": {},
   "outputs": [
    {
     "data": {
      "text/plain": [
       "(16010, 5)"
      ]
     },
     "execution_count": 6,
     "metadata": {},
     "output_type": "execute_result"
    }
   ],
   "source": [
    "sev_da_load_df.shape"
   ]
  },
  {
   "cell_type": "code",
   "execution_count": 7,
   "metadata": {},
   "outputs": [
    {
     "data": {
      "text/html": [
       "<div>\n",
       "<style scoped>\n",
       "    .dataframe tbody tr th:only-of-type {\n",
       "        vertical-align: middle;\n",
       "    }\n",
       "\n",
       "    .dataframe tbody tr th {\n",
       "        vertical-align: top;\n",
       "    }\n",
       "\n",
       "    .dataframe thead th {\n",
       "        text-align: right;\n",
       "    }\n",
       "</style>\n",
       "<table border=\"1\" class=\"dataframe\">\n",
       "  <thead>\n",
       "    <tr style=\"text-align: right;\">\n",
       "      <th></th>\n",
       "      <th>date</th>\n",
       "      <th>hr_index</th>\n",
       "      <th>area</th>\n",
       "      <th>7da_load_fcast_mw</th>\n",
       "    </tr>\n",
       "    <tr>\n",
       "      <th>start_datetime</th>\n",
       "      <th></th>\n",
       "      <th></th>\n",
       "      <th></th>\n",
       "      <th></th>\n",
       "    </tr>\n",
       "  </thead>\n",
       "  <tbody>\n",
       "    <tr>\n",
       "      <th>2019-01-01 08:00:00+00:00</th>\n",
       "      <td>2019-01-01</td>\n",
       "      <td>1</td>\n",
       "      <td>CA ISO-TAC</td>\n",
       "      <td>21950.86</td>\n",
       "    </tr>\n",
       "    <tr>\n",
       "      <th>2019-01-01 08:00:00+00:00</th>\n",
       "      <td>2019-01-01</td>\n",
       "      <td>1</td>\n",
       "      <td>CA ISO-TAC</td>\n",
       "      <td>21950.86</td>\n",
       "    </tr>\n",
       "    <tr>\n",
       "      <th>2019-01-01 09:00:00+00:00</th>\n",
       "      <td>2019-01-01</td>\n",
       "      <td>2</td>\n",
       "      <td>CA ISO-TAC</td>\n",
       "      <td>21142.38</td>\n",
       "    </tr>\n",
       "    <tr>\n",
       "      <th>2019-01-01 09:00:00+00:00</th>\n",
       "      <td>2019-01-01</td>\n",
       "      <td>2</td>\n",
       "      <td>CA ISO-TAC</td>\n",
       "      <td>21142.38</td>\n",
       "    </tr>\n",
       "    <tr>\n",
       "      <th>2019-01-01 10:00:00+00:00</th>\n",
       "      <td>2019-01-01</td>\n",
       "      <td>3</td>\n",
       "      <td>CA ISO-TAC</td>\n",
       "      <td>20515.26</td>\n",
       "    </tr>\n",
       "  </tbody>\n",
       "</table>\n",
       "</div>"
      ],
      "text/plain": [
       "                                 date hr_index        area  7da_load_fcast_mw\n",
       "start_datetime                                                               \n",
       "2019-01-01 08:00:00+00:00  2019-01-01        1  CA ISO-TAC           21950.86\n",
       "2019-01-01 08:00:00+00:00  2019-01-01        1  CA ISO-TAC           21950.86\n",
       "2019-01-01 09:00:00+00:00  2019-01-01        2  CA ISO-TAC           21142.38\n",
       "2019-01-01 09:00:00+00:00  2019-01-01        2  CA ISO-TAC           21142.38\n",
       "2019-01-01 10:00:00+00:00  2019-01-01        3  CA ISO-TAC           20515.26"
      ]
     },
     "execution_count": 7,
     "metadata": {},
     "output_type": "execute_result"
    }
   ],
   "source": [
    "sev_da_load_df = sev_da_load_df.sort_values(by='start_datetime').reset_index(drop=True)\n",
    "\n",
    "sev_da_load_df['start_datetime'] = pd.to_datetime(sev_da_load_df['start_datetime'])\n",
    "\n",
    "sev_da_load_df.set_index('start_datetime', inplace=True)\n",
    "sev_da_load_df.sort_index(inplace=True)\n",
    "sev_da_load_df.head()"
   ]
  },
  {
   "cell_type": "code",
   "execution_count": 8,
   "metadata": {},
   "outputs": [
    {
     "name": "stdout",
     "output_type": "stream",
     "text": [
      "<class 'pandas.core.frame.DataFrame'>\n",
      "DatetimeIndex: 16010 entries, 2019-01-01 08:00:00+00:00 to 2019-12-01 06:00:00+00:00\n",
      "Data columns (total 4 columns):\n",
      " #   Column             Non-Null Count  Dtype  \n",
      "---  ------             --------------  -----  \n",
      " 0   date               16010 non-null  object \n",
      " 1   hr_index           16010 non-null  object \n",
      " 2   area               16010 non-null  object \n",
      " 3   7da_load_fcast_mw  16010 non-null  float64\n",
      "dtypes: float64(1), object(3)\n",
      "memory usage: 625.4+ KB\n"
     ]
    }
   ],
   "source": [
    "sev_da_load_df.info()"
   ]
  },
  {
   "cell_type": "markdown",
   "metadata": {},
   "source": [
    "---\n",
    "\n",
    "## 2-Day-Ahead Demand Forecast DataFrame"
   ]
  },
  {
   "cell_type": "code",
   "execution_count": 9,
   "metadata": {},
   "outputs": [],
   "source": [
    "two_da_load_orig_cols=['INTERVALSTARTTIME_GMT',\n",
    "                       'OPR_DT',\n",
    "                       'OPR_HR',\n",
    "                       'TAC_AREA_NAME',\n",
    "                       'MW']\n",
    "\n",
    "two_da_load_new_cols =['start_datetime',\n",
    "                       'date',\n",
    "                       'hr_index',\n",
    "                       'area',\n",
    "                       '2da_load_fcast_mw']\n",
    "\n",
    "two_da_load_rename_dict = {old: new for old, new in zip(two_da_load_orig_cols,\n",
    "                                                        two_da_load_new_cols)}"
   ]
  },
  {
   "cell_type": "code",
   "execution_count": 10,
   "metadata": {},
   "outputs": [],
   "source": [
    "two_da_load_df = pd.DataFrame(columns=two_da_load_new_cols)\n",
    "\n",
    "for file in glob.glob('../raw_data/unzipped_caiso/unzipped_caiso_2da_load/*.csv'):\n",
    "    df = pd.read_csv(file, usecols=two_da_load_orig_cols).rename(index=str,\n",
    "                                                         columns=two_da_load_rename_dict)\n",
    "    df = df[df.area == 'CA ISO-TAC']\n",
    "    two_da_load_df = two_da_load_df.append(df, ignore_index=True)"
   ]
  },
  {
   "cell_type": "code",
   "execution_count": 11,
   "metadata": {},
   "outputs": [
    {
     "data": {
      "text/plain": [
       "(16010, 5)"
      ]
     },
     "execution_count": 11,
     "metadata": {},
     "output_type": "execute_result"
    }
   ],
   "source": [
    "two_da_load_df.shape"
   ]
  },
  {
   "cell_type": "code",
   "execution_count": 12,
   "metadata": {},
   "outputs": [
    {
     "data": {
      "text/html": [
       "<div>\n",
       "<style scoped>\n",
       "    .dataframe tbody tr th:only-of-type {\n",
       "        vertical-align: middle;\n",
       "    }\n",
       "\n",
       "    .dataframe tbody tr th {\n",
       "        vertical-align: top;\n",
       "    }\n",
       "\n",
       "    .dataframe thead th {\n",
       "        text-align: right;\n",
       "    }\n",
       "</style>\n",
       "<table border=\"1\" class=\"dataframe\">\n",
       "  <thead>\n",
       "    <tr style=\"text-align: right;\">\n",
       "      <th></th>\n",
       "      <th>date</th>\n",
       "      <th>hr_index</th>\n",
       "      <th>area</th>\n",
       "      <th>2da_load_fcast_mw</th>\n",
       "    </tr>\n",
       "    <tr>\n",
       "      <th>start_datetime</th>\n",
       "      <th></th>\n",
       "      <th></th>\n",
       "      <th></th>\n",
       "      <th></th>\n",
       "    </tr>\n",
       "  </thead>\n",
       "  <tbody>\n",
       "    <tr>\n",
       "      <th>2019-01-01 08:00:00+00:00</th>\n",
       "      <td>2019-01-01</td>\n",
       "      <td>1</td>\n",
       "      <td>CA ISO-TAC</td>\n",
       "      <td>22153.74</td>\n",
       "    </tr>\n",
       "    <tr>\n",
       "      <th>2019-01-01 08:00:00+00:00</th>\n",
       "      <td>2019-01-01</td>\n",
       "      <td>1</td>\n",
       "      <td>CA ISO-TAC</td>\n",
       "      <td>22153.74</td>\n",
       "    </tr>\n",
       "    <tr>\n",
       "      <th>2019-01-01 09:00:00+00:00</th>\n",
       "      <td>2019-01-01</td>\n",
       "      <td>2</td>\n",
       "      <td>CA ISO-TAC</td>\n",
       "      <td>21321.80</td>\n",
       "    </tr>\n",
       "    <tr>\n",
       "      <th>2019-01-01 09:00:00+00:00</th>\n",
       "      <td>2019-01-01</td>\n",
       "      <td>2</td>\n",
       "      <td>CA ISO-TAC</td>\n",
       "      <td>21321.80</td>\n",
       "    </tr>\n",
       "    <tr>\n",
       "      <th>2019-01-01 10:00:00+00:00</th>\n",
       "      <td>2019-01-01</td>\n",
       "      <td>3</td>\n",
       "      <td>CA ISO-TAC</td>\n",
       "      <td>20689.06</td>\n",
       "    </tr>\n",
       "  </tbody>\n",
       "</table>\n",
       "</div>"
      ],
      "text/plain": [
       "                                 date hr_index        area  2da_load_fcast_mw\n",
       "start_datetime                                                               \n",
       "2019-01-01 08:00:00+00:00  2019-01-01        1  CA ISO-TAC           22153.74\n",
       "2019-01-01 08:00:00+00:00  2019-01-01        1  CA ISO-TAC           22153.74\n",
       "2019-01-01 09:00:00+00:00  2019-01-01        2  CA ISO-TAC           21321.80\n",
       "2019-01-01 09:00:00+00:00  2019-01-01        2  CA ISO-TAC           21321.80\n",
       "2019-01-01 10:00:00+00:00  2019-01-01        3  CA ISO-TAC           20689.06"
      ]
     },
     "execution_count": 12,
     "metadata": {},
     "output_type": "execute_result"
    }
   ],
   "source": [
    "two_da_load_df = two_da_load_df.sort_values(by='start_datetime').reset_index(drop=True)\n",
    "\n",
    "two_da_load_df['start_datetime'] = pd.to_datetime(two_da_load_df['start_datetime'])\n",
    "\n",
    "two_da_load_df.set_index('start_datetime', inplace=True)\n",
    "two_da_load_df.sort_index(inplace=True)\n",
    "two_da_load_df.head()"
   ]
  },
  {
   "cell_type": "code",
   "execution_count": 13,
   "metadata": {
    "scrolled": true
   },
   "outputs": [
    {
     "name": "stdout",
     "output_type": "stream",
     "text": [
      "<class 'pandas.core.frame.DataFrame'>\n",
      "DatetimeIndex: 16010 entries, 2019-01-01 08:00:00+00:00 to 2019-12-01 06:00:00+00:00\n",
      "Data columns (total 4 columns):\n",
      " #   Column             Non-Null Count  Dtype  \n",
      "---  ------             --------------  -----  \n",
      " 0   date               16010 non-null  object \n",
      " 1   hr_index           16010 non-null  object \n",
      " 2   area               16010 non-null  object \n",
      " 3   2da_load_fcast_mw  16010 non-null  float64\n",
      "dtypes: float64(1), object(3)\n",
      "memory usage: 625.4+ KB\n"
     ]
    }
   ],
   "source": [
    "two_da_load_df.info()"
   ]
  },
  {
   "cell_type": "markdown",
   "metadata": {},
   "source": [
    "---\n",
    "\n",
    "## Day-Ahead Demand Forecast DataFrame"
   ]
  },
  {
   "cell_type": "code",
   "execution_count": 14,
   "metadata": {},
   "outputs": [],
   "source": [
    "dam_load_orig_cols=['INTERVALSTARTTIME_GMT',\n",
    "                    'OPR_DT',\n",
    "                    'OPR_HR',\n",
    "                    'TAC_AREA_NAME',\n",
    "                    'MW']\n",
    "\n",
    "dam_load_new_cols =['start_datetime',\n",
    "                    'date',\n",
    "                    'hr_index',\n",
    "                    'area',\n",
    "                    'dam_load_fcast_mw']\n",
    "\n",
    "dam_load_rename_dict = {old: new for old, new in zip(dam_load_orig_cols,\n",
    "                                                     dam_load_new_cols)}"
   ]
  },
  {
   "cell_type": "code",
   "execution_count": 16,
   "metadata": {},
   "outputs": [],
   "source": [
    "dam_load_df = pd.DataFrame(columns=dam_load_new_cols)\n",
    "\n",
    "for file in glob.glob('../raw_data/unzipped_caiso/unzipped_caiso_dam_load/*.csv'):\n",
    "    df = pd.read_csv(file, usecols=dam_load_orig_cols).rename(index=str,\n",
    "                                                         columns=dam_load_rename_dict)\n",
    "    df = df[df.area == 'CA ISO-TAC']\n",
    "    dam_load_df = dam_load_df.append(df, ignore_index=True)"
   ]
  },
  {
   "cell_type": "code",
   "execution_count": 17,
   "metadata": {},
   "outputs": [
    {
     "data": {
      "text/plain": [
       "(16010, 5)"
      ]
     },
     "execution_count": 17,
     "metadata": {},
     "output_type": "execute_result"
    }
   ],
   "source": [
    "dam_load_df.shape"
   ]
  },
  {
   "cell_type": "code",
   "execution_count": 18,
   "metadata": {},
   "outputs": [
    {
     "data": {
      "text/html": [
       "<div>\n",
       "<style scoped>\n",
       "    .dataframe tbody tr th:only-of-type {\n",
       "        vertical-align: middle;\n",
       "    }\n",
       "\n",
       "    .dataframe tbody tr th {\n",
       "        vertical-align: top;\n",
       "    }\n",
       "\n",
       "    .dataframe thead th {\n",
       "        text-align: right;\n",
       "    }\n",
       "</style>\n",
       "<table border=\"1\" class=\"dataframe\">\n",
       "  <thead>\n",
       "    <tr style=\"text-align: right;\">\n",
       "      <th></th>\n",
       "      <th>date</th>\n",
       "      <th>hr_index</th>\n",
       "      <th>area</th>\n",
       "      <th>dam_load_fcast_mw</th>\n",
       "    </tr>\n",
       "    <tr>\n",
       "      <th>start_datetime</th>\n",
       "      <th></th>\n",
       "      <th></th>\n",
       "      <th></th>\n",
       "      <th></th>\n",
       "    </tr>\n",
       "  </thead>\n",
       "  <tbody>\n",
       "    <tr>\n",
       "      <th>2019-01-01 08:00:00+00:00</th>\n",
       "      <td>2019-01-01</td>\n",
       "      <td>1</td>\n",
       "      <td>CA ISO-TAC</td>\n",
       "      <td>22362.14</td>\n",
       "    </tr>\n",
       "    <tr>\n",
       "      <th>2019-01-01 08:00:00+00:00</th>\n",
       "      <td>2019-01-01</td>\n",
       "      <td>1</td>\n",
       "      <td>CA ISO-TAC</td>\n",
       "      <td>22362.14</td>\n",
       "    </tr>\n",
       "    <tr>\n",
       "      <th>2019-01-01 09:00:00+00:00</th>\n",
       "      <td>2019-01-01</td>\n",
       "      <td>2</td>\n",
       "      <td>CA ISO-TAC</td>\n",
       "      <td>21443.99</td>\n",
       "    </tr>\n",
       "    <tr>\n",
       "      <th>2019-01-01 09:00:00+00:00</th>\n",
       "      <td>2019-01-01</td>\n",
       "      <td>2</td>\n",
       "      <td>CA ISO-TAC</td>\n",
       "      <td>21443.99</td>\n",
       "    </tr>\n",
       "    <tr>\n",
       "      <th>2019-01-01 10:00:00+00:00</th>\n",
       "      <td>2019-01-01</td>\n",
       "      <td>3</td>\n",
       "      <td>CA ISO-TAC</td>\n",
       "      <td>20802.71</td>\n",
       "    </tr>\n",
       "  </tbody>\n",
       "</table>\n",
       "</div>"
      ],
      "text/plain": [
       "                                 date hr_index        area  dam_load_fcast_mw\n",
       "start_datetime                                                               \n",
       "2019-01-01 08:00:00+00:00  2019-01-01        1  CA ISO-TAC           22362.14\n",
       "2019-01-01 08:00:00+00:00  2019-01-01        1  CA ISO-TAC           22362.14\n",
       "2019-01-01 09:00:00+00:00  2019-01-01        2  CA ISO-TAC           21443.99\n",
       "2019-01-01 09:00:00+00:00  2019-01-01        2  CA ISO-TAC           21443.99\n",
       "2019-01-01 10:00:00+00:00  2019-01-01        3  CA ISO-TAC           20802.71"
      ]
     },
     "execution_count": 18,
     "metadata": {},
     "output_type": "execute_result"
    }
   ],
   "source": [
    "dam_load_df = dam_load_df.sort_values(by='start_datetime').reset_index(drop=True)\n",
    "\n",
    "dam_load_df['start_datetime'] = pd.to_datetime(dam_load_df['start_datetime'])\n",
    "\n",
    "dam_load_df.set_index('start_datetime', inplace=True)\n",
    "dam_load_df.sort_index(inplace=True)\n",
    "dam_load_df.head()"
   ]
  },
  {
   "cell_type": "code",
   "execution_count": 19,
   "metadata": {
    "scrolled": true
   },
   "outputs": [
    {
     "name": "stdout",
     "output_type": "stream",
     "text": [
      "<class 'pandas.core.frame.DataFrame'>\n",
      "DatetimeIndex: 16010 entries, 2019-01-01 08:00:00+00:00 to 2019-12-01 06:00:00+00:00\n",
      "Data columns (total 4 columns):\n",
      " #   Column             Non-Null Count  Dtype  \n",
      "---  ------             --------------  -----  \n",
      " 0   date               16010 non-null  object \n",
      " 1   hr_index           16010 non-null  object \n",
      " 2   area               16010 non-null  object \n",
      " 3   dam_load_fcast_mw  16010 non-null  float64\n",
      "dtypes: float64(1), object(3)\n",
      "memory usage: 625.4+ KB\n"
     ]
    }
   ],
   "source": [
    "dam_load_df.info()"
   ]
  },
  {
   "cell_type": "markdown",
   "metadata": {},
   "source": [
    "---\n",
    "\n",
    "## RTM DataFrame\n",
    "(realtime spot prices, 5-minute realtime settlements only)"
   ]
  },
  {
   "cell_type": "code",
   "execution_count": 21,
   "metadata": {},
   "outputs": [],
   "source": [
    "rtm_load_orig_cols=['INTERVALSTARTTIME_GMT',\n",
    "                    'OPR_DT',\n",
    "                    'OPR_HR',\n",
    "                    'TAC_AREA_NAME',\n",
    "                    'MW']\n",
    "\n",
    "rtm_load_new_cols =['start_datetime',\n",
    "                    'date',\n",
    "                    'hr_index',\n",
    "                    'area',\n",
    "                    'rtm_load_fcast_mw']\n",
    "\n",
    "rtm_load_rename_dict = {old: new for old, new in zip(rtm_load_orig_cols,\n",
    "                                                     rtm_load_new_cols)}"
   ]
  },
  {
   "cell_type": "code",
   "execution_count": 23,
   "metadata": {},
   "outputs": [],
   "source": [
    "rtm_load_df = pd.DataFrame(columns=rtm_load_new_cols)\n",
    "\n",
    "for file in glob.glob('../raw_data/unzipped_caiso/unzipped_caiso_rtm_load/*.csv'):\n",
    "    df = pd.read_csv(file, usecols=rtm_load_orig_cols).rename(index=str,\n",
    "                                                          columns=rtm_load_rename_dict)\n",
    "    df = df[df.area == 'CA ISO-TAC']\n",
    "    rtm_load_df = rtm_load_df.append(df, ignore_index=True)"
   ]
  },
  {
   "cell_type": "code",
   "execution_count": 24,
   "metadata": {},
   "outputs": [
    {
     "data": {
      "text/plain": [
       "(255052, 5)"
      ]
     },
     "execution_count": 24,
     "metadata": {},
     "output_type": "execute_result"
    }
   ],
   "source": [
    "rtm_load_df.shape"
   ]
  },
  {
   "cell_type": "code",
   "execution_count": 25,
   "metadata": {},
   "outputs": [
    {
     "data": {
      "text/html": [
       "<div>\n",
       "<style scoped>\n",
       "    .dataframe tbody tr th:only-of-type {\n",
       "        vertical-align: middle;\n",
       "    }\n",
       "\n",
       "    .dataframe tbody tr th {\n",
       "        vertical-align: top;\n",
       "    }\n",
       "\n",
       "    .dataframe thead th {\n",
       "        text-align: right;\n",
       "    }\n",
       "</style>\n",
       "<table border=\"1\" class=\"dataframe\">\n",
       "  <thead>\n",
       "    <tr style=\"text-align: right;\">\n",
       "      <th></th>\n",
       "      <th>date</th>\n",
       "      <th>hr_index</th>\n",
       "      <th>area</th>\n",
       "      <th>rtm_load_fcast_mw</th>\n",
       "    </tr>\n",
       "    <tr>\n",
       "      <th>start_datetime</th>\n",
       "      <th></th>\n",
       "      <th></th>\n",
       "      <th></th>\n",
       "      <th></th>\n",
       "    </tr>\n",
       "  </thead>\n",
       "  <tbody>\n",
       "    <tr>\n",
       "      <th>2019-01-01 08:00:00+00:00</th>\n",
       "      <td>2019-01-01</td>\n",
       "      <td>1</td>\n",
       "      <td>CA ISO-TAC</td>\n",
       "      <td>21578.0</td>\n",
       "    </tr>\n",
       "    <tr>\n",
       "      <th>2019-01-01 08:00:00+00:00</th>\n",
       "      <td>2019-01-01</td>\n",
       "      <td>1</td>\n",
       "      <td>CA ISO-TAC</td>\n",
       "      <td>21578.0</td>\n",
       "    </tr>\n",
       "    <tr>\n",
       "      <th>2019-01-01 08:00:00+00:00</th>\n",
       "      <td>2019-01-01</td>\n",
       "      <td>1</td>\n",
       "      <td>CA ISO-TAC</td>\n",
       "      <td>21456.0</td>\n",
       "    </tr>\n",
       "    <tr>\n",
       "      <th>2019-01-01 08:00:00+00:00</th>\n",
       "      <td>2019-01-01</td>\n",
       "      <td>1</td>\n",
       "      <td>CA ISO-TAC</td>\n",
       "      <td>21456.0</td>\n",
       "    </tr>\n",
       "    <tr>\n",
       "      <th>2019-01-01 08:05:00+00:00</th>\n",
       "      <td>2019-01-01</td>\n",
       "      <td>1</td>\n",
       "      <td>CA ISO-TAC</td>\n",
       "      <td>21343.0</td>\n",
       "    </tr>\n",
       "  </tbody>\n",
       "</table>\n",
       "</div>"
      ],
      "text/plain": [
       "                                 date hr_index        area  rtm_load_fcast_mw\n",
       "start_datetime                                                               \n",
       "2019-01-01 08:00:00+00:00  2019-01-01        1  CA ISO-TAC            21578.0\n",
       "2019-01-01 08:00:00+00:00  2019-01-01        1  CA ISO-TAC            21578.0\n",
       "2019-01-01 08:00:00+00:00  2019-01-01        1  CA ISO-TAC            21456.0\n",
       "2019-01-01 08:00:00+00:00  2019-01-01        1  CA ISO-TAC            21456.0\n",
       "2019-01-01 08:05:00+00:00  2019-01-01        1  CA ISO-TAC            21343.0"
      ]
     },
     "execution_count": 25,
     "metadata": {},
     "output_type": "execute_result"
    }
   ],
   "source": [
    "rtm_load_df = rtm_load_df.sort_values(by='start_datetime').reset_index(drop=True)\n",
    "\n",
    "rtm_load_df['start_datetime'] = pd.to_datetime(rtm_load_df['start_datetime'])\n",
    "\n",
    "rtm_load_df.set_index('start_datetime', inplace=True)\n",
    "rtm_load_df.sort_index(inplace=True)\n",
    "rtm_load_df.head()"
   ]
  },
  {
   "cell_type": "code",
   "execution_count": 26,
   "metadata": {},
   "outputs": [],
   "source": [
    "rtm_load_df = rtm_load_df.resample('H').mean()"
   ]
  },
  {
   "cell_type": "code",
   "execution_count": 27,
   "metadata": {},
   "outputs": [
    {
     "data": {
      "text/html": [
       "<div>\n",
       "<style scoped>\n",
       "    .dataframe tbody tr th:only-of-type {\n",
       "        vertical-align: middle;\n",
       "    }\n",
       "\n",
       "    .dataframe tbody tr th {\n",
       "        vertical-align: top;\n",
       "    }\n",
       "\n",
       "    .dataframe thead th {\n",
       "        text-align: right;\n",
       "    }\n",
       "</style>\n",
       "<table border=\"1\" class=\"dataframe\">\n",
       "  <thead>\n",
       "    <tr style=\"text-align: right;\">\n",
       "      <th></th>\n",
       "      <th>rtm_load_fcast_mw</th>\n",
       "    </tr>\n",
       "    <tr>\n",
       "      <th>start_datetime</th>\n",
       "      <th></th>\n",
       "    </tr>\n",
       "  </thead>\n",
       "  <tbody>\n",
       "    <tr>\n",
       "      <th>2019-01-01 08:00:00+00:00</th>\n",
       "      <td>21007.4375</td>\n",
       "    </tr>\n",
       "    <tr>\n",
       "      <th>2019-01-01 09:00:00+00:00</th>\n",
       "      <td>20142.1250</td>\n",
       "    </tr>\n",
       "    <tr>\n",
       "      <th>2019-01-01 10:00:00+00:00</th>\n",
       "      <td>19588.5000</td>\n",
       "    </tr>\n",
       "    <tr>\n",
       "      <th>2019-01-01 11:00:00+00:00</th>\n",
       "      <td>19277.5625</td>\n",
       "    </tr>\n",
       "    <tr>\n",
       "      <th>2019-01-01 12:00:00+00:00</th>\n",
       "      <td>19294.3750</td>\n",
       "    </tr>\n",
       "  </tbody>\n",
       "</table>\n",
       "</div>"
      ],
      "text/plain": [
       "                           rtm_load_fcast_mw\n",
       "start_datetime                              \n",
       "2019-01-01 08:00:00+00:00         21007.4375\n",
       "2019-01-01 09:00:00+00:00         20142.1250\n",
       "2019-01-01 10:00:00+00:00         19588.5000\n",
       "2019-01-01 11:00:00+00:00         19277.5625\n",
       "2019-01-01 12:00:00+00:00         19294.3750"
      ]
     },
     "execution_count": 27,
     "metadata": {},
     "output_type": "execute_result"
    }
   ],
   "source": [
    "rtm_load_df.head()"
   ]
  },
  {
   "cell_type": "code",
   "execution_count": 28,
   "metadata": {},
   "outputs": [
    {
     "data": {
      "text/plain": [
       "(8015, 1)"
      ]
     },
     "execution_count": 28,
     "metadata": {},
     "output_type": "execute_result"
    }
   ],
   "source": [
    "rtm_load_df.shape"
   ]
  },
  {
   "cell_type": "markdown",
   "metadata": {},
   "source": [
    "---\n",
    "\n",
    "## Join Forecasts Into a Single DataFrame"
   ]
  },
  {
   "cell_type": "code",
   "execution_count": 29,
   "metadata": {
    "scrolled": true
   },
   "outputs": [
    {
     "data": {
      "text/plain": [
       "(16010, 3)"
      ]
     },
     "execution_count": 29,
     "metadata": {},
     "output_type": "execute_result"
    }
   ],
   "source": [
    "elec_demand_hrly = sev_da_load_df.drop(columns=['area'])\n",
    "elec_demand_hrly.shape"
   ]
  },
  {
   "cell_type": "code",
   "execution_count": 30,
   "metadata": {},
   "outputs": [
    {
     "data": {
      "text/plain": [
       "(32020, 4)"
      ]
     },
     "execution_count": 30,
     "metadata": {},
     "output_type": "execute_result"
    }
   ],
   "source": [
    "elec_demand_hrly = elec_demand_hrly.merge(two_da_load_df[['2da_load_fcast_mw']],\n",
    "                              how='outer',\n",
    "                              left_index = True,\n",
    "                              right_index = True)\n",
    "elec_demand_hrly.shape"
   ]
  },
  {
   "cell_type": "code",
   "execution_count": 31,
   "metadata": {},
   "outputs": [
    {
     "data": {
      "text/plain": [
       "(64040, 5)"
      ]
     },
     "execution_count": 31,
     "metadata": {},
     "output_type": "execute_result"
    }
   ],
   "source": [
    "elec_demand_hrly = elec_demand_hrly.merge(dam_load_df[['dam_load_fcast_mw']],\n",
    "                              how='outer',\n",
    "                              left_index = True,\n",
    "                              right_index = True)\n",
    "elec_demand_hrly.shape"
   ]
  },
  {
   "cell_type": "code",
   "execution_count": 32,
   "metadata": {},
   "outputs": [
    {
     "data": {
      "text/plain": [
       "(64050, 6)"
      ]
     },
     "execution_count": 32,
     "metadata": {},
     "output_type": "execute_result"
    }
   ],
   "source": [
    "elec_demand_hrly = elec_demand_hrly.merge(rtm_load_df[['rtm_load_fcast_mw']],\n",
    "                              how='outer',\n",
    "                              left_index = True,\n",
    "                              right_index = True)\n",
    "elec_demand_hrly.shape"
   ]
  },
  {
   "cell_type": "code",
   "execution_count": 33,
   "metadata": {},
   "outputs": [
    {
     "data": {
      "text/html": [
       "<div>\n",
       "<style scoped>\n",
       "    .dataframe tbody tr th:only-of-type {\n",
       "        vertical-align: middle;\n",
       "    }\n",
       "\n",
       "    .dataframe tbody tr th {\n",
       "        vertical-align: top;\n",
       "    }\n",
       "\n",
       "    .dataframe thead th {\n",
       "        text-align: right;\n",
       "    }\n",
       "</style>\n",
       "<table border=\"1\" class=\"dataframe\">\n",
       "  <thead>\n",
       "    <tr style=\"text-align: right;\">\n",
       "      <th></th>\n",
       "      <th>date</th>\n",
       "      <th>hr_index</th>\n",
       "      <th>7da_load_fcast_mw</th>\n",
       "      <th>2da_load_fcast_mw</th>\n",
       "      <th>dam_load_fcast_mw</th>\n",
       "      <th>rtm_load_fcast_mw</th>\n",
       "    </tr>\n",
       "    <tr>\n",
       "      <th>start_datetime</th>\n",
       "      <th></th>\n",
       "      <th></th>\n",
       "      <th></th>\n",
       "      <th></th>\n",
       "      <th></th>\n",
       "      <th></th>\n",
       "    </tr>\n",
       "  </thead>\n",
       "  <tbody>\n",
       "    <tr>\n",
       "      <th>2019-01-01 08:00:00+00:00</th>\n",
       "      <td>2019-01-01</td>\n",
       "      <td>1</td>\n",
       "      <td>21950.86</td>\n",
       "      <td>22153.74</td>\n",
       "      <td>22362.14</td>\n",
       "      <td>21007.4375</td>\n",
       "    </tr>\n",
       "    <tr>\n",
       "      <th>2019-01-01 08:00:00+00:00</th>\n",
       "      <td>2019-01-01</td>\n",
       "      <td>1</td>\n",
       "      <td>21950.86</td>\n",
       "      <td>22153.74</td>\n",
       "      <td>22362.14</td>\n",
       "      <td>21007.4375</td>\n",
       "    </tr>\n",
       "    <tr>\n",
       "      <th>2019-01-01 08:00:00+00:00</th>\n",
       "      <td>2019-01-01</td>\n",
       "      <td>1</td>\n",
       "      <td>21950.86</td>\n",
       "      <td>22153.74</td>\n",
       "      <td>22362.14</td>\n",
       "      <td>21007.4375</td>\n",
       "    </tr>\n",
       "    <tr>\n",
       "      <th>2019-01-01 08:00:00+00:00</th>\n",
       "      <td>2019-01-01</td>\n",
       "      <td>1</td>\n",
       "      <td>21950.86</td>\n",
       "      <td>22153.74</td>\n",
       "      <td>22362.14</td>\n",
       "      <td>21007.4375</td>\n",
       "    </tr>\n",
       "    <tr>\n",
       "      <th>2019-01-01 08:00:00+00:00</th>\n",
       "      <td>2019-01-01</td>\n",
       "      <td>1</td>\n",
       "      <td>21950.86</td>\n",
       "      <td>22153.74</td>\n",
       "      <td>22362.14</td>\n",
       "      <td>21007.4375</td>\n",
       "    </tr>\n",
       "    <tr>\n",
       "      <th>2019-01-01 08:00:00+00:00</th>\n",
       "      <td>2019-01-01</td>\n",
       "      <td>1</td>\n",
       "      <td>21950.86</td>\n",
       "      <td>22153.74</td>\n",
       "      <td>22362.14</td>\n",
       "      <td>21007.4375</td>\n",
       "    </tr>\n",
       "    <tr>\n",
       "      <th>2019-01-01 08:00:00+00:00</th>\n",
       "      <td>2019-01-01</td>\n",
       "      <td>1</td>\n",
       "      <td>21950.86</td>\n",
       "      <td>22153.74</td>\n",
       "      <td>22362.14</td>\n",
       "      <td>21007.4375</td>\n",
       "    </tr>\n",
       "    <tr>\n",
       "      <th>2019-01-01 08:00:00+00:00</th>\n",
       "      <td>2019-01-01</td>\n",
       "      <td>1</td>\n",
       "      <td>21950.86</td>\n",
       "      <td>22153.74</td>\n",
       "      <td>22362.14</td>\n",
       "      <td>21007.4375</td>\n",
       "    </tr>\n",
       "    <tr>\n",
       "      <th>2019-01-01 09:00:00+00:00</th>\n",
       "      <td>2019-01-01</td>\n",
       "      <td>2</td>\n",
       "      <td>21142.38</td>\n",
       "      <td>21321.80</td>\n",
       "      <td>21443.99</td>\n",
       "      <td>20142.1250</td>\n",
       "    </tr>\n",
       "    <tr>\n",
       "      <th>2019-01-01 09:00:00+00:00</th>\n",
       "      <td>2019-01-01</td>\n",
       "      <td>2</td>\n",
       "      <td>21142.38</td>\n",
       "      <td>21321.80</td>\n",
       "      <td>21443.99</td>\n",
       "      <td>20142.1250</td>\n",
       "    </tr>\n",
       "  </tbody>\n",
       "</table>\n",
       "</div>"
      ],
      "text/plain": [
       "                                 date hr_index  7da_load_fcast_mw  \\\n",
       "start_datetime                                                      \n",
       "2019-01-01 08:00:00+00:00  2019-01-01        1           21950.86   \n",
       "2019-01-01 08:00:00+00:00  2019-01-01        1           21950.86   \n",
       "2019-01-01 08:00:00+00:00  2019-01-01        1           21950.86   \n",
       "2019-01-01 08:00:00+00:00  2019-01-01        1           21950.86   \n",
       "2019-01-01 08:00:00+00:00  2019-01-01        1           21950.86   \n",
       "2019-01-01 08:00:00+00:00  2019-01-01        1           21950.86   \n",
       "2019-01-01 08:00:00+00:00  2019-01-01        1           21950.86   \n",
       "2019-01-01 08:00:00+00:00  2019-01-01        1           21950.86   \n",
       "2019-01-01 09:00:00+00:00  2019-01-01        2           21142.38   \n",
       "2019-01-01 09:00:00+00:00  2019-01-01        2           21142.38   \n",
       "\n",
       "                           2da_load_fcast_mw  dam_load_fcast_mw  \\\n",
       "start_datetime                                                    \n",
       "2019-01-01 08:00:00+00:00           22153.74           22362.14   \n",
       "2019-01-01 08:00:00+00:00           22153.74           22362.14   \n",
       "2019-01-01 08:00:00+00:00           22153.74           22362.14   \n",
       "2019-01-01 08:00:00+00:00           22153.74           22362.14   \n",
       "2019-01-01 08:00:00+00:00           22153.74           22362.14   \n",
       "2019-01-01 08:00:00+00:00           22153.74           22362.14   \n",
       "2019-01-01 08:00:00+00:00           22153.74           22362.14   \n",
       "2019-01-01 08:00:00+00:00           22153.74           22362.14   \n",
       "2019-01-01 09:00:00+00:00           21321.80           21443.99   \n",
       "2019-01-01 09:00:00+00:00           21321.80           21443.99   \n",
       "\n",
       "                           rtm_load_fcast_mw  \n",
       "start_datetime                                \n",
       "2019-01-01 08:00:00+00:00         21007.4375  \n",
       "2019-01-01 08:00:00+00:00         21007.4375  \n",
       "2019-01-01 08:00:00+00:00         21007.4375  \n",
       "2019-01-01 08:00:00+00:00         21007.4375  \n",
       "2019-01-01 08:00:00+00:00         21007.4375  \n",
       "2019-01-01 08:00:00+00:00         21007.4375  \n",
       "2019-01-01 08:00:00+00:00         21007.4375  \n",
       "2019-01-01 08:00:00+00:00         21007.4375  \n",
       "2019-01-01 09:00:00+00:00         20142.1250  \n",
       "2019-01-01 09:00:00+00:00         20142.1250  "
      ]
     },
     "execution_count": 33,
     "metadata": {},
     "output_type": "execute_result"
    }
   ],
   "source": [
    "elec_demand_hrly.head(10)"
   ]
  },
  {
   "cell_type": "code",
   "execution_count": 34,
   "metadata": {},
   "outputs": [
    {
     "data": {
      "text/plain": [
       "date                 10\n",
       "hr_index             10\n",
       "7da_load_fcast_mw    10\n",
       "2da_load_fcast_mw    10\n",
       "dam_load_fcast_mw    10\n",
       "rtm_load_fcast_mw    18\n",
       "dtype: int64"
      ]
     },
     "execution_count": 34,
     "metadata": {},
     "output_type": "execute_result"
    }
   ],
   "source": [
    "elec_demand_hrly.isna().sum()"
   ]
  },
  {
   "cell_type": "code",
   "execution_count": 35,
   "metadata": {},
   "outputs": [
    {
     "data": {
      "text/plain": [
       "(64032, 6)"
      ]
     },
     "execution_count": 35,
     "metadata": {},
     "output_type": "execute_result"
    }
   ],
   "source": [
    "elec_demand_hrly = elec_demand_hrly.dropna()\n",
    "elec_demand_hrly.shape"
   ]
  },
  {
   "cell_type": "code",
   "execution_count": 36,
   "metadata": {},
   "outputs": [
    {
     "data": {
      "text/plain": [
       "date                 0\n",
       "hr_index             0\n",
       "7da_load_fcast_mw    0\n",
       "2da_load_fcast_mw    0\n",
       "dam_load_fcast_mw    0\n",
       "rtm_load_fcast_mw    0\n",
       "dtype: int64"
      ]
     },
     "execution_count": 36,
     "metadata": {},
     "output_type": "execute_result"
    }
   ],
   "source": [
    "elec_demand_hrly.isna().sum()"
   ]
  },
  {
   "cell_type": "code",
   "execution_count": 37,
   "metadata": {},
   "outputs": [],
   "source": [
    "# elec_demand_hrly.to_csv('../data/elec_demand_hrly.csv')"
   ]
  },
  {
   "cell_type": "code",
   "execution_count": 38,
   "metadata": {},
   "outputs": [
    {
     "data": {
      "image/png": "[encoded data removed]",
      "text/plain": [
       "<Figure size 1080x648 with 1 Axes>"
      ]
     },
     "metadata": {},
     "output_type": "display_data"
    }
   ],
   "source": [
    "plt.figure(figsize=(15,9))\n",
    "plt.title('CA Electricty Demand (hrly):  Day-ahead', fontsize=18)\n",
    "\n",
    "# plt.plot(elec_demand_hrly.index,\n",
    "#          elec_demand_hrly['7da_load_fcast_mw'],\n",
    "#          label = '7 DA', alpha=0.5)\n",
    "\n",
    "# plt.plot(elec_demand_hrly.index,\n",
    "#          elec_demand_hrly['2da_load_fcast_mw'],\n",
    "#          label= '2 DA', alpha=0.2)\n",
    "\n",
    "plt.plot(elec_demand_hrly.index,\n",
    "         elec_demand_hrly['dam_load_fcast_mw'],\n",
    "         label = '1 DA', alpha=0.5)\n",
    "\n",
    "# plt.plot(elec_demand_hrly.index,\n",
    "#          elec_demand_hrly['rtm_load_fcast_mw'],\n",
    "#          label = 'Realtime', alpha=0.2)\n",
    "\n",
    "plt.ylabel('Demand in MW', fontsize=18)\n",
    "plt.legend()\n",
    "# plt.savefig('../images/elec_demand_hrly.jpg', bbox_inches='tight')\n",
    "plt.show();"
   ]
  },
  {
   "cell_type": "code",
   "execution_count": null,
   "metadata": {},
   "outputs": [],
   "source": []
  }
 ],
 "metadata": {
  "kernelspec": {
   "display_name": "Python 3",
   "language": "python",
   "name": "python3"
  },
  "language_info": {
   "codemirror_mode": {
    "name": "ipython",
    "version": 3
   },
   "file_extension": ".py",
   "mimetype": "text/x-python",
   "name": "python",
   "nbconvert_exporter": "python",
   "pygments_lexer": "ipython3",
   "version": "3.8.8"
  },
  "toc": {
   "base_numbering": 1,
   "nav_menu": {},
   "number_sections": true,
   "sideBar": true,
   "skip_h1_title": true,
   "title_cell": "Table of Contents",
   "title_sidebar": "Contents",
   "toc_cell": true,
   "toc_position": {
    "height": "calc(100% - 180px)",
    "left": "10px",
    "top": "150px",
    "width": "280.641px"
   },
   "toc_section_display": true,
   "toc_window_display": true
  },
  "varInspector": {
   "cols": {
    "lenName": 16,
    "lenType": 16,
    "lenVar": 40
   },
   "kernels_config": {
    "python": {
     "delete_cmd_postfix": "",
     "delete_cmd_prefix": "del ",
     "library": "var_list.py",
     "varRefreshCmd": "print(var_dic_list())"
    },
    "r": {
     "delete_cmd_postfix": ") ",
     "delete_cmd_prefix": "rm(",
     "library": "var_list.r",
     "varRefreshCmd": "cat(var_dic_list()) "
    }
   },
   "types_to_exclude": [
    "module",
    "function",
    "builtin_function_or_method",
    "instance",
    "_Feature"
   ],
   "window_display": false
  }
 },
 "nbformat": 4,
 "nbformat_minor": 2
}
