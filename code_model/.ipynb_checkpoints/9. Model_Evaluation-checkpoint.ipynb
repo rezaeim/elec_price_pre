{
 "cells": [
  {
   "cell_type": "markdown",
   "metadata": {},
   "source": [
    "<img src=\"http://imgur.com/1ZcRyrc.png\" style=\"float: left; margin: 20px; height: 55px\">  \n",
    "\n",
    "<b> <font size='5'>  \n",
    "ELEC PRICE PREDICTION CAPSTONE:</font>  \n",
    "\n",
    "<font size='4'>Model Results, Predictions, and Evaluation</font> </b>\n",
    "\n",
    "<font size='3'>  \n",
    "&nbsp; &nbsp; &nbsp; &nbsp; &nbsp; &nbsp; &nbsp; &nbsp; &nbsp; &nbsp; Manu Kalia Project Submission<br>\n",
    "&nbsp; &nbsp; &nbsp; &nbsp; &nbsp; &nbsp; &nbsp; &nbsp; &nbsp; &nbsp; DSI-7-SF<br>\n",
    "&nbsp; &nbsp; &nbsp; &nbsp; &nbsp; &nbsp; &nbsp; &nbsp; &nbsp; &nbsp; 15-May-2019<br>\n",
    "</font>\n",
    "\n",
    "---\n"
   ]
  },
  {
   "cell_type": "markdown",
   "metadata": {
    "toc": true
   },
   "source": [
    "<h1>Table of Contents<span class=\"tocSkip\"></span></h1>\n",
    "<div class=\"toc\"><ul class=\"toc-item\"><li><span><a href=\"#Imports\" data-toc-modified-id=\"Imports-1\"><span class=\"toc-item-num\">1&nbsp;&nbsp;</span>Imports</a></span></li><li><span><a href=\"#Function-Definitions\" data-toc-modified-id=\"Function-Definitions-2\"><span class=\"toc-item-num\">2&nbsp;&nbsp;</span>Function Definitions</a></span></li><li><span><a href=\"#Unpickle-Predictions-Variables,-Dataframes\" data-toc-modified-id=\"Unpickle-Predictions-Variables,-Dataframes-3\"><span class=\"toc-item-num\">3&nbsp;&nbsp;</span>Unpickle Predictions Variables, Dataframes</a></span></li><li><span><a href=\"#ARIMA-Predictions,-MSE,-and-$R^2$-Scores\" data-toc-modified-id=\"ARIMA-Predictions,-MSE,-and-$R^2$-Scores-4\"><span class=\"toc-item-num\">4&nbsp;&nbsp;</span>ARIMA Predictions, MSE, and $R^2$ Scores</a></span></li><li><span><a href=\"#SARIMAX-Predictions,-MSE,-and-$R^2$-Scores\" data-toc-modified-id=\"SARIMAX-Predictions,-MSE,-and-$R^2$-Scores-5\"><span class=\"toc-item-num\">5&nbsp;&nbsp;</span>SARIMAX Predictions, MSE, and $R^2$ Scores</a></span></li></ul></div>"
   ]
  },
  {
   "cell_type": "markdown",
   "metadata": {},
   "source": [
    "---\n",
    "\n",
    "## Imports"
   ]
  },
  {
   "cell_type": "code",
   "execution_count": 1,
   "metadata": {},
   "outputs": [],
   "source": [
    "import pandas as pd\n",
    "import numpy as np\n",
    "\n",
    "import pickle\n",
    "import time\n",
    "import glob\n",
    "import pytz"
   ]
  },
  {
   "cell_type": "code",
   "execution_count": 2,
   "metadata": {},
   "outputs": [],
   "source": [
    "import matplotlib.pyplot as plt\n",
    "import seaborn as sns\n",
    "from pandas.plotting import register_matplotlib_converters\n",
    " \n",
    "register_matplotlib_converters()\n",
    "%matplotlib inline\n",
    "sns.set_style('whitegrid')"
   ]
  },
  {
   "cell_type": "markdown",
   "metadata": {},
   "source": [
    "---\n",
    "\n",
    "## Function Definitions"
   ]
  },
  {
   "cell_type": "code",
   "execution_count": 3,
   "metadata": {},
   "outputs": [],
   "source": [
    "# From Matt Brems lecture\n",
    "\n",
    "def MSE(true, predicted):\n",
    "    squared_diff = np.square(true - predicted)\n",
    "    return np.mean(squared_diff)\n",
    "\n",
    "# Root Mean Square Error\n",
    "def RMSE(true, predicted):\n",
    "    squared_diff = np.square(true - predicted)    \n",
    "    return np.sqrt(np.mean(squared_diff))\n",
    "\n",
    "# R-squared, coefficient of determination\n",
    "def R_squared(true, predicted):\n",
    "    true      = np.array(true)\n",
    "    predicted = np.array(predicted)\n",
    "    sum_squared_diff = sum(np.square(true - predicted))\n",
    "    variance  = sum(np.square(true - np.mean(true)))\n",
    "    calc_r2   = 1 - (sum_squared_diff / variance)\n",
    "    return calc_r2"
   ]
  },
  {
   "cell_type": "markdown",
   "metadata": {},
   "source": [
    "---\n",
    "\n",
    "## Unpickle Predictions Variables, Dataframes  \n",
    "\n",
    "\\* Please note:  graphs and $r^2$ scores for dam and hasp rnn model runs are contained in those individual notebooks, numbered `7a`, `7b`, & `7c` for day-ahead market runs, and `8a`, `8b`, & `8c` for hour-ahead market runs, respectively.\n",
    "\n",
    "ARIMA and SARIMAX:\n",
    " - dam_arima406_preds.pkl  \n",
    " - hasp_arima606_preds.pkl  \n",
    "  \n",
    " - dam_sarimax01024_preds.pkl  \n",
    " - hasp_sarimax01024_preds.pkl   "
   ]
  },
  {
   "cell_type": "code",
   "execution_count": 4,
   "metadata": {},
   "outputs": [],
   "source": [
    "with open('../data/pre_processed_df.pkl', 'rb') as f:\n",
    "    df = pickle.load(f)\n",
    "\n",
    "with open('../data/processed/train.pkl', 'rb') as f:\n",
    "    train = pickle.load(f)\n",
    "    \n",
    "with open('../data/processed/test.pkl', 'rb') as f:\n",
    "    test = pickle.load(f)"
   ]
  },
  {
   "cell_type": "markdown",
   "metadata": {},
   "source": [
    "with open('../data/predictions/*.pkl', 'rb') as f:\n",
    "    * = pickle.load(f)"
   ]
  },
  {
   "cell_type": "code",
   "execution_count": 5,
   "metadata": {},
   "outputs": [],
   "source": [
    "with open('../data/predictions/dam_arima406_preds.pkl', 'rb') as f:\n",
    "    dam_arima406_preds = pickle.load(f)\n",
    "    \n",
    "with open('../data/predictions/hasp_arima606_preds.pkl', 'rb') as f:\n",
    "    hasp_arima606_preds = pickle.load(f)\n",
    "\n",
    "with open('../data/predictions/dam_sarimax01024_preds.pkl', 'rb') as f:\n",
    "    dam_sarimax01024_preds = pickle.load(f)\n",
    "    \n",
    "with open('../data/predictions/hasp_sarimax01024_preds.pkl', 'rb') as f:\n",
    "    hasp_sarimax01024_preds = pickle.load(f)\n",
    "    "
   ]
  },
  {
   "cell_type": "markdown",
   "metadata": {},
   "source": [
    "---\n",
    "\n",
    "## ARIMA Predictions, MSE, and $R^2$ Scores"
   ]
  },
  {
   "cell_type": "code",
   "execution_count": 6,
   "metadata": {},
   "outputs": [
    {
     "name": "stdout",
     "output_type": "stream",
     "text": [
      "21800\n",
      "7267\n"
     ]
    }
   ],
   "source": [
    "print(train.shape[0])\n",
    "print(test.shape[0])"
   ]
  },
  {
   "cell_type": "code",
   "execution_count": 8,
   "metadata": {},
   "outputs": [
    {
     "name": "stdout",
     "output_type": "stream",
     "text": [
      "MSE for dam_arima_406_train ... 101.24\n",
      "\n",
      "R-sq for dam_arima_406_train ... 0.7625\n"
     ]
    }
   ],
   "source": [
    "mse_dam_arima406_train = MSE(df[\"dam_price_per_mwh\"][:train.shape[0]], np.array(dam_arima406_preds)[:train.shape[0]])\n",
    "# mse_dam_arima406_test = MSE(df[\"dam_price_per_mwh\"][train.shape[0]:], np.array(dam_arima406_preds)[train.shape[0]:])\n",
    "\n",
    "r2_dam_arima406_train = R_squared(df[\"dam_price_per_mwh\"][:train.shape[0]], np.array(dam_arima406_preds)[:train.shape[0]])\n",
    "# r2_dam_arima406_test = R_squared(df[\"dam_price_per_mwh\"][train.shape[0]:], np.array(dam_arima406_preds)[train.shape[0]:])\n",
    "\n",
    "print(f'MSE for dam_arima_406_train ... {mse_dam_arima406_train:.2f}')\n",
    "# print(f'MSE for dam_arima_406_test ... {mse_dam_arima406_test:.2f}')\n",
    "print()\n",
    "print(f'R-sq for dam_arima_406_train ... {r2_dam_arima406_train:.4f}')\n",
    "# print(f'R-sq for dam_arima_406_test ... {r2_dam_arima406_test:.4f}')\n",
    "\n"
   ]
  },
  {
   "cell_type": "code",
   "execution_count": 10,
   "metadata": {},
   "outputs": [
    {
     "name": "stdout",
     "output_type": "stream",
     "text": [
      "MSE for hasp_arima_606_train ... 991.07\n"
     ]
    },
    {
     "ename": "NameError",
     "evalue": "name 'mse_hasp_arima606_test' is not defined",
     "output_type": "error",
     "traceback": [
      "\u001b[0;31m---------------------------------------------------------------------------\u001b[0m",
      "\u001b[0;31mNameError\u001b[0m                                 Traceback (most recent call last)",
      "\u001b[0;32m/var/folders/zc/lhpyx9cd2pdg5g1k0srmc8880000gp/T/ipykernel_26446/473766657.py\u001b[0m in \u001b[0;36m<module>\u001b[0;34m\u001b[0m\n\u001b[1;32m      6\u001b[0m \u001b[0;34m\u001b[0m\u001b[0m\n\u001b[1;32m      7\u001b[0m \u001b[0mprint\u001b[0m\u001b[0;34m(\u001b[0m\u001b[0;34mf'MSE for hasp_arima_606_train ... {mse_hasp_arima606_train:.2f}'\u001b[0m\u001b[0;34m)\u001b[0m\u001b[0;34m\u001b[0m\u001b[0;34m\u001b[0m\u001b[0m\n\u001b[0;32m----> 8\u001b[0;31m \u001b[0mprint\u001b[0m\u001b[0;34m(\u001b[0m\u001b[0;34mf'MSE for hasp_arima_606_test ... {mse_hasp_arima606_test:.2f}'\u001b[0m\u001b[0;34m)\u001b[0m\u001b[0;34m\u001b[0m\u001b[0;34m\u001b[0m\u001b[0m\n\u001b[0m\u001b[1;32m      9\u001b[0m \u001b[0mprint\u001b[0m\u001b[0;34m(\u001b[0m\u001b[0;34m)\u001b[0m\u001b[0;34m\u001b[0m\u001b[0;34m\u001b[0m\u001b[0m\n\u001b[1;32m     10\u001b[0m \u001b[0mprint\u001b[0m\u001b[0;34m(\u001b[0m\u001b[0;34mf'R-sq for hasp_arima_606_train ... {r2_hasp_arima606_train:.4f}'\u001b[0m\u001b[0;34m)\u001b[0m\u001b[0;34m\u001b[0m\u001b[0;34m\u001b[0m\u001b[0m\n",
      "\u001b[0;31mNameError\u001b[0m: name 'mse_hasp_arima606_test' is not defined"
     ]
    }
   ],
   "source": [
    "mse_hasp_arima606_train = MSE(df[\"hasp_price_per_mwh\"][:train.shape[0]], np.array(hasp_arima606_preds)[:train.shape[0]])\n",
    "# mse_hasp_arima606_test = MSE(df[\"hasp_price_per_mwh\"][train.shape[0]:], np.array(hasp_arima606_preds)[train.shape[0]:])\n",
    "\n",
    "r2_hasp_arima606_train = R_squared(df[\"hasp_price_per_mwh\"][:train.shape[0]], np.array(hasp_arima606_preds)[:train.shape[0]])\n",
    "# r2_hasp_arima606_test = R_squared(df[\"hasp_price_per_mwh\"][train.shape[0]:], np.array(hasp_arima606_preds)[train.shape[0]:])\n",
    "\n",
    "print(f'MSE for hasp_arima_606_train ... {mse_hasp_arima606_train:.2f}')\n",
    "print(f'MSE for hasp_arima_606_test ... {mse_hasp_arima606_test:.2f}')\n",
    "print()\n",
    "print(f'R-sq for hasp_arima_606_train ... {r2_hasp_arima606_train:.4f}')\n",
    "print(f'R-sq for hasp_arima_606_test ... {r2_hasp_arima606_test:.4f}')\n",
    "\n"
   ]
  },
  {
   "cell_type": "markdown",
   "metadata": {},
   "source": [
    "---\n",
    "\n",
    "## SARIMAX Predictions, MSE, and $R^2$ Scores"
   ]
  },
  {
   "cell_type": "code",
   "execution_count": 11,
   "metadata": {},
   "outputs": [
    {
     "name": "stdout",
     "output_type": "stream",
     "text": [
      "MSE for dam_sarimax01024_train ... 105.47\n",
      "R-sq for dam_sarimax01024_train ... 0.7526\n",
      "\n",
      "MSE for hasp_sarimax01024_train ... 1490.58\n",
      "R-sq for hasp_sarimax01024_train ... 0.1114\n"
     ]
    }
   ],
   "source": [
    "mse_dam_sarimax01024_train = MSE(train[\"dam_price_per_mwh\"], np.array(dam_sarimax01024_preds))\n",
    "r2_dam_sarimax01024_train = R_squared(train[\"dam_price_per_mwh\"], np.array(dam_sarimax01024_preds))\n",
    "\n",
    "mse_hasp_sarimax01024_train = MSE(train[\"hasp_price_per_mwh\"], np.array(hasp_sarimax01024_preds))\n",
    "r2_hasp_sarimax01024_train = R_squared(train[\"hasp_price_per_mwh\"], np.array(hasp_sarimax01024_preds))\n",
    "\n",
    "\n",
    "print(f'MSE for dam_sarimax01024_train ... {mse_dam_sarimax01024_train:.2f}')\n",
    "print(f'R-sq for dam_sarimax01024_train ... {r2_dam_sarimax01024_train:.4f}')\n",
    "print()\n",
    "print(f'MSE for hasp_sarimax01024_train ... {mse_hasp_sarimax01024_train:.2f}')\n",
    "print(f'R-sq for hasp_sarimax01024_train ... {r2_hasp_sarimax01024_train:.4f}')\n",
    "\n"
   ]
  },
  {
   "cell_type": "code",
   "execution_count": null,
   "metadata": {},
   "outputs": [],
   "source": []
  }
 ],
 "metadata": {
  "kernelspec": {
   "display_name": "Python 3",
   "language": "python",
   "name": "python3"
  },
  "language_info": {
   "codemirror_mode": {
    "name": "ipython",
    "version": 3
   },
   "file_extension": ".py",
   "mimetype": "text/x-python",
   "name": "python",
   "nbconvert_exporter": "python",
   "pygments_lexer": "ipython3",
   "version": "3.8.8"
  },
  "toc": {
   "base_numbering": 1,
   "nav_menu": {},
   "number_sections": true,
   "sideBar": true,
   "skip_h1_title": true,
   "title_cell": "Table of Contents",
   "title_sidebar": "Contents",
   "toc_cell": true,
   "toc_position": {},
   "toc_section_display": true,
   "toc_window_display": true
  },
  "varInspector": {
   "cols": {
    "lenName": 16,
    "lenType": 16,
    "lenVar": 40
   },
   "kernels_config": {
    "python": {
     "delete_cmd_postfix": "",
     "delete_cmd_prefix": "del ",
     "library": "var_list.py",
     "varRefreshCmd": "print(var_dic_list())"
    },
    "r": {
     "delete_cmd_postfix": ") ",
     "delete_cmd_prefix": "rm(",
     "library": "var_list.r",
     "varRefreshCmd": "cat(var_dic_list()) "
    }
   },
   "types_to_exclude": [
    "module",
    "function",
    "builtin_function_or_method",
    "instance",
    "_Feature"
   ],
   "window_display": false
  }
 },
 "nbformat": 4,
 "nbformat_minor": 2
}
